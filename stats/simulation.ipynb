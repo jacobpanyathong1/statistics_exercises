{
 "cells": [
  {
   "cell_type": "code",
   "execution_count": 10,
   "id": "bbf462e0",
   "metadata": {},
   "outputs": [],
   "source": [
    "%matplotlib inline\n",
    "import numpy as np\n",
    "import pandas as pd\n",
    "\n",
    "import viz # curriculum example visualizations\n",
    "\n",
    "np.random.seed(29)\n",
    "n_simulations = 100_000"
   ]
  },
  {
   "cell_type": "markdown",
   "id": "42e633ea",
   "metadata": {},
   "source": [
    "### How likely is it that you roll doubles when rolling two dice?"
   ]
  },
  {
   "cell_type": "markdown",
   "id": "b8e86a4a",
   "metadata": {},
   "source": [
    "#### Array for rolls"
   ]
  },
  {
   "cell_type": "code",
   "execution_count": null,
   "id": "259f8798",
   "metadata": {},
   "outputs": [],
   "source": [
    "n_dice = 2\n",
    "outcomes = [1, 2, 3, 4, 5, 6]"
   ]
  },
  {
   "cell_type": "code",
   "execution_count": 34,
   "id": "f3f5b79c",
   "metadata": {},
   "outputs": [],
   "source": [
    "n_simulations = nrows = 50"
   ]
  },
  {
   "cell_type": "code",
   "execution_count": 33,
   "id": "10994cac",
   "metadata": {},
   "outputs": [
    {
     "data": {
      "text/plain": [
       "array([[3, 5],\n",
       "       [6, 6],\n",
       "       [1, 2],\n",
       "       [3, 5],\n",
       "       [6, 5],\n",
       "       [1, 3],\n",
       "       [6, 3],\n",
       "       [6, 6],\n",
       "       [5, 6],\n",
       "       [3, 4],\n",
       "       [5, 2],\n",
       "       [4, 2],\n",
       "       [6, 4],\n",
       "       [1, 4],\n",
       "       [6, 6],\n",
       "       [4, 5],\n",
       "       [3, 1],\n",
       "       [5, 3],\n",
       "       [3, 5],\n",
       "       [6, 2],\n",
       "       [4, 1],\n",
       "       [3, 4],\n",
       "       [6, 4],\n",
       "       [6, 2],\n",
       "       [2, 4],\n",
       "       [1, 4],\n",
       "       [6, 4],\n",
       "       [1, 4],\n",
       "       [3, 1],\n",
       "       [4, 4],\n",
       "       [4, 2],\n",
       "       [2, 4],\n",
       "       [3, 6],\n",
       "       [4, 6],\n",
       "       [5, 2],\n",
       "       [4, 2],\n",
       "       [5, 5],\n",
       "       [3, 3],\n",
       "       [4, 2],\n",
       "       [1, 3],\n",
       "       [1, 1],\n",
       "       [2, 1],\n",
       "       [2, 4],\n",
       "       [5, 1],\n",
       "       [3, 6],\n",
       "       [1, 1],\n",
       "       [3, 6],\n",
       "       [6, 4],\n",
       "       [1, 6],\n",
       "       [5, 4],\n",
       "       [6, 6],\n",
       "       [4, 4],\n",
       "       [6, 3],\n",
       "       [6, 4],\n",
       "       [4, 4],\n",
       "       [2, 5],\n",
       "       [5, 3],\n",
       "       [6, 4],\n",
       "       [4, 6],\n",
       "       [1, 3],\n",
       "       [4, 4],\n",
       "       [6, 3],\n",
       "       [6, 4],\n",
       "       [3, 1],\n",
       "       [4, 5],\n",
       "       [1, 2],\n",
       "       [5, 6],\n",
       "       [1, 3],\n",
       "       [5, 4],\n",
       "       [5, 5],\n",
       "       [1, 1],\n",
       "       [4, 6],\n",
       "       [6, 3],\n",
       "       [2, 6],\n",
       "       [4, 4],\n",
       "       [3, 3],\n",
       "       [2, 5],\n",
       "       [5, 4],\n",
       "       [6, 2],\n",
       "       [2, 1],\n",
       "       [3, 1],\n",
       "       [1, 1],\n",
       "       [1, 3],\n",
       "       [4, 4],\n",
       "       [5, 6],\n",
       "       [1, 5],\n",
       "       [5, 4],\n",
       "       [2, 1],\n",
       "       [4, 3],\n",
       "       [1, 2],\n",
       "       [5, 1],\n",
       "       [6, 5],\n",
       "       [3, 6],\n",
       "       [3, 1],\n",
       "       [5, 2],\n",
       "       [5, 3],\n",
       "       [6, 1],\n",
       "       [5, 6],\n",
       "       [2, 3],\n",
       "       [5, 3]])"
      ]
     },
     "execution_count": 33,
     "metadata": {},
     "output_type": "execute_result"
    }
   ],
   "source": [
    "rolls = np.random.choice(outcomes, size=(n_simulations, n_dice))\n",
    "rolls"
   ]
  },
  {
   "cell_type": "code",
   "execution_count": 35,
   "id": "e63f4857",
   "metadata": {},
   "outputs": [
    {
     "data": {
      "text/html": [
       "<div>\n",
       "<style scoped>\n",
       "    .dataframe tbody tr th:only-of-type {\n",
       "        vertical-align: middle;\n",
       "    }\n",
       "\n",
       "    .dataframe tbody tr th {\n",
       "        vertical-align: top;\n",
       "    }\n",
       "\n",
       "    .dataframe thead th {\n",
       "        text-align: right;\n",
       "    }\n",
       "</style>\n",
       "<table border=\"1\" class=\"dataframe\">\n",
       "  <thead>\n",
       "    <tr style=\"text-align: right;\">\n",
       "      <th></th>\n",
       "      <th>0</th>\n",
       "      <th>1</th>\n",
       "    </tr>\n",
       "  </thead>\n",
       "  <tbody>\n",
       "    <tr>\n",
       "      <th>0</th>\n",
       "      <td>3</td>\n",
       "      <td>5</td>\n",
       "    </tr>\n",
       "    <tr>\n",
       "      <th>1</th>\n",
       "      <td>6</td>\n",
       "      <td>6</td>\n",
       "    </tr>\n",
       "    <tr>\n",
       "      <th>2</th>\n",
       "      <td>1</td>\n",
       "      <td>2</td>\n",
       "    </tr>\n",
       "    <tr>\n",
       "      <th>3</th>\n",
       "      <td>3</td>\n",
       "      <td>5</td>\n",
       "    </tr>\n",
       "    <tr>\n",
       "      <th>4</th>\n",
       "      <td>6</td>\n",
       "      <td>5</td>\n",
       "    </tr>\n",
       "  </tbody>\n",
       "</table>\n",
       "</div>"
      ],
      "text/plain": [
       "   0  1\n",
       "0  3  5\n",
       "1  6  6\n",
       "2  1  2\n",
       "3  3  5\n",
       "4  6  5"
      ]
     },
     "execution_count": 35,
     "metadata": {},
     "output_type": "execute_result"
    }
   ],
   "source": [
    "rolls = pd.DataFrame(rolls)\n",
    "rolls.head()"
   ]
  },
  {
   "cell_type": "code",
   "execution_count": 36,
   "id": "db3c3894",
   "metadata": {},
   "outputs": [
    {
     "data": {
      "text/plain": [
       "0.18"
      ]
     },
     "execution_count": 36,
     "metadata": {},
     "output_type": "execute_result"
    }
   ],
   "source": [
    "(rolls[0] == rolls[1]).mean() # When you roll double sample"
   ]
  },
  {
   "cell_type": "code",
   "execution_count": null,
   "id": "486f61dd",
   "metadata": {},
   "outputs": [],
   "source": []
  },
  {
   "cell_type": "markdown",
   "id": "607b41ab",
   "metadata": {},
   "source": [
    "#### If you flip 8 coins, what is the probability of getting exactly 3 heads?\n",
    "- What is the probability of getting more than 3 heads?"
   ]
  },
  {
   "cell_type": "code",
   "execution_count": 15,
   "id": "830fff36",
   "metadata": {},
   "outputs": [],
   "source": [
    "n_coins = 8\n",
    "outcomes = ['H', 'T']"
   ]
  },
  {
   "cell_type": "code",
   "execution_count": 74,
   "id": "65a60958",
   "metadata": {},
   "outputs": [
    {
     "data": {
      "text/plain": [
       "array([[2, 3, 5, 1, 2, 4, 2, 3],\n",
       "       [2, 2, 3, 4, 5, 2, 6, 1],\n",
       "       [5, 1, 3, 6, 2, 6, 4, 5],\n",
       "       [2, 1, 4, 3, 6, 4, 2, 3],\n",
       "       [2, 3, 1, 2, 5, 4, 3, 2],\n",
       "       [4, 3, 3, 3, 4, 4, 4, 5],\n",
       "       [2, 6, 5, 1, 4, 2, 6, 3],\n",
       "       [2, 5, 1, 3, 2, 3, 3, 6],\n",
       "       [2, 6, 5, 5, 4, 4, 3, 3],\n",
       "       [2, 5, 1, 1, 1, 4, 4, 4]])"
      ]
     },
     "execution_count": 74,
     "metadata": {},
     "output_type": "execute_result"
    }
   ],
   "source": [
    "trial_flips = np.random.choice(outcomes, size=(n_simulations, n_coins))\n",
    "\n",
    "trial_flips"
   ]
  },
  {
   "cell_type": "code",
   "execution_count": 17,
   "id": "aa2dff7c",
   "metadata": {},
   "outputs": [
    {
     "data": {
      "text/plain": [
       "array([4, 3, 6, ..., 5, 5, 5])"
      ]
     },
     "execution_count": 17,
     "metadata": {},
     "output_type": "execute_result"
    }
   ],
   "source": [
    "total_flips =(trial_flips == 'H').sum(axis=1)  #Possibility of the coinflip being Heads.\n",
    "total_flips"
   ]
  },
  {
   "cell_type": "markdown",
   "id": "ed4b35f9",
   "metadata": {},
   "source": [
    "##### Landing on Heads more than 3 times"
   ]
  },
  {
   "cell_type": "code",
   "execution_count": 18,
   "id": "b0c9de8d",
   "metadata": {},
   "outputs": [
    {
     "data": {
      "text/plain": [
       "0.63692"
      ]
     },
     "execution_count": 18,
     "metadata": {},
     "output_type": "execute_result"
    }
   ],
   "source": [
    "(total_flips > 3).mean()"
   ]
  },
  {
   "cell_type": "markdown",
   "id": "b9fc15ea",
   "metadata": {},
   "source": [
    "##### Landing on Heads exactly 3 times"
   ]
  },
  {
   "cell_type": "code",
   "execution_count": 19,
   "id": "ae8a216c",
   "metadata": {},
   "outputs": [
    {
     "data": {
      "text/plain": [
       "0.21889"
      ]
     },
     "execution_count": 19,
     "metadata": {},
     "output_type": "execute_result"
    }
   ],
   "source": [
    "(total_flips == 3).mean()"
   ]
  },
  {
   "cell_type": "markdown",
   "id": "9a07689f",
   "metadata": {},
   "source": [
    "There are approximitely 3 web development cohorts for every 1 data science cohort at Codeup. Assuming that Codeup randomly selects an alumni to put on a billboard, what are the odds that the two billboards I drive past both have data science students on them?"
   ]
  },
  {
   "cell_type": "code",
   "execution_count": 26,
   "id": "f45afe57",
   "metadata": {},
   "outputs": [
    {
     "data": {
      "text/plain": [
       "array([[1, 1],\n",
       "       [1, 1],\n",
       "       [1, 1],\n",
       "       ...,\n",
       "       [1, 1],\n",
       "       [1, 2],\n",
       "       [1, 2]])"
      ]
     },
     "execution_count": 26,
     "metadata": {},
     "output_type": "execute_result"
    }
   ],
   "source": [
    "web_dev = 1\n",
    "data_sci = 2\n",
    "roll = np.random.choice([web_dev, data_sci], 1000*2, p=[.75, .25]).reshape(1000, 2)\n",
    "roll"
   ]
  },
  {
   "cell_type": "code",
   "execution_count": 27,
   "id": "526670a0",
   "metadata": {},
   "outputs": [
    {
     "data": {
      "text/plain": [
       "array([[False, False],\n",
       "       [False, False],\n",
       "       [False, False],\n",
       "       ...,\n",
       "       [False, False],\n",
       "       [False,  True],\n",
       "       [False,  True]])"
      ]
     },
     "execution_count": 27,
     "metadata": {},
     "output_type": "execute_result"
    }
   ],
   "source": [
    "double = roll >= 2\n",
    "double"
   ]
  },
  {
   "cell_type": "code",
   "execution_count": 28,
   "id": "132799f6",
   "metadata": {},
   "outputs": [
    {
     "data": {
      "text/plain": [
       "4.3"
      ]
     },
     "execution_count": 28,
     "metadata": {},
     "output_type": "execute_result"
    }
   ],
   "source": [
    "(double.sum(axis=1) == 2 ).mean()*100"
   ]
  },
  {
   "cell_type": "markdown",
   "id": "48014bf5",
   "metadata": {},
   "source": [
    "Codeup students buy, on average, 3 poptart packages with a standard deviation of 1.5 a day from the snack vending machine. If on monday the machine is restocked with 17 poptart packages, how likely is it that I will be able to buy some poptarts on Friday afternoon? (Remember, if you have mean and standard deviation, use the np.random.normal) You'll need to make a judgement call on how to handle some of your values"
   ]
  },
  {
   "cell_type": "code",
   "execution_count": null,
   "id": "73894046",
   "metadata": {},
   "outputs": [],
   "source": [
    "n_trials = nrows = 100\n",
    "\n",
    "codeup_students = 3\n",
    "std_dev = 1.5\n",
    "days = ['monday', 'tuesday', 'wednesday', 'thursday', 'friday']\n",
    "calc = np.random.normal(codeup_students, std_dev, len(days)* n_trials).reshape(100,5)"
   ]
  },
  {
   "cell_type": "code",
   "execution_count": null,
   "id": "83cd2e8b",
   "metadata": {},
   "outputs": [],
   "source": [
    "calc"
   ]
  },
  {
   "cell_type": "code",
   "execution_count": null,
   "id": "2c4f39b0",
   "metadata": {},
   "outputs": [],
   "source": [
    "round(calc.sum(axis=1).mean(), 3) # mean of calc sum"
   ]
  },
  {
   "cell_type": "markdown",
   "id": "65565a2d",
   "metadata": {},
   "source": [
    "Compare Heights\n",
    "\n",
    "Men have an average height of 178 cm and standard deviation of 8cm.\n",
    "Women have a mean of 170, sd = 6cm.\n",
    "Since you have means and standard deviations, you can use np.random.normal to generate observations.\n",
    "If a man and woman are chosen at random, what is the likelihood the woman is taller than the man?"
   ]
  },
  {
   "cell_type": "code",
   "execution_count": null,
   "id": "362931a3",
   "metadata": {},
   "outputs": [],
   "source": [
    "n_trials = 1000\n",
    "men_avg = 178\n",
    "men_stddev = 8\n",
    "women_avg = 170\n",
    "women_stddev =6\n",
    "\n",
    "men_trial = np.random.normal(men_avg, men_stddev, n_trials).reshape(1000,1)\n",
    "women_trial = np.random.normal(women_avg, women_stddev, n_trials).reshape(1000,1)"
   ]
  },
  {
   "cell_type": "code",
   "execution_count": null,
   "id": "54e0a4d2",
   "metadata": {},
   "outputs": [],
   "source": [
    "men_trial"
   ]
  },
  {
   "cell_type": "code",
   "execution_count": null,
   "id": "867296e9",
   "metadata": {},
   "outputs": [],
   "source": [
    "women_trial"
   ]
  },
  {
   "cell_type": "code",
   "execution_count": null,
   "id": "02e595d3",
   "metadata": {},
   "outputs": [],
   "source": [
    "trials = np.append(men_trial, women_trial,axis=1)"
   ]
  },
  {
   "cell_type": "code",
   "execution_count": null,
   "id": "8aa43273",
   "metadata": {},
   "outputs": [],
   "source": [
    "trials"
   ]
  },
  {
   "cell_type": "code",
   "execution_count": null,
   "id": "7d3c2950",
   "metadata": {},
   "outputs": [],
   "source": [
    "calculation_men_women = men_trial<women_trial\n",
    "calculation_men_women.sum(axis=0).mean()/len(calculation_men_women)*100"
   ]
  },
  {
   "cell_type": "markdown",
   "id": "ff6a7648",
   "metadata": {},
   "source": [
    "When installing anaconda on a student's computer, there's a 1 in 250 chance that the download is corrupted and the installation fails. What are the odds that after having 50 students download anaconda, no one has an installation issue? 100 students?\n",
    "\n",
    "What is the probability that we observe an installation issue within the first 150 students that download anaconda?"
   ]
  },
  {
   "cell_type": "code",
   "execution_count": 82,
   "id": "bedeca2a",
   "metadata": {},
   "outputs": [],
   "source": [
    "anac = .004 # Probability of corruption\n",
    "students = 50\n",
    "outcomes = ['S', 'F']\n",
    "n_students = 50\n",
    "    \n"
   ]
  },
  {
   "cell_type": "code",
   "execution_count": 92,
   "id": "1325daea",
   "metadata": {},
   "outputs": [
    {
     "data": {
      "text/plain": [
       "array([['S', 'S', 'S', 'S', 'S', 'S', 'S', 'S', 'S', 'S', 'S', 'S', 'S',\n",
       "        'S', 'S', 'S', 'S', 'S', 'S', 'S', 'S', 'S', 'S', 'S', 'S', 'S',\n",
       "        'S', 'S', 'S', 'S', 'S', 'S', 'S', 'S', 'S', 'S', 'S', 'S', 'S',\n",
       "        'S', 'S', 'S', 'S', 'S', 'S', 'S', 'S', 'S', 'S', 'S'],\n",
       "       ['S', 'S', 'S', 'S', 'S', 'S', 'S', 'S', 'S', 'S', 'S', 'S', 'S',\n",
       "        'S', 'S', 'S', 'S', 'S', 'S', 'S', 'S', 'S', 'S', 'S', 'S', 'S',\n",
       "        'S', 'S', 'S', 'S', 'S', 'S', 'S', 'S', 'S', 'S', 'S', 'S', 'S',\n",
       "        'S', 'S', 'S', 'S', 'S', 'S', 'S', 'S', 'S', 'S', 'S'],\n",
       "       ['S', 'S', 'S', 'S', 'S', 'S', 'S', 'S', 'S', 'S', 'S', 'S', 'S',\n",
       "        'S', 'S', 'S', 'S', 'S', 'S', 'S', 'S', 'S', 'S', 'S', 'S', 'S',\n",
       "        'S', 'S', 'S', 'S', 'S', 'S', 'S', 'S', 'S', 'S', 'S', 'S', 'S',\n",
       "        'S', 'S', 'S', 'S', 'S', 'S', 'S', 'S', 'S', 'S', 'S'],\n",
       "       ['S', 'S', 'S', 'S', 'S', 'S', 'S', 'S', 'S', 'S', 'S', 'S', 'S',\n",
       "        'S', 'S', 'S', 'S', 'S', 'S', 'S', 'S', 'S', 'S', 'S', 'S', 'S',\n",
       "        'S', 'S', 'S', 'S', 'S', 'S', 'S', 'S', 'S', 'S', 'S', 'S', 'S',\n",
       "        'S', 'S', 'S', 'S', 'S', 'S', 'S', 'S', 'S', 'S', 'S'],\n",
       "       ['S', 'S', 'S', 'S', 'S', 'S', 'S', 'S', 'S', 'S', 'S', 'S', 'S',\n",
       "        'S', 'S', 'S', 'S', 'S', 'S', 'S', 'S', 'S', 'S', 'S', 'S', 'F',\n",
       "        'S', 'S', 'S', 'S', 'S', 'F', 'S', 'S', 'S', 'S', 'S', 'S', 'S',\n",
       "        'S', 'S', 'S', 'S', 'F', 'S', 'S', 'S', 'S', 'S', 'S'],\n",
       "       ['S', 'S', 'S', 'S', 'S', 'S', 'S', 'S', 'S', 'S', 'S', 'S', 'S',\n",
       "        'S', 'S', 'S', 'S', 'S', 'S', 'S', 'S', 'S', 'S', 'S', 'S', 'S',\n",
       "        'S', 'S', 'S', 'S', 'S', 'S', 'S', 'S', 'S', 'S', 'S', 'S', 'S',\n",
       "        'S', 'S', 'S', 'S', 'S', 'S', 'S', 'S', 'S', 'S', 'S'],\n",
       "       ['S', 'S', 'S', 'S', 'S', 'S', 'S', 'S', 'S', 'S', 'S', 'S', 'S',\n",
       "        'S', 'S', 'S', 'S', 'S', 'S', 'S', 'S', 'S', 'S', 'S', 'S', 'S',\n",
       "        'S', 'S', 'S', 'S', 'S', 'S', 'S', 'S', 'S', 'F', 'S', 'S', 'S',\n",
       "        'S', 'S', 'S', 'S', 'S', 'S', 'S', 'S', 'S', 'S', 'S'],\n",
       "       ['S', 'S', 'S', 'S', 'S', 'S', 'S', 'S', 'S', 'S', 'S', 'S', 'S',\n",
       "        'S', 'S', 'S', 'S', 'S', 'S', 'S', 'S', 'S', 'S', 'S', 'S', 'S',\n",
       "        'S', 'S', 'S', 'S', 'S', 'S', 'S', 'S', 'S', 'S', 'S', 'S', 'S',\n",
       "        'S', 'S', 'S', 'S', 'S', 'S', 'S', 'S', 'S', 'S', 'S'],\n",
       "       ['S', 'S', 'S', 'S', 'S', 'S', 'S', 'S', 'S', 'S', 'S', 'S', 'S',\n",
       "        'S', 'S', 'S', 'S', 'S', 'S', 'S', 'S', 'S', 'S', 'S', 'S', 'S',\n",
       "        'S', 'S', 'S', 'S', 'S', 'S', 'F', 'S', 'S', 'S', 'S', 'S', 'S',\n",
       "        'S', 'S', 'S', 'S', 'S', 'S', 'S', 'S', 'S', 'S', 'S'],\n",
       "       ['S', 'S', 'S', 'S', 'S', 'S', 'S', 'S', 'S', 'S', 'S', 'S', 'S',\n",
       "        'S', 'S', 'S', 'S', 'S', 'S', 'S', 'S', 'S', 'S', 'S', 'S', 'S',\n",
       "        'S', 'S', 'S', 'S', 'S', 'S', 'S', 'S', 'S', 'S', 'S', 'S', 'S',\n",
       "        'S', 'S', 'S', 'S', 'S', 'S', 'S', 'S', 'S', 'S', 'S']],\n",
       "      dtype='<U1')"
      ]
     },
     "execution_count": 92,
     "metadata": {},
     "output_type": "execute_result"
    }
   ],
   "source": [
    "downloads = np.random.choice(outcomes, size = (n_simulations, n_students), p=[249/250, 1/250])\n",
    "downloads"
   ]
  },
  {
   "cell_type": "code",
   "execution_count": 93,
   "id": "831f5d58",
   "metadata": {},
   "outputs": [
    {
     "data": {
      "text/plain": [
       "array([50, 50, 50, 50, 47, 50, 49, 50, 49, 50])"
      ]
     },
     "execution_count": 93,
     "metadata": {},
     "output_type": "execute_result"
    }
   ],
   "source": [
    "(downloads =='S').sum(axis=1)"
   ]
  },
  {
   "cell_type": "markdown",
   "id": "6781feba",
   "metadata": {},
   "source": [
    "#### 50 Installs"
   ]
  },
  {
   "cell_type": "code",
   "execution_count": 94,
   "id": "e83bff03",
   "metadata": {},
   "outputs": [
    {
     "data": {
      "text/plain": [
       "0.7"
      ]
     },
     "execution_count": 94,
     "metadata": {},
     "output_type": "execute_result"
    }
   ],
   "source": [
    "((downloads == 'S').sum(axis=1) ==50).mean()"
   ]
  },
  {
   "cell_type": "markdown",
   "id": "d88ec43d",
   "metadata": {},
   "source": [
    "#### 100 installs"
   ]
  },
  {
   "cell_type": "code",
   "execution_count": 98,
   "id": "9c1a6212",
   "metadata": {},
   "outputs": [
    {
     "data": {
      "text/plain": [
       "array([['S', 'S', 'S', 'S', 'S', 'S', 'S', 'S', 'S', 'S', 'S', 'S', 'S',\n",
       "        'S', 'S', 'S', 'S', 'S', 'S', 'S', 'S', 'S', 'S', 'S', 'S', 'S',\n",
       "        'S', 'S', 'S', 'S', 'S', 'S', 'S', 'S', 'S', 'S', 'S', 'S', 'S',\n",
       "        'S', 'S', 'S', 'S', 'S', 'S', 'S', 'S', 'S', 'S', 'S', 'S', 'S',\n",
       "        'S', 'S', 'S', 'S', 'S', 'S', 'S', 'S', 'S', 'S', 'S', 'S', 'S',\n",
       "        'S', 'S', 'S', 'S', 'S', 'S', 'S', 'S', 'S', 'S', 'S', 'S', 'S',\n",
       "        'S', 'S', 'S', 'S', 'S', 'S', 'S', 'S', 'S', 'S', 'S', 'S', 'S',\n",
       "        'S', 'S', 'S', 'S', 'S', 'S', 'S', 'S', 'S'],\n",
       "       ['S', 'S', 'S', 'S', 'S', 'S', 'S', 'S', 'S', 'S', 'S', 'S', 'S',\n",
       "        'S', 'S', 'S', 'S', 'S', 'S', 'S', 'S', 'S', 'S', 'S', 'S', 'S',\n",
       "        'S', 'S', 'S', 'S', 'S', 'S', 'S', 'S', 'S', 'S', 'S', 'S', 'S',\n",
       "        'S', 'S', 'S', 'S', 'S', 'S', 'S', 'F', 'S', 'S', 'S', 'S', 'S',\n",
       "        'S', 'S', 'S', 'S', 'S', 'S', 'S', 'S', 'S', 'S', 'S', 'S', 'S',\n",
       "        'S', 'S', 'S', 'S', 'S', 'S', 'S', 'S', 'S', 'S', 'S', 'S', 'S',\n",
       "        'S', 'S', 'S', 'S', 'S', 'S', 'S', 'S', 'S', 'S', 'S', 'S', 'S',\n",
       "        'S', 'S', 'S', 'S', 'S', 'S', 'S', 'S', 'S'],\n",
       "       ['S', 'S', 'S', 'S', 'S', 'S', 'S', 'S', 'S', 'S', 'S', 'S', 'S',\n",
       "        'S', 'S', 'S', 'S', 'S', 'S', 'S', 'S', 'S', 'F', 'S', 'S', 'S',\n",
       "        'S', 'S', 'S', 'S', 'S', 'S', 'S', 'S', 'S', 'S', 'S', 'S', 'S',\n",
       "        'S', 'S', 'S', 'S', 'S', 'F', 'S', 'S', 'S', 'S', 'S', 'S', 'S',\n",
       "        'S', 'S', 'S', 'S', 'S', 'S', 'S', 'S', 'S', 'S', 'S', 'S', 'S',\n",
       "        'S', 'S', 'S', 'S', 'S', 'S', 'S', 'S', 'S', 'S', 'S', 'S', 'S',\n",
       "        'S', 'S', 'S', 'S', 'S', 'S', 'S', 'S', 'S', 'S', 'S', 'S', 'S',\n",
       "        'S', 'S', 'S', 'S', 'S', 'S', 'S', 'S', 'S'],\n",
       "       ['S', 'S', 'S', 'S', 'S', 'S', 'S', 'S', 'S', 'S', 'S', 'S', 'S',\n",
       "        'S', 'S', 'S', 'S', 'S', 'S', 'S', 'F', 'S', 'S', 'S', 'S', 'S',\n",
       "        'S', 'S', 'S', 'S', 'S', 'S', 'S', 'S', 'S', 'S', 'S', 'S', 'S',\n",
       "        'S', 'S', 'S', 'S', 'S', 'S', 'S', 'S', 'S', 'S', 'S', 'S', 'S',\n",
       "        'S', 'S', 'S', 'S', 'S', 'S', 'S', 'S', 'S', 'S', 'S', 'S', 'S',\n",
       "        'S', 'S', 'S', 'S', 'S', 'S', 'S', 'S', 'S', 'S', 'S', 'S', 'S',\n",
       "        'S', 'S', 'S', 'S', 'S', 'S', 'S', 'S', 'S', 'S', 'S', 'S', 'S',\n",
       "        'S', 'S', 'S', 'S', 'S', 'S', 'S', 'S', 'S'],\n",
       "       ['S', 'S', 'S', 'S', 'S', 'S', 'S', 'S', 'S', 'S', 'S', 'S', 'S',\n",
       "        'S', 'S', 'S', 'S', 'S', 'S', 'S', 'S', 'S', 'S', 'S', 'S', 'S',\n",
       "        'S', 'S', 'S', 'S', 'S', 'S', 'S', 'S', 'S', 'S', 'S', 'S', 'S',\n",
       "        'S', 'S', 'S', 'S', 'S', 'S', 'S', 'S', 'S', 'S', 'S', 'S', 'S',\n",
       "        'S', 'S', 'S', 'S', 'S', 'S', 'S', 'S', 'S', 'S', 'S', 'S', 'S',\n",
       "        'S', 'S', 'S', 'S', 'S', 'S', 'S', 'S', 'S', 'S', 'S', 'S', 'S',\n",
       "        'S', 'S', 'S', 'S', 'S', 'S', 'S', 'S', 'S', 'S', 'S', 'S', 'S',\n",
       "        'S', 'S', 'S', 'S', 'S', 'S', 'S', 'S', 'S'],\n",
       "       ['S', 'S', 'S', 'S', 'S', 'S', 'S', 'S', 'S', 'S', 'S', 'S', 'S',\n",
       "        'S', 'S', 'S', 'S', 'S', 'S', 'S', 'S', 'S', 'S', 'S', 'S', 'S',\n",
       "        'S', 'S', 'S', 'S', 'S', 'S', 'S', 'S', 'S', 'S', 'S', 'S', 'S',\n",
       "        'S', 'S', 'S', 'S', 'S', 'S', 'S', 'S', 'S', 'S', 'S', 'S', 'S',\n",
       "        'S', 'S', 'S', 'S', 'S', 'S', 'S', 'S', 'S', 'S', 'S', 'S', 'S',\n",
       "        'S', 'S', 'S', 'S', 'S', 'S', 'S', 'S', 'S', 'S', 'S', 'S', 'S',\n",
       "        'S', 'S', 'S', 'S', 'S', 'S', 'S', 'S', 'S', 'S', 'S', 'S', 'S',\n",
       "        'S', 'S', 'S', 'S', 'S', 'S', 'S', 'S', 'S'],\n",
       "       ['S', 'S', 'S', 'S', 'S', 'S', 'S', 'S', 'S', 'S', 'S', 'S', 'S',\n",
       "        'S', 'S', 'S', 'S', 'S', 'S', 'S', 'S', 'S', 'S', 'S', 'S', 'S',\n",
       "        'S', 'S', 'S', 'S', 'S', 'S', 'S', 'S', 'S', 'S', 'S', 'S', 'S',\n",
       "        'S', 'S', 'S', 'S', 'S', 'S', 'S', 'S', 'S', 'S', 'S', 'S', 'S',\n",
       "        'S', 'S', 'S', 'F', 'S', 'F', 'S', 'S', 'S', 'S', 'S', 'S', 'S',\n",
       "        'S', 'S', 'S', 'S', 'S', 'S', 'S', 'S', 'S', 'S', 'S', 'S', 'S',\n",
       "        'F', 'S', 'S', 'S', 'S', 'S', 'S', 'S', 'S', 'S', 'S', 'S', 'S',\n",
       "        'S', 'S', 'S', 'S', 'S', 'S', 'S', 'S', 'S'],\n",
       "       ['S', 'S', 'S', 'S', 'S', 'S', 'S', 'S', 'S', 'S', 'S', 'S', 'S',\n",
       "        'S', 'S', 'S', 'S', 'S', 'S', 'S', 'S', 'S', 'S', 'S', 'S', 'S',\n",
       "        'S', 'S', 'S', 'S', 'S', 'S', 'S', 'S', 'S', 'S', 'S', 'S', 'S',\n",
       "        'S', 'S', 'S', 'S', 'S', 'S', 'S', 'S', 'S', 'S', 'S', 'S', 'S',\n",
       "        'S', 'S', 'S', 'S', 'S', 'S', 'S', 'S', 'S', 'S', 'S', 'S', 'S',\n",
       "        'S', 'S', 'S', 'S', 'S', 'S', 'S', 'S', 'S', 'S', 'S', 'S', 'S',\n",
       "        'S', 'S', 'S', 'S', 'S', 'S', 'S', 'S', 'S', 'S', 'S', 'S', 'S',\n",
       "        'S', 'S', 'S', 'S', 'S', 'S', 'S', 'S', 'S'],\n",
       "       ['S', 'S', 'S', 'S', 'S', 'S', 'S', 'S', 'S', 'S', 'S', 'S', 'S',\n",
       "        'S', 'S', 'S', 'S', 'S', 'S', 'S', 'S', 'S', 'S', 'S', 'S', 'S',\n",
       "        'S', 'S', 'S', 'S', 'S', 'S', 'S', 'S', 'S', 'S', 'S', 'S', 'S',\n",
       "        'S', 'S', 'S', 'S', 'S', 'S', 'S', 'S', 'S', 'S', 'S', 'S', 'S',\n",
       "        'S', 'S', 'S', 'S', 'S', 'S', 'S', 'S', 'S', 'S', 'S', 'S', 'S',\n",
       "        'S', 'S', 'S', 'S', 'S', 'S', 'S', 'S', 'S', 'S', 'S', 'S', 'S',\n",
       "        'S', 'S', 'S', 'S', 'S', 'S', 'S', 'S', 'S', 'S', 'S', 'S', 'S',\n",
       "        'S', 'S', 'S', 'S', 'S', 'S', 'S', 'S', 'S'],\n",
       "       ['S', 'S', 'S', 'S', 'S', 'S', 'S', 'S', 'S', 'S', 'S', 'S', 'S',\n",
       "        'S', 'S', 'S', 'S', 'S', 'S', 'S', 'S', 'S', 'S', 'S', 'S', 'S',\n",
       "        'S', 'S', 'S', 'S', 'S', 'S', 'S', 'S', 'S', 'S', 'S', 'S', 'S',\n",
       "        'S', 'S', 'S', 'S', 'S', 'S', 'S', 'S', 'S', 'S', 'S', 'S', 'S',\n",
       "        'S', 'S', 'S', 'S', 'S', 'S', 'S', 'S', 'S', 'S', 'S', 'S', 'S',\n",
       "        'S', 'S', 'S', 'S', 'S', 'S', 'S', 'S', 'S', 'S', 'S', 'S', 'S',\n",
       "        'S', 'S', 'S', 'S', 'S', 'S', 'S', 'S', 'S', 'S', 'S', 'S', 'S',\n",
       "        'S', 'S', 'S', 'S', 'S', 'S', 'S', 'S', 'S']], dtype='<U1')"
      ]
     },
     "execution_count": 98,
     "metadata": {},
     "output_type": "execute_result"
    }
   ],
   "source": [
    "anac = .004 # Probability of corruption\n",
    "students = 50\n",
    "outcomes = ['S', 'F']\n",
    "n_students = 100\n",
    "\n",
    "downloads = np.random.choice(outcomes, size = (n_simulations, n_students), p=[249/250, 1/250])\n",
    "downloads"
   ]
  },
  {
   "cell_type": "code",
   "execution_count": 99,
   "id": "800c188c",
   "metadata": {},
   "outputs": [
    {
     "data": {
      "text/plain": [
       "array([100,  99,  98,  99, 100, 100,  97, 100, 100, 100])"
      ]
     },
     "execution_count": 99,
     "metadata": {},
     "output_type": "execute_result"
    }
   ],
   "source": [
    "(downloads =='S').sum(axis=1)"
   ]
  },
  {
   "cell_type": "code",
   "execution_count": 100,
   "id": "991f5695",
   "metadata": {},
   "outputs": [
    {
     "data": {
      "text/plain": [
       "0.6"
      ]
     },
     "execution_count": 100,
     "metadata": {},
     "output_type": "execute_result"
    }
   ],
   "source": [
    "((downloads == 'S').sum(axis=1) ==100).mean()"
   ]
  },
  {
   "cell_type": "markdown",
   "id": "7d7d9472",
   "metadata": {},
   "source": [
    "#### 150 installs at least 1 fail"
   ]
  },
  {
   "cell_type": "code",
   "execution_count": 101,
   "id": "d7b81ee0",
   "metadata": {},
   "outputs": [
    {
     "data": {
      "text/plain": [
       "0.6"
      ]
     },
     "execution_count": 101,
     "metadata": {},
     "output_type": "execute_result"
    }
   ],
   "source": [
    "outcomes = ['S', 'F']\n",
    "n_students = 150\n",
    "\n",
    "downloads = np.random.choice(outcomes, size = (n_simulations, n_students), p=[249/250, 1/250])\n",
    "((downloads == 'S').sum(axis =1) <n_students).mean()"
   ]
  },
  {
   "cell_type": "code",
   "execution_count": 102,
   "id": "ae251e63",
   "metadata": {},
   "outputs": [
    {
     "data": {
      "text/plain": [
       "array([['S', 'S', 'S', ..., 'S', 'S', 'S'],\n",
       "       ['S', 'S', 'S', ..., 'S', 'S', 'S'],\n",
       "       ['S', 'S', 'S', ..., 'S', 'S', 'S'],\n",
       "       ...,\n",
       "       ['S', 'S', 'S', ..., 'S', 'S', 'S'],\n",
       "       ['S', 'S', 'S', ..., 'S', 'S', 'S'],\n",
       "       ['S', 'S', 'S', ..., 'S', 'S', 'S']], dtype='<U1')"
      ]
     },
     "execution_count": 102,
     "metadata": {},
     "output_type": "execute_result"
    }
   ],
   "source": [
    "downloads = np.random.choice(outcomes, size = (n_simulations, n_students), p=[249/250, 1/250])\n",
    "downloads"
   ]
  },
  {
   "cell_type": "code",
   "execution_count": 106,
   "id": "fcda75d4",
   "metadata": {},
   "outputs": [
    {
     "data": {
      "text/plain": [
       "0.1"
      ]
     },
     "execution_count": 106,
     "metadata": {},
     "output_type": "execute_result"
    }
   ],
   "source": [
    "((downloads == 'S').sum(axis=1) < n_students).mean()"
   ]
  },
  {
   "cell_type": "markdown",
   "id": "b10c061a",
   "metadata": {},
   "source": [
    "## 7. There's a 70% chance on any given day that there will be at least one food truck at Travis Park. However, you haven't seen a food truck there in 3 days. How unlikely is this?"
   ]
  },
  {
   "cell_type": "code",
   "execution_count": 111,
   "id": "daf88ea8",
   "metadata": {},
   "outputs": [],
   "source": [
    "n_days = 3"
   ]
  },
  {
   "cell_type": "code",
   "execution_count": 112,
   "id": "d9c96e33",
   "metadata": {},
   "outputs": [],
   "source": [
    "trucks = np.random.choice([0, 1], size = (n_simulations, n_days), p = [0.3, 0.7])\n"
   ]
  },
  {
   "cell_type": "code",
   "execution_count": 113,
   "id": "8d2140c5",
   "metadata": {},
   "outputs": [
    {
     "data": {
      "text/plain": [
       "array([[0, 1, 1],\n",
       "       [1, 1, 1],\n",
       "       [1, 1, 0],\n",
       "       [1, 1, 1],\n",
       "       [1, 1, 1],\n",
       "       [0, 0, 0],\n",
       "       [0, 0, 1],\n",
       "       [0, 1, 1],\n",
       "       [0, 1, 1],\n",
       "       [1, 1, 1]])"
      ]
     },
     "execution_count": 113,
     "metadata": {},
     "output_type": "execute_result"
    }
   ],
   "source": [
    "trucks"
   ]
  },
  {
   "cell_type": "code",
   "execution_count": 116,
   "id": "2d709709",
   "metadata": {},
   "outputs": [
    {
     "data": {
      "text/plain": [
       "0.1"
      ]
     },
     "execution_count": 116,
     "metadata": {},
     "output_type": "execute_result"
    }
   ],
   "source": [
    "(trucks.sum(axis = 1) == 0).mean()  #Sum of sample mean of trucks appearing each day."
   ]
  },
  {
   "cell_type": "markdown",
   "id": "9f4df1a0",
   "metadata": {},
   "source": [
    "### 8. If 23 people are in the same room, what are the odds that two of them share a birthday? What if it's 20 people? 40?"
   ]
  },
  {
   "cell_type": "code",
   "execution_count": 151,
   "id": "f1870fc4",
   "metadata": {},
   "outputs": [],
   "source": [
    "possible_outcomes = range(0, 365)\n",
    "people = 23 "
   ]
  },
  {
   "cell_type": "code",
   "execution_count": 152,
   "id": "d1d85b46",
   "metadata": {},
   "outputs": [
    {
     "data": {
      "text/plain": [
       "array([[ 52, 271, 321, 136,  31,  10, 283, 355, 357, 330, 344, 316,  79,\n",
       "        206, 360, 208, 289, 285, 323,  36, 254, 268, 185],\n",
       "       [245, 334, 271,  19,  84, 292, 346, 248, 146, 105, 305,   8,  61,\n",
       "         69,  91, 261,  62,   6,  35, 232, 328, 214, 248],\n",
       "       [231, 195, 356,  20, 202,  22, 334,  46, 119, 159, 131, 333,  22,\n",
       "        173, 298, 151, 134, 251, 165, 101, 107,  65,  43],\n",
       "       [238, 299, 175, 209,  82, 301, 115, 361,  80,  95, 256, 194, 308,\n",
       "        195, 192,  88, 109, 104, 232,  97, 319,  43, 140],\n",
       "       [196, 244, 116, 246,   7, 146, 253, 258, 195, 318, 177, 103, 165,\n",
       "        273,  43, 254, 264,  67,  40,  43,  86, 263,  97],\n",
       "       [234, 269, 157,  24, 229, 292, 353, 133, 113, 317, 176, 199, 129,\n",
       "         77, 343, 227, 241,  68,  64, 210,  49,  43, 201],\n",
       "       [121, 209,  94, 336, 145, 362, 250, 344, 314, 126, 233, 101,  10,\n",
       "        240, 116, 233, 153, 265, 107, 360, 308, 239, 246],\n",
       "       [290,  98,  77,  94, 362, 146, 324,  10, 311,   2, 328, 344, 246,\n",
       "        344, 299, 302, 207, 272, 217,  52, 315, 303, 339],\n",
       "       [300, 224, 188, 230, 126, 301,  48, 202, 272, 172,  68, 233, 359,\n",
       "        317, 113, 137, 108, 324, 146,  93, 327, 324, 362],\n",
       "       [ 49, 230,  41, 157, 149, 176,  73,  13, 289, 230, 207, 112, 225,\n",
       "         69,  65, 109, 155, 132, 311, 133,  54,  46,  97]])"
      ]
     },
     "execution_count": 152,
     "metadata": {},
     "output_type": "execute_result"
    }
   ],
   "source": [
    "def cal_formula(possible_outcomes, people):\n",
    "    calculation = np.random.choice(possible_outcomes, size =(n_simulations, people))\n",
    "    return calculation\n",
    "cal_formula(possible_outcomes, people)"
   ]
  },
  {
   "cell_type": "code",
   "execution_count": 153,
   "id": "20f5c33c",
   "metadata": {},
   "outputs": [
    {
     "data": {
      "text/html": [
       "<div>\n",
       "<style scoped>\n",
       "    .dataframe tbody tr th:only-of-type {\n",
       "        vertical-align: middle;\n",
       "    }\n",
       "\n",
       "    .dataframe tbody tr th {\n",
       "        vertical-align: top;\n",
       "    }\n",
       "\n",
       "    .dataframe thead th {\n",
       "        text-align: right;\n",
       "    }\n",
       "</style>\n",
       "<table border=\"1\" class=\"dataframe\">\n",
       "  <thead>\n",
       "    <tr style=\"text-align: right;\">\n",
       "      <th></th>\n",
       "      <th>0</th>\n",
       "      <th>1</th>\n",
       "      <th>2</th>\n",
       "      <th>3</th>\n",
       "      <th>4</th>\n",
       "      <th>5</th>\n",
       "      <th>6</th>\n",
       "      <th>7</th>\n",
       "      <th>8</th>\n",
       "      <th>9</th>\n",
       "      <th>...</th>\n",
       "      <th>13</th>\n",
       "      <th>14</th>\n",
       "      <th>15</th>\n",
       "      <th>16</th>\n",
       "      <th>17</th>\n",
       "      <th>18</th>\n",
       "      <th>19</th>\n",
       "      <th>20</th>\n",
       "      <th>21</th>\n",
       "      <th>22</th>\n",
       "    </tr>\n",
       "  </thead>\n",
       "  <tbody>\n",
       "    <tr>\n",
       "      <th>0</th>\n",
       "      <td>244</td>\n",
       "      <td>263</td>\n",
       "      <td>112</td>\n",
       "      <td>351</td>\n",
       "      <td>353</td>\n",
       "      <td>234</td>\n",
       "      <td>161</td>\n",
       "      <td>323</td>\n",
       "      <td>185</td>\n",
       "      <td>304</td>\n",
       "      <td>...</td>\n",
       "      <td>47</td>\n",
       "      <td>284</td>\n",
       "      <td>147</td>\n",
       "      <td>121</td>\n",
       "      <td>22</td>\n",
       "      <td>142</td>\n",
       "      <td>234</td>\n",
       "      <td>74</td>\n",
       "      <td>287</td>\n",
       "      <td>315</td>\n",
       "    </tr>\n",
       "    <tr>\n",
       "      <th>1</th>\n",
       "      <td>111</td>\n",
       "      <td>225</td>\n",
       "      <td>198</td>\n",
       "      <td>86</td>\n",
       "      <td>0</td>\n",
       "      <td>187</td>\n",
       "      <td>134</td>\n",
       "      <td>223</td>\n",
       "      <td>301</td>\n",
       "      <td>355</td>\n",
       "      <td>...</td>\n",
       "      <td>248</td>\n",
       "      <td>181</td>\n",
       "      <td>147</td>\n",
       "      <td>135</td>\n",
       "      <td>191</td>\n",
       "      <td>116</td>\n",
       "      <td>316</td>\n",
       "      <td>144</td>\n",
       "      <td>127</td>\n",
       "      <td>313</td>\n",
       "    </tr>\n",
       "    <tr>\n",
       "      <th>2</th>\n",
       "      <td>153</td>\n",
       "      <td>77</td>\n",
       "      <td>326</td>\n",
       "      <td>170</td>\n",
       "      <td>263</td>\n",
       "      <td>19</td>\n",
       "      <td>239</td>\n",
       "      <td>20</td>\n",
       "      <td>245</td>\n",
       "      <td>93</td>\n",
       "      <td>...</td>\n",
       "      <td>210</td>\n",
       "      <td>191</td>\n",
       "      <td>244</td>\n",
       "      <td>316</td>\n",
       "      <td>144</td>\n",
       "      <td>180</td>\n",
       "      <td>63</td>\n",
       "      <td>198</td>\n",
       "      <td>290</td>\n",
       "      <td>232</td>\n",
       "    </tr>\n",
       "    <tr>\n",
       "      <th>3</th>\n",
       "      <td>128</td>\n",
       "      <td>359</td>\n",
       "      <td>316</td>\n",
       "      <td>284</td>\n",
       "      <td>44</td>\n",
       "      <td>91</td>\n",
       "      <td>346</td>\n",
       "      <td>121</td>\n",
       "      <td>46</td>\n",
       "      <td>92</td>\n",
       "      <td>...</td>\n",
       "      <td>138</td>\n",
       "      <td>284</td>\n",
       "      <td>348</td>\n",
       "      <td>119</td>\n",
       "      <td>312</td>\n",
       "      <td>7</td>\n",
       "      <td>42</td>\n",
       "      <td>8</td>\n",
       "      <td>12</td>\n",
       "      <td>292</td>\n",
       "    </tr>\n",
       "    <tr>\n",
       "      <th>4</th>\n",
       "      <td>155</td>\n",
       "      <td>248</td>\n",
       "      <td>193</td>\n",
       "      <td>129</td>\n",
       "      <td>307</td>\n",
       "      <td>348</td>\n",
       "      <td>91</td>\n",
       "      <td>208</td>\n",
       "      <td>281</td>\n",
       "      <td>364</td>\n",
       "      <td>...</td>\n",
       "      <td>111</td>\n",
       "      <td>255</td>\n",
       "      <td>190</td>\n",
       "      <td>348</td>\n",
       "      <td>170</td>\n",
       "      <td>50</td>\n",
       "      <td>152</td>\n",
       "      <td>302</td>\n",
       "      <td>228</td>\n",
       "      <td>288</td>\n",
       "    </tr>\n",
       "  </tbody>\n",
       "</table>\n",
       "<p>5 rows × 23 columns</p>\n",
       "</div>"
      ],
      "text/plain": [
       "    0    1    2    3    4    5    6    7    8    9   ...   13   14   15   16  \\\n",
       "0  244  263  112  351  353  234  161  323  185  304  ...   47  284  147  121   \n",
       "1  111  225  198   86    0  187  134  223  301  355  ...  248  181  147  135   \n",
       "2  153   77  326  170  263   19  239   20  245   93  ...  210  191  244  316   \n",
       "3  128  359  316  284   44   91  346  121   46   92  ...  138  284  348  119   \n",
       "4  155  248  193  129  307  348   91  208  281  364  ...  111  255  190  348   \n",
       "\n",
       "    17   18   19   20   21   22  \n",
       "0   22  142  234   74  287  315  \n",
       "1  191  116  316  144  127  313  \n",
       "2  144  180   63  198  290  232  \n",
       "3  312    7   42    8   12  292  \n",
       "4  170   50  152  302  228  288  \n",
       "\n",
       "[5 rows x 23 columns]"
      ]
     },
     "execution_count": 153,
     "metadata": {},
     "output_type": "execute_result"
    }
   ],
   "source": [
    "calculation = pd.DataFrame(calculation) ## DataFrame of calculation\n",
    "calculation.head()"
   ]
  },
  {
   "cell_type": "code",
   "execution_count": 154,
   "id": "91664e97",
   "metadata": {},
   "outputs": [
    {
     "data": {
      "text/plain": [
       "0.6"
      ]
     },
     "execution_count": 154,
     "metadata": {},
     "output_type": "execute_result"
    }
   ],
   "source": [
    "calculation.nunique(axis=1) # unique values of row total\n",
    "(calculation.nunique(axis=1) <23).mean() # odds of 23 people having the same birthday in a room"
   ]
  },
  {
   "cell_type": "code",
   "execution_count": 155,
   "id": "7a5f188e",
   "metadata": {},
   "outputs": [
    {
     "data": {
      "text/plain": [
       "0.7"
      ]
     },
     "execution_count": 155,
     "metadata": {},
     "output_type": "execute_result"
    }
   ],
   "source": [
    "people= 20\n",
    "people_20 = cal_formula(possible_outcomes, people)\n",
    "people_20 = pd.DataFrame(people_20)\n",
    "people_20\n",
    "(people_20.nunique(axis=1) == people).mean()"
   ]
  },
  {
   "cell_type": "code",
   "execution_count": 156,
   "id": "5e2270c0",
   "metadata": {},
   "outputs": [
    {
     "data": {
      "text/html": [
       "<div>\n",
       "<style scoped>\n",
       "    .dataframe tbody tr th:only-of-type {\n",
       "        vertical-align: middle;\n",
       "    }\n",
       "\n",
       "    .dataframe tbody tr th {\n",
       "        vertical-align: top;\n",
       "    }\n",
       "\n",
       "    .dataframe thead th {\n",
       "        text-align: right;\n",
       "    }\n",
       "</style>\n",
       "<table border=\"1\" class=\"dataframe\">\n",
       "  <thead>\n",
       "    <tr style=\"text-align: right;\">\n",
       "      <th></th>\n",
       "      <th>0</th>\n",
       "      <th>1</th>\n",
       "      <th>2</th>\n",
       "      <th>3</th>\n",
       "      <th>4</th>\n",
       "      <th>5</th>\n",
       "      <th>6</th>\n",
       "      <th>7</th>\n",
       "      <th>8</th>\n",
       "      <th>9</th>\n",
       "      <th>...</th>\n",
       "      <th>30</th>\n",
       "      <th>31</th>\n",
       "      <th>32</th>\n",
       "      <th>33</th>\n",
       "      <th>34</th>\n",
       "      <th>35</th>\n",
       "      <th>36</th>\n",
       "      <th>37</th>\n",
       "      <th>38</th>\n",
       "      <th>39</th>\n",
       "    </tr>\n",
       "  </thead>\n",
       "  <tbody>\n",
       "    <tr>\n",
       "      <th>0</th>\n",
       "      <td>56</td>\n",
       "      <td>112</td>\n",
       "      <td>210</td>\n",
       "      <td>303</td>\n",
       "      <td>121</td>\n",
       "      <td>361</td>\n",
       "      <td>117</td>\n",
       "      <td>106</td>\n",
       "      <td>72</td>\n",
       "      <td>322</td>\n",
       "      <td>...</td>\n",
       "      <td>15</td>\n",
       "      <td>105</td>\n",
       "      <td>157</td>\n",
       "      <td>11</td>\n",
       "      <td>304</td>\n",
       "      <td>265</td>\n",
       "      <td>129</td>\n",
       "      <td>357</td>\n",
       "      <td>252</td>\n",
       "      <td>155</td>\n",
       "    </tr>\n",
       "    <tr>\n",
       "      <th>1</th>\n",
       "      <td>241</td>\n",
       "      <td>2</td>\n",
       "      <td>227</td>\n",
       "      <td>294</td>\n",
       "      <td>117</td>\n",
       "      <td>88</td>\n",
       "      <td>50</td>\n",
       "      <td>322</td>\n",
       "      <td>337</td>\n",
       "      <td>141</td>\n",
       "      <td>...</td>\n",
       "      <td>156</td>\n",
       "      <td>111</td>\n",
       "      <td>96</td>\n",
       "      <td>339</td>\n",
       "      <td>109</td>\n",
       "      <td>176</td>\n",
       "      <td>96</td>\n",
       "      <td>198</td>\n",
       "      <td>41</td>\n",
       "      <td>341</td>\n",
       "    </tr>\n",
       "    <tr>\n",
       "      <th>2</th>\n",
       "      <td>184</td>\n",
       "      <td>93</td>\n",
       "      <td>338</td>\n",
       "      <td>318</td>\n",
       "      <td>275</td>\n",
       "      <td>106</td>\n",
       "      <td>104</td>\n",
       "      <td>47</td>\n",
       "      <td>59</td>\n",
       "      <td>212</td>\n",
       "      <td>...</td>\n",
       "      <td>271</td>\n",
       "      <td>73</td>\n",
       "      <td>259</td>\n",
       "      <td>204</td>\n",
       "      <td>110</td>\n",
       "      <td>332</td>\n",
       "      <td>319</td>\n",
       "      <td>209</td>\n",
       "      <td>204</td>\n",
       "      <td>223</td>\n",
       "    </tr>\n",
       "    <tr>\n",
       "      <th>3</th>\n",
       "      <td>321</td>\n",
       "      <td>355</td>\n",
       "      <td>336</td>\n",
       "      <td>53</td>\n",
       "      <td>270</td>\n",
       "      <td>216</td>\n",
       "      <td>131</td>\n",
       "      <td>253</td>\n",
       "      <td>185</td>\n",
       "      <td>31</td>\n",
       "      <td>...</td>\n",
       "      <td>167</td>\n",
       "      <td>21</td>\n",
       "      <td>41</td>\n",
       "      <td>167</td>\n",
       "      <td>196</td>\n",
       "      <td>26</td>\n",
       "      <td>172</td>\n",
       "      <td>317</td>\n",
       "      <td>131</td>\n",
       "      <td>200</td>\n",
       "    </tr>\n",
       "    <tr>\n",
       "      <th>4</th>\n",
       "      <td>74</td>\n",
       "      <td>147</td>\n",
       "      <td>4</td>\n",
       "      <td>249</td>\n",
       "      <td>268</td>\n",
       "      <td>58</td>\n",
       "      <td>3</td>\n",
       "      <td>333</td>\n",
       "      <td>63</td>\n",
       "      <td>150</td>\n",
       "      <td>...</td>\n",
       "      <td>131</td>\n",
       "      <td>49</td>\n",
       "      <td>260</td>\n",
       "      <td>73</td>\n",
       "      <td>110</td>\n",
       "      <td>202</td>\n",
       "      <td>308</td>\n",
       "      <td>201</td>\n",
       "      <td>103</td>\n",
       "      <td>103</td>\n",
       "    </tr>\n",
       "    <tr>\n",
       "      <th>5</th>\n",
       "      <td>113</td>\n",
       "      <td>169</td>\n",
       "      <td>253</td>\n",
       "      <td>10</td>\n",
       "      <td>182</td>\n",
       "      <td>352</td>\n",
       "      <td>27</td>\n",
       "      <td>61</td>\n",
       "      <td>100</td>\n",
       "      <td>317</td>\n",
       "      <td>...</td>\n",
       "      <td>80</td>\n",
       "      <td>309</td>\n",
       "      <td>53</td>\n",
       "      <td>193</td>\n",
       "      <td>313</td>\n",
       "      <td>311</td>\n",
       "      <td>148</td>\n",
       "      <td>166</td>\n",
       "      <td>76</td>\n",
       "      <td>15</td>\n",
       "    </tr>\n",
       "    <tr>\n",
       "      <th>6</th>\n",
       "      <td>44</td>\n",
       "      <td>339</td>\n",
       "      <td>54</td>\n",
       "      <td>236</td>\n",
       "      <td>291</td>\n",
       "      <td>70</td>\n",
       "      <td>236</td>\n",
       "      <td>6</td>\n",
       "      <td>95</td>\n",
       "      <td>30</td>\n",
       "      <td>...</td>\n",
       "      <td>122</td>\n",
       "      <td>118</td>\n",
       "      <td>352</td>\n",
       "      <td>186</td>\n",
       "      <td>306</td>\n",
       "      <td>91</td>\n",
       "      <td>199</td>\n",
       "      <td>8</td>\n",
       "      <td>72</td>\n",
       "      <td>339</td>\n",
       "    </tr>\n",
       "    <tr>\n",
       "      <th>7</th>\n",
       "      <td>71</td>\n",
       "      <td>8</td>\n",
       "      <td>142</td>\n",
       "      <td>168</td>\n",
       "      <td>280</td>\n",
       "      <td>45</td>\n",
       "      <td>81</td>\n",
       "      <td>125</td>\n",
       "      <td>37</td>\n",
       "      <td>55</td>\n",
       "      <td>...</td>\n",
       "      <td>26</td>\n",
       "      <td>263</td>\n",
       "      <td>163</td>\n",
       "      <td>167</td>\n",
       "      <td>77</td>\n",
       "      <td>46</td>\n",
       "      <td>200</td>\n",
       "      <td>321</td>\n",
       "      <td>346</td>\n",
       "      <td>160</td>\n",
       "    </tr>\n",
       "    <tr>\n",
       "      <th>8</th>\n",
       "      <td>56</td>\n",
       "      <td>1</td>\n",
       "      <td>68</td>\n",
       "      <td>302</td>\n",
       "      <td>102</td>\n",
       "      <td>346</td>\n",
       "      <td>274</td>\n",
       "      <td>1</td>\n",
       "      <td>362</td>\n",
       "      <td>27</td>\n",
       "      <td>...</td>\n",
       "      <td>214</td>\n",
       "      <td>273</td>\n",
       "      <td>281</td>\n",
       "      <td>197</td>\n",
       "      <td>15</td>\n",
       "      <td>83</td>\n",
       "      <td>182</td>\n",
       "      <td>52</td>\n",
       "      <td>352</td>\n",
       "      <td>96</td>\n",
       "    </tr>\n",
       "    <tr>\n",
       "      <th>9</th>\n",
       "      <td>213</td>\n",
       "      <td>296</td>\n",
       "      <td>156</td>\n",
       "      <td>356</td>\n",
       "      <td>40</td>\n",
       "      <td>240</td>\n",
       "      <td>119</td>\n",
       "      <td>16</td>\n",
       "      <td>161</td>\n",
       "      <td>147</td>\n",
       "      <td>...</td>\n",
       "      <td>286</td>\n",
       "      <td>62</td>\n",
       "      <td>184</td>\n",
       "      <td>225</td>\n",
       "      <td>116</td>\n",
       "      <td>307</td>\n",
       "      <td>51</td>\n",
       "      <td>21</td>\n",
       "      <td>149</td>\n",
       "      <td>90</td>\n",
       "    </tr>\n",
       "  </tbody>\n",
       "</table>\n",
       "<p>10 rows × 40 columns</p>\n",
       "</div>"
      ],
      "text/plain": [
       "    0    1    2    3    4    5    6    7    8    9   ...   30   31   32   33  \\\n",
       "0   56  112  210  303  121  361  117  106   72  322  ...   15  105  157   11   \n",
       "1  241    2  227  294  117   88   50  322  337  141  ...  156  111   96  339   \n",
       "2  184   93  338  318  275  106  104   47   59  212  ...  271   73  259  204   \n",
       "3  321  355  336   53  270  216  131  253  185   31  ...  167   21   41  167   \n",
       "4   74  147    4  249  268   58    3  333   63  150  ...  131   49  260   73   \n",
       "5  113  169  253   10  182  352   27   61  100  317  ...   80  309   53  193   \n",
       "6   44  339   54  236  291   70  236    6   95   30  ...  122  118  352  186   \n",
       "7   71    8  142  168  280   45   81  125   37   55  ...   26  263  163  167   \n",
       "8   56    1   68  302  102  346  274    1  362   27  ...  214  273  281  197   \n",
       "9  213  296  156  356   40  240  119   16  161  147  ...  286   62  184  225   \n",
       "\n",
       "    34   35   36   37   38   39  \n",
       "0  304  265  129  357  252  155  \n",
       "1  109  176   96  198   41  341  \n",
       "2  110  332  319  209  204  223  \n",
       "3  196   26  172  317  131  200  \n",
       "4  110  202  308  201  103  103  \n",
       "5  313  311  148  166   76   15  \n",
       "6  306   91  199    8   72  339  \n",
       "7   77   46  200  321  346  160  \n",
       "8   15   83  182   52  352   96  \n",
       "9  116  307   51   21  149   90  \n",
       "\n",
       "[10 rows x 40 columns]"
      ]
     },
     "execution_count": 156,
     "metadata": {},
     "output_type": "execute_result"
    }
   ],
   "source": [
    "people= 40\n",
    "people_40 = cal_formula(possible_outcomes, people)\n",
    "people_40 = pd.DataFrame(people_40)\n",
    "people_40"
   ]
  },
  {
   "cell_type": "code",
   "execution_count": 157,
   "id": "f262dfbd",
   "metadata": {},
   "outputs": [
    {
     "data": {
      "text/plain": [
       "0.2"
      ]
     },
     "execution_count": 157,
     "metadata": {},
     "output_type": "execute_result"
    }
   ],
   "source": [
    "(people_40.nunique(axis=1) == people).mean()"
   ]
  },
  {
   "cell_type": "code",
   "execution_count": null,
   "id": "046c3d1b",
   "metadata": {},
   "outputs": [],
   "source": []
  }
 ],
 "metadata": {
  "kernelspec": {
   "display_name": "Python 3 (ipykernel)",
   "language": "python",
   "name": "python3"
  },
  "language_info": {
   "codemirror_mode": {
    "name": "ipython",
    "version": 3
   },
   "file_extension": ".py",
   "mimetype": "text/x-python",
   "name": "python",
   "nbconvert_exporter": "python",
   "pygments_lexer": "ipython3",
   "version": "3.9.13"
  }
 },
 "nbformat": 4,
 "nbformat_minor": 5
}
