{
 "cells": [
  {
   "cell_type": "code",
   "execution_count": 10,
   "id": "bbf462e0",
   "metadata": {},
   "outputs": [],
   "source": [
    "%matplotlib inline\n",
    "import numpy as np\n",
    "import pandas as pd\n",
    "\n",
    "import viz # curriculum example visualizations\n",
    "\n",
    "np.random.seed(29)\n",
    "n_simulations = 100_000"
   ]
  },
  {
   "cell_type": "code",
   "execution_count": 11,
   "id": "f3f5b79c",
   "metadata": {},
   "outputs": [],
   "source": [
    "n_dice = 2\n",
    "outcomes = [1, 2, 3, 4, 5, 6]"
   ]
  },
  {
   "cell_type": "code",
   "execution_count": 12,
   "id": "10994cac",
   "metadata": {},
   "outputs": [
    {
     "data": {
      "text/plain": [
       "array([[6, 4],\n",
       "       [5, 6],\n",
       "       [3, 1],\n",
       "       ...,\n",
       "       [5, 6],\n",
       "       [5, 5],\n",
       "       [6, 5]])"
      ]
     },
     "execution_count": 12,
     "metadata": {},
     "output_type": "execute_result"
    }
   ],
   "source": [
    "rolls = np.random.choice(outcomes, size=(n_simulations, n_dice))\n",
    "rolls"
   ]
  },
  {
   "cell_type": "code",
   "execution_count": 13,
   "id": "e63f4857",
   "metadata": {},
   "outputs": [
    {
     "data": {
      "text/html": [
       "<div>\n",
       "<style scoped>\n",
       "    .dataframe tbody tr th:only-of-type {\n",
       "        vertical-align: middle;\n",
       "    }\n",
       "\n",
       "    .dataframe tbody tr th {\n",
       "        vertical-align: top;\n",
       "    }\n",
       "\n",
       "    .dataframe thead th {\n",
       "        text-align: right;\n",
       "    }\n",
       "</style>\n",
       "<table border=\"1\" class=\"dataframe\">\n",
       "  <thead>\n",
       "    <tr style=\"text-align: right;\">\n",
       "      <th></th>\n",
       "      <th>0</th>\n",
       "      <th>1</th>\n",
       "    </tr>\n",
       "  </thead>\n",
       "  <tbody>\n",
       "    <tr>\n",
       "      <th>0</th>\n",
       "      <td>6</td>\n",
       "      <td>4</td>\n",
       "    </tr>\n",
       "    <tr>\n",
       "      <th>1</th>\n",
       "      <td>5</td>\n",
       "      <td>6</td>\n",
       "    </tr>\n",
       "    <tr>\n",
       "      <th>2</th>\n",
       "      <td>3</td>\n",
       "      <td>1</td>\n",
       "    </tr>\n",
       "    <tr>\n",
       "      <th>3</th>\n",
       "      <td>1</td>\n",
       "      <td>2</td>\n",
       "    </tr>\n",
       "    <tr>\n",
       "      <th>4</th>\n",
       "      <td>2</td>\n",
       "      <td>1</td>\n",
       "    </tr>\n",
       "  </tbody>\n",
       "</table>\n",
       "</div>"
      ],
      "text/plain": [
       "   0  1\n",
       "0  6  4\n",
       "1  5  6\n",
       "2  3  1\n",
       "3  1  2\n",
       "4  2  1"
      ]
     },
     "execution_count": 13,
     "metadata": {},
     "output_type": "execute_result"
    }
   ],
   "source": [
    "rolls = pd.DataFrame(rolls)\n",
    "rolls.head()"
   ]
  },
  {
   "cell_type": "code",
   "execution_count": 14,
   "id": "db3c3894",
   "metadata": {},
   "outputs": [
    {
     "data": {
      "text/plain": [
       "0.16645"
      ]
     },
     "execution_count": 14,
     "metadata": {},
     "output_type": "execute_result"
    }
   ],
   "source": [
    "(rolls[0] == rolls[1]).mean()"
   ]
  },
  {
   "cell_type": "code",
   "execution_count": null,
   "id": "75c9f2b3",
   "metadata": {},
   "outputs": [],
   "source": [
    "n_simulations = nrows = 10\n",
    "n_dice_rolled = ncols = 2\n",
    "\n",
    "a = np.random.choice([1, 2, 3, 4, 5, 6], nrows * 1).reshape(nrows, 1)\n",
    "b = np.random.choice([1, 2, 3, 4, 5, 6], nrows * 1).reshape(nrows, 1)\n",
    "a_b = np.random.choice([1, 2, 3, 4, 5, 6], nrows * ncols).reshape(nrows, ncols)\n",
    "\n",
    "a_b"
   ]
  },
  {
   "cell_type": "markdown",
   "id": "c5cf0a6c",
   "metadata": {},
   "source": [
    "#### If you flip 8 coins, what is the probability of getting exactly 3 heads?\n",
    "- What is the probability of getting more than 3 heads?"
   ]
  },
  {
   "cell_type": "code",
   "execution_count": 15,
   "id": "830fff36",
   "metadata": {},
   "outputs": [],
   "source": [
    "n_coins = 8\n",
    "outcomes = ['H', 'T']"
   ]
  },
  {
   "cell_type": "code",
   "execution_count": 16,
   "id": "65a60958",
   "metadata": {},
   "outputs": [
    {
     "data": {
      "text/plain": [
       "array([['T', 'H', 'H', ..., 'T', 'H', 'H'],\n",
       "       ['H', 'H', 'T', ..., 'H', 'T', 'T'],\n",
       "       ['H', 'H', 'T', ..., 'H', 'H', 'H'],\n",
       "       ...,\n",
       "       ['T', 'H', 'H', ..., 'T', 'H', 'H'],\n",
       "       ['T', 'H', 'H', ..., 'T', 'H', 'T'],\n",
       "       ['H', 'H', 'H', ..., 'H', 'T', 'H']], dtype='<U1')"
      ]
     },
     "execution_count": 16,
     "metadata": {},
     "output_type": "execute_result"
    }
   ],
   "source": [
    "coinflips = np.random.choice(outcomes, size=(n_simulations, n_coins))\n",
    "\n",
    "coinflips"
   ]
  },
  {
   "cell_type": "code",
   "execution_count": 17,
   "id": "aa2dff7c",
   "metadata": {},
   "outputs": [
    {
     "data": {
      "text/plain": [
       "array([4, 3, 6, ..., 5, 5, 5])"
      ]
     },
     "execution_count": 17,
     "metadata": {},
     "output_type": "execute_result"
    }
   ],
   "source": [
    "flips_sim =(coinflips == 'H').sum(axis=1)\n",
    "flips_sim"
   ]
  },
  {
   "cell_type": "markdown",
   "id": "c26b062e",
   "metadata": {},
   "source": [
    "##### Landing on Heads more than 3 times"
   ]
  },
  {
   "cell_type": "code",
   "execution_count": 18,
   "id": "b0c9de8d",
   "metadata": {},
   "outputs": [
    {
     "data": {
      "text/plain": [
       "0.63692"
      ]
     },
     "execution_count": 18,
     "metadata": {},
     "output_type": "execute_result"
    }
   ],
   "source": [
    "(flips_sim > 3).mean()"
   ]
  },
  {
   "cell_type": "markdown",
   "id": "0f70e4b9",
   "metadata": {},
   "source": [
    "##### Landing on Heads exactly 3 times"
   ]
  },
  {
   "cell_type": "code",
   "execution_count": 19,
   "id": "ae8a216c",
   "metadata": {},
   "outputs": [
    {
     "data": {
      "text/plain": [
       "0.21889"
      ]
     },
     "execution_count": 19,
     "metadata": {},
     "output_type": "execute_result"
    }
   ],
   "source": [
    "(flips_sim == 3).mean()"
   ]
  },
  {
   "cell_type": "markdown",
   "id": "dd0db400",
   "metadata": {},
   "source": [
    "If you flip 8 coins, what is the probability of getting exactly 3 heads? What is the probability of getting more than 3 heads?"
   ]
  },
  {
   "cell_type": "code",
   "execution_count": null,
   "id": "92f51e9a",
   "metadata": {},
   "outputs": [],
   "source": [
    "rng = np.random.default_rng()\n",
    "h_t = rng.integers(2, size=8)\n",
    "h_t"
   ]
  },
  {
   "cell_type": "code",
   "execution_count": null,
   "id": "582440fb",
   "metadata": {},
   "outputs": [],
   "source": [
    "round((h_t.sum(axis=0).mean()/8)*100)"
   ]
  },
  {
   "cell_type": "markdown",
   "id": "9a07689f",
   "metadata": {},
   "source": [
    "There are approximitely 3 web development cohorts for every 1 data science cohort at Codeup. Assuming that Codeup randomly selects an alumni to put on a billboard, what are the odds that the two billboards I drive past both have data science students on them?"
   ]
  },
  {
   "cell_type": "code",
   "execution_count": 26,
   "id": "f45afe57",
   "metadata": {},
   "outputs": [
    {
     "data": {
      "text/plain": [
       "array([[1, 1],\n",
       "       [1, 1],\n",
       "       [1, 1],\n",
       "       ...,\n",
       "       [1, 1],\n",
       "       [1, 2],\n",
       "       [1, 2]])"
      ]
     },
     "execution_count": 26,
     "metadata": {},
     "output_type": "execute_result"
    }
   ],
   "source": [
    "web_dev = 1\n",
    "data_sci = 2\n",
    "roll = np.random.choice([web_dev, data_sci], 1000*2, p=[.75, .25]).reshape(1000, 2)\n",
    "roll"
   ]
  },
  {
   "cell_type": "code",
   "execution_count": 27,
   "id": "526670a0",
   "metadata": {},
   "outputs": [
    {
     "data": {
      "text/plain": [
       "array([[False, False],\n",
       "       [False, False],\n",
       "       [False, False],\n",
       "       ...,\n",
       "       [False, False],\n",
       "       [False,  True],\n",
       "       [False,  True]])"
      ]
     },
     "execution_count": 27,
     "metadata": {},
     "output_type": "execute_result"
    }
   ],
   "source": [
    "double = roll >= 2\n",
    "double"
   ]
  },
  {
   "cell_type": "code",
   "execution_count": 28,
   "id": "132799f6",
   "metadata": {},
   "outputs": [
    {
     "data": {
      "text/plain": [
       "4.3"
      ]
     },
     "execution_count": 28,
     "metadata": {},
     "output_type": "execute_result"
    }
   ],
   "source": [
    "(double.sum(axis=1) == 2 ).mean()*100"
   ]
  },
  {
   "cell_type": "markdown",
   "id": "48014bf5",
   "metadata": {},
   "source": [
    "Codeup students buy, on average, 3 poptart packages with a standard deviation of 1.5 a day from the snack vending machine. If on monday the machine is restocked with 17 poptart packages, how likely is it that I will be able to buy some poptarts on Friday afternoon? (Remember, if you have mean and standard deviation, use the np.random.normal) You'll need to make a judgement call on how to handle some of your values"
   ]
  },
  {
   "cell_type": "code",
   "execution_count": null,
   "id": "73894046",
   "metadata": {},
   "outputs": [],
   "source": [
    "n_trials = nrows = 100\n",
    "\n",
    "codeup_students = 3\n",
    "std_dev = 1.5\n",
    "days = ['monday', 'tuesday', 'wednesday', 'thursday', 'friday']\n",
    "calc = np.random.normal(codeup_students, std_dev, len(days)* n_trials).reshape(100,5)"
   ]
  },
  {
   "cell_type": "code",
   "execution_count": null,
   "id": "83cd2e8b",
   "metadata": {},
   "outputs": [],
   "source": [
    "calc"
   ]
  },
  {
   "cell_type": "code",
   "execution_count": null,
   "id": "2c4f39b0",
   "metadata": {},
   "outputs": [],
   "source": [
    "round(calc.sum(axis=1).mean(), 3) # mean of calc sum"
   ]
  },
  {
   "cell_type": "markdown",
   "id": "65565a2d",
   "metadata": {},
   "source": [
    "Compare Heights\n",
    "\n",
    "Men have an average height of 178 cm and standard deviation of 8cm.\n",
    "Women have a mean of 170, sd = 6cm.\n",
    "Since you have means and standard deviations, you can use np.random.normal to generate observations.\n",
    "If a man and woman are chosen at random, what is the likelihood the woman is taller than the man?"
   ]
  },
  {
   "cell_type": "code",
   "execution_count": null,
   "id": "362931a3",
   "metadata": {},
   "outputs": [],
   "source": [
    "n_trials = 1000\n",
    "men_avg = 178\n",
    "men_stddev = 8\n",
    "women_avg = 170\n",
    "women_stddev =6\n",
    "\n",
    "men_trial = np.random.normal(men_avg, men_stddev, n_trials).reshape(1000,1)\n",
    "women_trial = np.random.normal(women_avg, women_stddev, n_trials).reshape(1000,1)"
   ]
  },
  {
   "cell_type": "code",
   "execution_count": null,
   "id": "54e0a4d2",
   "metadata": {},
   "outputs": [],
   "source": [
    "men_trial"
   ]
  },
  {
   "cell_type": "code",
   "execution_count": null,
   "id": "867296e9",
   "metadata": {},
   "outputs": [],
   "source": [
    "women_trial"
   ]
  },
  {
   "cell_type": "code",
   "execution_count": null,
   "id": "02e595d3",
   "metadata": {},
   "outputs": [],
   "source": [
    "trials = np.append(men_trial, women_trial,axis=1)"
   ]
  },
  {
   "cell_type": "code",
   "execution_count": null,
   "id": "8aa43273",
   "metadata": {},
   "outputs": [],
   "source": [
    "trials"
   ]
  },
  {
   "cell_type": "code",
   "execution_count": null,
   "id": "7d3c2950",
   "metadata": {},
   "outputs": [],
   "source": [
    "calculation_men_women = men_trial<women_trial\n",
    "calculation_men_women.sum(axis=0).mean()/len(calculation_men_women)*100"
   ]
  },
  {
   "cell_type": "markdown",
   "id": "ff6a7648",
   "metadata": {},
   "source": [
    "When installing anaconda on a student's computer, there's a 1 in 250 chance that the download is corrupted and the installation fails. What are the odds that after having 50 students download anaconda, no one has an installation issue? 100 students?\n",
    "\n",
    "What is the probability that we observe an installation issue within the first 150 students that download anaconda?"
   ]
  },
  {
   "cell_type": "code",
   "execution_count": null,
   "id": "bedeca2a",
   "metadata": {},
   "outputs": [],
   "source": [
    "anac = .004 # Probability of corruption\n",
    "students = 50\n",
    "outcomes = ['S', 'F']\n",
    "n_students = 50\n",
    "    \n"
   ]
  },
  {
   "cell_type": "code",
   "execution_count": null,
   "id": "bfde7856",
   "metadata": {},
   "outputs": [],
   "source": [
    "downloads = np.random.choice(outcomes, size = (n_simulations, n_students), p)\n",
    "downloads"
   ]
  },
  {
   "cell_type": "code",
   "execution_count": null,
   "id": "831f5d58",
   "metadata": {},
   "outputs": [],
   "source": [
    "(downloads =='S').sum(axis=1)"
   ]
  },
  {
   "cell_type": "code",
   "execution_count": null,
   "id": "e83bff03",
   "metadata": {},
   "outputs": [],
   "source": [
    "((downloads = 'S').sum(axis=1) ==50).mean()"
   ]
  },
  {
   "cell_type": "code",
   "execution_count": null,
   "id": "c5aa1f36",
   "metadata": {},
   "outputs": [],
   "source": [
    "outcomes = ['S', 'F']\n",
    "n_students = 150\n",
    "\n",
    "downloads = np.random.choice(outcomes, size = (n_simulations, n_students), p=)\n",
    "((downloads = 'S').sum(axis =1) <n_students).mean()"
   ]
  },
  {
   "cell_type": "code",
   "execution_count": null,
   "id": "ae251e63",
   "metadata": {},
   "outputs": [],
   "source": []
  },
  {
   "cell_type": "code",
   "execution_count": null,
   "id": "fcda75d4",
   "metadata": {},
   "outputs": [],
   "source": []
  },
  {
   "cell_type": "code",
   "execution_count": null,
   "id": "29ec31d7",
   "metadata": {},
   "outputs": [],
   "source": []
  },
  {
   "cell_type": "code",
   "execution_count": null,
   "id": "daf88ea8",
   "metadata": {},
   "outputs": [],
   "source": []
  },
  {
   "cell_type": "code",
   "execution_count": null,
   "id": "d9c96e33",
   "metadata": {},
   "outputs": [],
   "source": []
  }
 ],
 "metadata": {
  "kernelspec": {
   "display_name": "Python 3 (ipykernel)",
   "language": "python",
   "name": "python3"
  },
  "language_info": {
   "codemirror_mode": {
    "name": "ipython",
    "version": 3
   },
   "file_extension": ".py",
   "mimetype": "text/x-python",
   "name": "python",
   "nbconvert_exporter": "python",
   "pygments_lexer": "ipython3",
   "version": "3.9.13"
  }
 },
 "nbformat": 4,
 "nbformat_minor": 5
}
