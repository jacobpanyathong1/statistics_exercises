{
 "cells": [
  {
   "cell_type": "markdown",
   "id": "3537d016",
   "metadata": {},
   "source": [
    "#### Has network latency increased since ISP?"
   ]
  },
  {
   "cell_type": "markdown",
   "id": "a45b4832",
   "metadata": {},
   "source": [
    "Ho - latency has remained the same \n",
    "Ha - latency  has increased or decreased"
   ]
  },
  {
   "cell_type": "markdown",
   "id": "51ef5cbe",
   "metadata": {},
   "source": [
    "### Is the website redesign working functionally and all the navigation links work properly?"
   ]
  },
  {
   "cell_type": "markdown",
   "id": "f1ace7a2",
   "metadata": {},
   "source": [
    "Ho - do all links work and correct infor?.\n",
    "Ha - not all website links work and information is not correct.\n",
    "true positive - all links work and website shows the correct informtion.\n",
    "false positive - the link is broken but the information is right.\n",
    "click a link and it works but shows wrong information.\n",
    "true negative - click a link and it works but shows wrong information.\n",
    "false negative - links are broken and information is wrong. "
   ]
  },
  {
   "cell_type": "markdown",
   "id": "76030f87",
   "metadata": {},
   "source": [
    "### Effectiveness of an Ad\n",
    "Ho- sales did not increase or decrease revenue\n",
    "Ha - sales increased or decreased over time. "
   ]
  },
  {
   "cell_type": "code",
   "execution_count": 27,
   "id": "8aed3975",
   "metadata": {},
   "outputs": [],
   "source": [
    "from pydataset import data"
   ]
  },
  {
   "cell_type": "markdown",
   "id": "065f069c",
   "metadata": {},
   "source": [
    "1.  ttest - two observed means that depend on the population of students. "
   ]
  },
  {
   "cell_type": "markdown",
   "id": "747e6307",
   "metadata": {},
   "source": [
    "2.  ttest - two observed means that depend on adults who drink milk and who dont drink milk. "
   ]
  },
  {
   "cell_type": "markdown",
   "id": "382fc4d0",
   "metadata": {},
   "source": [
    "3. ttest - two observed means that depend on gas prices in New Mexico and Texas."
   ]
  },
  {
   "cell_type": "markdown",
   "id": "572f66d8",
   "metadata": {},
   "source": [
    "4. ANOVA - measure the distance between all three observed means. "
   ]
  },
  {
   "cell_type": "code",
   "execution_count": 304,
   "id": "9f44d2fb",
   "metadata": {},
   "outputs": [],
   "source": [
    "import pandas as pd\n",
    "import matplotlib.pyplot as plt\n",
    "import scipy.stats as stats\n",
    "import seaborn as sns\n",
    "import env\n",
    "\n",
    "%config InlineBackend.figure_format='retina'\n",
    "\n",
    "mpg = data('mpg')"
   ]
  },
  {
   "cell_type": "code",
   "execution_count": 305,
   "id": "c8662129",
   "metadata": {},
   "outputs": [
    {
     "data": {
      "text/html": [
       "<div>\n",
       "<style scoped>\n",
       "    .dataframe tbody tr th:only-of-type {\n",
       "        vertical-align: middle;\n",
       "    }\n",
       "\n",
       "    .dataframe tbody tr th {\n",
       "        vertical-align: top;\n",
       "    }\n",
       "\n",
       "    .dataframe thead th {\n",
       "        text-align: right;\n",
       "    }\n",
       "</style>\n",
       "<table border=\"1\" class=\"dataframe\">\n",
       "  <thead>\n",
       "    <tr style=\"text-align: right;\">\n",
       "      <th></th>\n",
       "      <th>manufacturer</th>\n",
       "      <th>model</th>\n",
       "      <th>displ</th>\n",
       "      <th>year</th>\n",
       "      <th>cyl</th>\n",
       "      <th>trans</th>\n",
       "      <th>drv</th>\n",
       "      <th>cty</th>\n",
       "      <th>hwy</th>\n",
       "      <th>fl</th>\n",
       "      <th>class</th>\n",
       "    </tr>\n",
       "  </thead>\n",
       "  <tbody>\n",
       "    <tr>\n",
       "      <th>1</th>\n",
       "      <td>audi</td>\n",
       "      <td>a4</td>\n",
       "      <td>1.8</td>\n",
       "      <td>1999</td>\n",
       "      <td>4</td>\n",
       "      <td>auto(l5)</td>\n",
       "      <td>f</td>\n",
       "      <td>18</td>\n",
       "      <td>29</td>\n",
       "      <td>p</td>\n",
       "      <td>compact</td>\n",
       "    </tr>\n",
       "    <tr>\n",
       "      <th>2</th>\n",
       "      <td>audi</td>\n",
       "      <td>a4</td>\n",
       "      <td>1.8</td>\n",
       "      <td>1999</td>\n",
       "      <td>4</td>\n",
       "      <td>manual(m5)</td>\n",
       "      <td>f</td>\n",
       "      <td>21</td>\n",
       "      <td>29</td>\n",
       "      <td>p</td>\n",
       "      <td>compact</td>\n",
       "    </tr>\n",
       "    <tr>\n",
       "      <th>3</th>\n",
       "      <td>audi</td>\n",
       "      <td>a4</td>\n",
       "      <td>2.0</td>\n",
       "      <td>2008</td>\n",
       "      <td>4</td>\n",
       "      <td>manual(m6)</td>\n",
       "      <td>f</td>\n",
       "      <td>20</td>\n",
       "      <td>31</td>\n",
       "      <td>p</td>\n",
       "      <td>compact</td>\n",
       "    </tr>\n",
       "    <tr>\n",
       "      <th>4</th>\n",
       "      <td>audi</td>\n",
       "      <td>a4</td>\n",
       "      <td>2.0</td>\n",
       "      <td>2008</td>\n",
       "      <td>4</td>\n",
       "      <td>auto(av)</td>\n",
       "      <td>f</td>\n",
       "      <td>21</td>\n",
       "      <td>30</td>\n",
       "      <td>p</td>\n",
       "      <td>compact</td>\n",
       "    </tr>\n",
       "    <tr>\n",
       "      <th>5</th>\n",
       "      <td>audi</td>\n",
       "      <td>a4</td>\n",
       "      <td>2.8</td>\n",
       "      <td>1999</td>\n",
       "      <td>6</td>\n",
       "      <td>auto(l5)</td>\n",
       "      <td>f</td>\n",
       "      <td>16</td>\n",
       "      <td>26</td>\n",
       "      <td>p</td>\n",
       "      <td>compact</td>\n",
       "    </tr>\n",
       "  </tbody>\n",
       "</table>\n",
       "</div>"
      ],
      "text/plain": [
       "  manufacturer model  displ  year  cyl       trans drv  cty  hwy fl    class\n",
       "1         audi    a4    1.8  1999    4    auto(l5)   f   18   29  p  compact\n",
       "2         audi    a4    1.8  1999    4  manual(m5)   f   21   29  p  compact\n",
       "3         audi    a4    2.0  2008    4  manual(m6)   f   20   31  p  compact\n",
       "4         audi    a4    2.0  2008    4    auto(av)   f   21   30  p  compact\n",
       "5         audi    a4    2.8  1999    6    auto(l5)   f   16   26  p  compact"
      ]
     },
     "execution_count": 305,
     "metadata": {},
     "output_type": "execute_result"
    }
   ],
   "source": [
    "mpg.head()"
   ]
  },
  {
   "cell_type": "code",
   "execution_count": 306,
   "id": "5546c361",
   "metadata": {},
   "outputs": [
    {
     "data": {
      "text/plain": [
       "manufacturer    234\n",
       "model           234\n",
       "displ           234\n",
       "year            234\n",
       "cyl             234\n",
       "trans           234\n",
       "drv             234\n",
       "cty             234\n",
       "hwy             234\n",
       "fl              234\n",
       "class           234\n",
       "dtype: int64"
      ]
     },
     "execution_count": 306,
     "metadata": {},
     "output_type": "execute_result"
    }
   ],
   "source": [
    "mpg.count()"
   ]
  },
  {
   "cell_type": "markdown",
   "id": "f1c8b8a9",
   "metadata": {},
   "source": [
    "### Is there a difference in fuel efficiency between cars from 2008 vs 1999"
   ]
  },
  {
   "cell_type": "code",
   "execution_count": 307,
   "id": "d102ad06",
   "metadata": {},
   "outputs": [
    {
     "data": {
      "text/plain": [
       "Index(['manufacturer', 'model', 'displ', 'year', 'cyl', 'trans', 'drv', 'cty',\n",
       "       'hwy', 'fl', 'class'],\n",
       "      dtype='object')"
      ]
     },
     "execution_count": 307,
     "metadata": {},
     "output_type": "execute_result"
    }
   ],
   "source": [
    "mpg.columns"
   ]
  },
  {
   "cell_type": "code",
   "execution_count": 308,
   "id": "17caec6d",
   "metadata": {},
   "outputs": [
    {
     "data": {
      "text/plain": [
       "manufacturer    0\n",
       "model           0\n",
       "displ           0\n",
       "year            0\n",
       "cyl             0\n",
       "trans           0\n",
       "drv             0\n",
       "cty             0\n",
       "hwy             0\n",
       "fl              0\n",
       "class           0\n",
       "dtype: int64"
      ]
     },
     "execution_count": 308,
     "metadata": {},
     "output_type": "execute_result"
    }
   ],
   "source": [
    "mpg.isna().sum()"
   ]
  },
  {
   "cell_type": "code",
   "execution_count": 309,
   "id": "f192a2ea",
   "metadata": {},
   "outputs": [],
   "source": [
    "mpg['average_mileage'] = (mpg.hwy+mpg.cty)/2 "
   ]
  },
  {
   "cell_type": "markdown",
   "id": "824b6fb0",
   "metadata": {},
   "source": [
    "### Independent t-test (a.k.a Two Sample t-test)\n",
    "\n",
    "Goal: Find a difference in fuel efficiency between cars from 2008 vs 1999\n",
    "\n",
    "H0 Group A - is no difference \n",
    "Ha Group B - increase or decrease in vehicles\n",
    "\n",
    "Verify assumptions:\n",
    "\n",
    "- Check that we have 30 observations: yes, 234\n",
    "\n",
    "- Independence\n",
    "\n"
   ]
  },
  {
   "cell_type": "code",
   "execution_count": 310,
   "id": "1be88e32",
   "metadata": {},
   "outputs": [
    {
     "data": {
      "text/plain": [
       "<AxesSubplot:>"
      ]
     },
     "execution_count": 310,
     "metadata": {},
     "output_type": "execute_result"
    },
    {
     "data": {
      "image/png": "[encoded data removed]",
      "text/plain": [
       "<Figure size 640x480 with 1 Axes>"
      ]
     },
     "metadata": {
      "image/png": {
       "height": 413,
       "width": 543
      }
     },
     "output_type": "display_data"
    }
   ],
   "source": [
    "year_08 = mpg[mpg.year == 2008].average_mileage # year 2008 with average mileage returned\n",
    "year_08.hist()"
   ]
  },
  {
   "cell_type": "code",
   "execution_count": 311,
   "id": "48ecbe68",
   "metadata": {},
   "outputs": [
    {
     "data": {
      "text/plain": [
       "<AxesSubplot:>"
      ]
     },
     "execution_count": 311,
     "metadata": {},
     "output_type": "execute_result"
    },
    {
     "data": {
      "image/png": "[encoded data removed]",
      "text/plain": [
       "<Figure size 640x480 with 1 Axes>"
      ]
     },
     "metadata": {
      "image/png": {
       "height": 413,
       "width": 543
      }
     },
     "output_type": "display_data"
    }
   ],
   "source": [
    "year_99 = mpg[mpg.year == 1999].average_mileage # year 1999 with average mileage returned\n",
    "year_99.hist()"
   ]
  },
  {
   "cell_type": "code",
   "execution_count": 312,
   "id": "af34fd6a",
   "metadata": {},
   "outputs": [],
   "source": [
    "α = 0.05 # Significance level"
   ]
  },
  {
   "cell_type": "code",
   "execution_count": 313,
   "id": "8c6e211b",
   "metadata": {},
   "outputs": [],
   "source": [
    "t, p = stats.ttest_ind(year_08, year_99, equal_var=False)"
   ]
  },
  {
   "cell_type": "code",
   "execution_count": 314,
   "id": "0f865f48",
   "metadata": {},
   "outputs": [
    {
     "data": {
      "text/plain": [
       "False"
      ]
     },
     "execution_count": 314,
     "metadata": {},
     "output_type": "execute_result"
    }
   ],
   "source": [
    "p < α\n"
   ]
  },
  {
   "cell_type": "code",
   "execution_count": 315,
   "id": "ecdd66fc",
   "metadata": {},
   "outputs": [
    {
     "name": "stdout",
     "output_type": "stream",
     "text": [
      "Is t < 0? True\n",
      "Is p/2 < alpha? False\n"
     ]
    }
   ],
   "source": [
    "# It t-statistic < 0\n",
    "print(\"Is t < 0?\", t < 0)\n",
    "\n",
    "# Is p/2 < alpha\n",
    "print(\"Is p/2 < alpha?\", p/ 2 < α)"
   ]
  },
  {
   "cell_type": "code",
   "execution_count": 316,
   "id": "0185afe4",
   "metadata": {},
   "outputs": [
    {
     "name": "stdout",
     "output_type": "stream",
     "text": [
      "We fail to reject $H_{0}$\n"
     ]
    }
   ],
   "source": [
    "if p < α:\n",
    "    print(\"We reject $H_{0}$\")\n",
    "else:\n",
    "    print(\"We fail to reject $H_{0}$\")\n"
   ]
  },
  {
   "cell_type": "markdown",
   "id": "eb6aa549",
   "metadata": {},
   "source": [
    "Takeaway:  We failed to reject the null hypothesis, there is no difference in fuel efficiency between cars made in 1999 and 2008. "
   ]
  },
  {
   "cell_type": "markdown",
   "id": "f55596fc",
   "metadata": {},
   "source": [
    "### Are compact cars more fuel-efficient than the average car?"
   ]
  },
  {
   "cell_type": "code",
   "execution_count": 317,
   "id": "bcb46f7c",
   "metadata": {},
   "outputs": [
    {
     "ename": "SyntaxError",
     "evalue": "invalid syntax (1175093283.py, line 5)",
     "output_type": "error",
     "traceback": [
      "\u001b[0;36m  Input \u001b[0;32mIn [317]\u001b[0;36m\u001b[0m\n\u001b[0;31m    H0 Group A - is no difference\u001b[0m\n\u001b[0m       ^\u001b[0m\n\u001b[0;31mSyntaxError\u001b[0m\u001b[0;31m:\u001b[0m invalid syntax\n"
     ]
    }
   ],
   "source": [
    "### Independent t-test (a.k.a Two Sample t-test)\n",
    "\n",
    "Goal: Find a difference in fuel efficiency between cars compact cars and average cars?\n",
    "\n",
    "H0 Group A - is no difference \n",
    "Ha Group B - increase or decrease in vehicles\n",
    "\n",
    "Verify assumptions:\n",
    "\n",
    "- Check that we have 30 observations: yes, 234\n",
    "\n",
    "- Independence\n",
    "\n",
    "variance\n"
   ]
  },
  {
   "cell_type": "code",
   "execution_count": 318,
   "id": "639460e7",
   "metadata": {},
   "outputs": [],
   "source": [
    "compact_mileage = mpg[mpg[\"class\"] == \"compact\"].average_mileage.mean()"
   ]
  },
  {
   "cell_type": "code",
   "execution_count": 319,
   "id": "a2c293fd",
   "metadata": {},
   "outputs": [],
   "source": [
    "not_compact_mileage = mpg.average_mileage.mean()"
   ]
  },
  {
   "cell_type": "code",
   "execution_count": 320,
   "id": "eaa474e7",
   "metadata": {},
   "outputs": [
    {
     "ename": "AttributeError",
     "evalue": "'float' object has no attribute 'hist'",
     "output_type": "error",
     "traceback": [
      "\u001b[0;31m---------------------------------------------------------------------------\u001b[0m",
      "\u001b[0;31mAttributeError\u001b[0m                            Traceback (most recent call last)",
      "Input \u001b[0;32mIn [320]\u001b[0m, in \u001b[0;36m<cell line: 1>\u001b[0;34m()\u001b[0m\n\u001b[0;32m----> 1\u001b[0m \u001b[43mcompact_mileage\u001b[49m\u001b[38;5;241;43m.\u001b[39;49m\u001b[43mhist\u001b[49m()\n",
      "\u001b[0;31mAttributeError\u001b[0m: 'float' object has no attribute 'hist'"
     ]
    }
   ],
   "source": [
    "compact_mileage.hist()"
   ]
  },
  {
   "cell_type": "code",
   "execution_count": 321,
   "id": "9edea690",
   "metadata": {},
   "outputs": [
    {
     "ename": "AttributeError",
     "evalue": "'float' object has no attribute 'hist'",
     "output_type": "error",
     "traceback": [
      "\u001b[0;31m---------------------------------------------------------------------------\u001b[0m",
      "\u001b[0;31mAttributeError\u001b[0m                            Traceback (most recent call last)",
      "Input \u001b[0;32mIn [321]\u001b[0m, in \u001b[0;36m<cell line: 1>\u001b[0;34m()\u001b[0m\n\u001b[0;32m----> 1\u001b[0m \u001b[43mnot_compact_mileage\u001b[49m\u001b[38;5;241;43m.\u001b[39;49m\u001b[43mhist\u001b[49m()\n",
      "\u001b[0;31mAttributeError\u001b[0m: 'float' object has no attribute 'hist'"
     ]
    }
   ],
   "source": [
    "not_compact_mileage.hist()"
   ]
  },
  {
   "cell_type": "code",
   "execution_count": 322,
   "id": "760e02eb",
   "metadata": {},
   "outputs": [
    {
     "name": "stderr",
     "output_type": "stream",
     "text": [
      "/var/folders/51/1y9bskdx161fnwxyf68jcl540000gn/T/ipykernel_33644/2246291425.py:1: RuntimeWarning: Precision loss occurred in moment calculation due to catastrophic cancellation. This occurs when the data are nearly identical. Results may be unreliable.\n",
      "  t, p = stats.ttest_1samp(compact_mileage, not_compact_mileage)\n",
      "/opt/homebrew/anaconda3/lib/python3.9/site-packages/scipy/stats/_stats_py.py:1250: RuntimeWarning: divide by zero encountered in true_divide\n",
      "  var *= np.divide(n, n-ddof)  # to avoid error on division by zero\n",
      "/opt/homebrew/anaconda3/lib/python3.9/site-packages/scipy/stats/_stats_py.py:1250: RuntimeWarning: invalid value encountered in double_scalars\n",
      "  var *= np.divide(n, n-ddof)  # to avoid error on division by zero\n"
     ]
    },
    {
     "data": {
      "text/plain": [
       "(nan, nan)"
      ]
     },
     "execution_count": 322,
     "metadata": {},
     "output_type": "execute_result"
    }
   ],
   "source": [
    "t, p = stats.ttest_1samp(compact_mileage, not_compact_mileage)\n",
    "\n",
    "t, p"
   ]
  },
  {
   "cell_type": "code",
   "execution_count": 323,
   "id": "bb0de061",
   "metadata": {},
   "outputs": [
    {
     "name": "stdout",
     "output_type": "stream",
     "text": [
      "Fail to reject null\n"
     ]
    }
   ],
   "source": [
    "α = .05\n",
    "\n",
    "if t > 0 and p/2 <= α:\n",
    "    print('Reject null')\n",
    "else: \n",
    "    print('Fail to reject null')"
   ]
  },
  {
   "cell_type": "markdown",
   "id": "6e79d489",
   "metadata": {},
   "source": [
    "### Do manual cars get better gas mileage than automatic cars?"
   ]
  },
  {
   "cell_type": "code",
   "execution_count": 324,
   "id": "d9136c99",
   "metadata": {},
   "outputs": [
    {
     "ename": "SyntaxError",
     "evalue": "invalid syntax (58292799.py, line 3)",
     "output_type": "error",
     "traceback": [
      "\u001b[0;36m  Input \u001b[0;32mIn [324]\u001b[0;36m\u001b[0m\n\u001b[0;31m    H0 Group A - is no difference\u001b[0m\n\u001b[0m       ^\u001b[0m\n\u001b[0;31mSyntaxError\u001b[0m\u001b[0;31m:\u001b[0m invalid syntax\n"
     ]
    }
   ],
   "source": [
    "Goal: Find a difference in fuel efficiency between manual cars and automatic cars?\n",
    "\n",
    "H0 Group A - is no difference \n",
    "Ha Group B - increase or decrease in vehicles\n",
    "\n",
    "Verify assumptions:\n",
    "\n",
    "- Check that we have 30 observations: yes, 234\n",
    "\n",
    "- Independence\n",
    "\n",
    "variance\n"
   ]
  },
  {
   "cell_type": "code",
   "execution_count": 325,
   "id": "96dd1a4e",
   "metadata": {},
   "outputs": [],
   "source": [
    "mpg['is_automatic']=mpg.trans.str.contains('auto')==True"
   ]
  },
  {
   "cell_type": "code",
   "execution_count": 326,
   "id": "6b9945c9",
   "metadata": {},
   "outputs": [],
   "source": [
    "mpg['is_automatic'] = mpg['is_automatic'].replace({True: 'Automatic', False: 'Manual'})"
   ]
  },
  {
   "cell_type": "code",
   "execution_count": 327,
   "id": "9d05cff5",
   "metadata": {},
   "outputs": [],
   "source": [
    "auto_mileage= mpg[mpg['is_automatic'] == 'Automatic'].average_mileage"
   ]
  },
  {
   "cell_type": "code",
   "execution_count": 328,
   "id": "bb5648ae",
   "metadata": {},
   "outputs": [],
   "source": [
    "manual_mileage = mpg[mpg['is_automatic'] == 'Manual'].average_mileage"
   ]
  },
  {
   "cell_type": "code",
   "execution_count": 329,
   "id": "d2ca07f9",
   "metadata": {},
   "outputs": [
    {
     "data": {
      "text/plain": [
       "<AxesSubplot:>"
      ]
     },
     "execution_count": 329,
     "metadata": {},
     "output_type": "execute_result"
    },
    {
     "data": {
      "image/png": "[encoded data removed]",
      "text/plain": [
       "<Figure size 640x480 with 1 Axes>"
      ]
     },
     "metadata": {
      "image/png": {
       "height": 413,
       "width": 543
      }
     },
     "output_type": "display_data"
    }
   ],
   "source": [
    "auto_mileage.hist()"
   ]
  },
  {
   "cell_type": "code",
   "execution_count": 330,
   "id": "19979902",
   "metadata": {},
   "outputs": [
    {
     "data": {
      "text/plain": [
       "<AxesSubplot:>"
      ]
     },
     "execution_count": 330,
     "metadata": {},
     "output_type": "execute_result"
    },
    {
     "data": {
      "image/png": "[encoded data removed]",
      "text/plain": [
       "<Figure size 640x480 with 1 Axes>"
      ]
     },
     "metadata": {
      "image/png": {
       "height": 413,
       "width": 543
      }
     },
     "output_type": "display_data"
    }
   ],
   "source": [
    "manual_mileage.hist()"
   ]
  },
  {
   "cell_type": "code",
   "execution_count": 331,
   "id": "720adaf7",
   "metadata": {},
   "outputs": [],
   "source": [
    "t, p = stats.ttest_ind(auto_mileage, manual_mileage, equal_var=False)"
   ]
  },
  {
   "cell_type": "code",
   "execution_count": 332,
   "id": "2b4bea9e",
   "metadata": {},
   "outputs": [
    {
     "name": "stdout",
     "output_type": "stream",
     "text": [
      "Is t < 0? True\n",
      "Is p/2 < alpha? True\n"
     ]
    }
   ],
   "source": [
    "# It t-statistic < 0\n",
    "print(\"Is t < 0?\", t < 0)\n",
    "\n",
    "# Is p/2 < alpha\n",
    "print(\"Is p/2 < alpha?\", p/ 2 < α)"
   ]
  },
  {
   "cell_type": "code",
   "execution_count": 333,
   "id": "cc472cd4",
   "metadata": {},
   "outputs": [
    {
     "name": "stdout",
     "output_type": "stream",
     "text": [
      "We reject $H_{0}$\n"
     ]
    }
   ],
   "source": [
    "if p < α:\n",
    "    print(\"We reject $H_{0}$\")\n",
    "else:\n",
    "    print(\"We fail to reject $H_{0}$\")"
   ]
  },
  {
   "cell_type": "code",
   "execution_count": 334,
   "id": "7e6a42ea",
   "metadata": {},
   "outputs": [],
   "source": [
    "from scipy import stats\n",
    "from pydataset import data"
   ]
  },
  {
   "cell_type": "code",
   "execution_count": 335,
   "id": "50238ef7",
   "metadata": {},
   "outputs": [],
   "source": [
    "office_one = stats.norm(90, 15)"
   ]
  },
  {
   "cell_type": "code",
   "execution_count": 336,
   "id": "42c8a43d",
   "metadata": {},
   "outputs": [],
   "source": [
    "office_two = stats.norm(100, 20)"
   ]
  },
  {
   "cell_type": "code",
   "execution_count": 337,
   "id": "32ff4000",
   "metadata": {},
   "outputs": [
    {
     "data": {
      "text/plain": [
       "<scipy.stats._distn_infrastructure.rv_continuous_frozen at 0x28389d700>"
      ]
     },
     "execution_count": 337,
     "metadata": {},
     "output_type": "execute_result"
    }
   ],
   "source": [
    "office_one"
   ]
  },
  {
   "cell_type": "code",
   "execution_count": 338,
   "id": "b66d763f",
   "metadata": {},
   "outputs": [
    {
     "data": {
      "text/plain": [
       "array([ 93.42894174,  98.32786441,  85.04987532,  78.42944362,\n",
       "        84.06312258, 105.02556367,  87.28306892,  95.67582768,\n",
       "        94.01753636,  84.93330138,  89.25285944, 109.07194077,\n",
       "        81.40463592,  89.32672816, 110.49690007, 106.57444945,\n",
       "        92.18598238, 101.61438924,  84.15257317, 102.56718289,\n",
       "        70.8765624 ,  96.31047282,  97.5868455 ,  74.04525205,\n",
       "       111.25937875,  73.25527809,  80.79076295,  76.13266873,\n",
       "        66.2536158 ,  81.69324753, 100.02968753,  63.72698714,\n",
       "       110.76433321,  92.38856257,  62.20939816, 112.16494035,\n",
       "        99.20937291,  94.11086138, 101.97609452, 118.44953138])"
      ]
     },
     "execution_count": 338,
     "metadata": {},
     "output_type": "execute_result"
    }
   ],
   "source": [
    "office_one.rvs(40)"
   ]
  },
  {
   "cell_type": "code",
   "execution_count": 339,
   "id": "6c0dfe78",
   "metadata": {},
   "outputs": [],
   "source": [
    "dist_one = office_one.rvs(40)\n",
    "dist_two = office_two.rvs(50)"
   ]
  },
  {
   "cell_type": "code",
   "execution_count": 340,
   "id": "0643b6b5",
   "metadata": {},
   "outputs": [
    {
     "data": {
      "text/plain": [
       "(177.1919913123142, 378.9040409549873)"
      ]
     },
     "execution_count": 340,
     "metadata": {},
     "output_type": "execute_result"
    }
   ],
   "source": [
    "dist_one.var(), dist_two.var() #checking variances in both samples to find the difference"
   ]
  },
  {
   "cell_type": "code",
   "execution_count": 341,
   "id": "44bf7737",
   "metadata": {},
   "outputs": [
    {
     "data": {
      "text/plain": [
       "LeveneResult(statistic=7.016722001713533, pvalue=0.009571192748180572)"
      ]
     },
     "execution_count": 341,
     "metadata": {},
     "output_type": "execute_result"
    }
   ],
   "source": [
    "stats.levene(dist_one, dist_two) #pvalue"
   ]
  },
  {
   "cell_type": "code",
   "execution_count": 342,
   "id": "c59eee12",
   "metadata": {},
   "outputs": [
    {
     "data": {
      "text/plain": [
       "(-2.7523713934323366, 0.0072135170514351565)"
      ]
     },
     "execution_count": 342,
     "metadata": {},
     "output_type": "execute_result"
    }
   ],
   "source": [
    "t, p = stats.ttest_ind(dist_one, dist_two, equal_var=False) # order of left to right, comparing the difference from 0 to 1, could result in negative value.\n",
    "t, p"
   ]
  },
  {
   "cell_type": "code",
   "execution_count": 343,
   "id": "80fdb880",
   "metadata": {},
   "outputs": [
    {
     "data": {
      "text/plain": [
       "(2.7523713934323366, 0.0072135170514351565)"
      ]
     },
     "execution_count": 343,
     "metadata": {},
     "output_type": "execute_result"
    }
   ],
   "source": [
    "t, p = stats.ttest_ind(dist_two, dist_one, equal_var=False)\n",
    "\n",
    "t, p"
   ]
  },
  {
   "cell_type": "code",
   "execution_count": 344,
   "id": "6a1fdd36",
   "metadata": {},
   "outputs": [
    {
     "ename": "SyntaxError",
     "evalue": "invalid syntax (4056462719.py, line 1)",
     "output_type": "error",
     "traceback": [
      "\u001b[0;36m  Input \u001b[0;32mIn [344]\u001b[0;36m\u001b[0m\n\u001b[0;31m    Null: There is no difference between the two distributions\u001b[0m\n\u001b[0m                      ^\u001b[0m\n\u001b[0;31mSyntaxError\u001b[0m\u001b[0;31m:\u001b[0m invalid syntax\n"
     ]
    }
   ],
   "source": [
    "Null: There is no difference between the two distributions\n",
    "Alternative: There is a significant difference between the two distributions"
   ]
  },
  {
   "cell_type": "code",
   "execution_count": 345,
   "id": "ba51c931",
   "metadata": {},
   "outputs": [],
   "source": [
    "α = 0.05"
   ]
  },
  {
   "cell_type": "code",
   "execution_count": 346,
   "id": "32b5007e",
   "metadata": {},
   "outputs": [
    {
     "name": "stdout",
     "output_type": "stream",
     "text": [
      "reject null\n"
     ]
    }
   ],
   "source": [
    "if p <= α:\n",
    "    print('reject null')\n",
    "else:\n",
    "    print('Fail to reject null')"
   ]
  },
  {
   "cell_type": "markdown",
   "id": "b6c4d9d6",
   "metadata": {},
   "source": [
    "Takeaway: we rejected the null hypothesis, there is a significant difference between the two offices."
   ]
  },
  {
   "cell_type": "markdown",
   "id": "e3fa9337",
   "metadata": {},
   "source": [
    "## III. Correlation\n",
    "### Answer with the type of stats test you would use (assume normal distribution):"
   ]
  },
  {
   "cell_type": "markdown",
   "id": "06b86aa1",
   "metadata": {},
   "source": [
    "### Answer with the type of stats test you would use (assume normal distribution):\n",
    "- Is there a relationship between the length of your arm and the length of your foot?\n",
    "\n",
    "Pearson "
   ]
  },
  {
   "cell_type": "markdown",
   "id": "1b3c480d",
   "metadata": {},
   "source": [
    "- Do guys and gals quit their jobs at the same rate?\n",
    "\n",
    "Independent T-Test"
   ]
  },
  {
   "cell_type": "markdown",
   "id": "891dec8d",
   "metadata": {},
   "source": [
    "- Does the length of time of the lecture correlate with a students grade?\n",
    "spearmean r"
   ]
  },
  {
   "cell_type": "markdown",
   "id": "e66a4782",
   "metadata": {},
   "source": [
    "## 1. Use the telco_churn data."
   ]
  },
  {
   "cell_type": "code",
   "execution_count": 347,
   "id": "654164cc",
   "metadata": {},
   "outputs": [],
   "source": [
    "import pandas as pd\n",
    "import env\n",
    "\n",
    "url = f'mysql+pymysql://{env.username}:{env.password}@{env.host}/telco_churn'\n",
    "customer_df = pd.read_sql('select * FROM customers', url)\n"
   ]
  },
  {
   "cell_type": "code",
   "execution_count": 348,
   "id": "d57ac633",
   "metadata": {},
   "outputs": [
    {
     "data": {
      "text/html": [
       "<div>\n",
       "<style scoped>\n",
       "    .dataframe tbody tr th:only-of-type {\n",
       "        vertical-align: middle;\n",
       "    }\n",
       "\n",
       "    .dataframe tbody tr th {\n",
       "        vertical-align: top;\n",
       "    }\n",
       "\n",
       "    .dataframe thead th {\n",
       "        text-align: right;\n",
       "    }\n",
       "</style>\n",
       "<table border=\"1\" class=\"dataframe\">\n",
       "  <thead>\n",
       "    <tr style=\"text-align: right;\">\n",
       "      <th></th>\n",
       "      <th>customer_id</th>\n",
       "      <th>gender</th>\n",
       "      <th>senior_citizen</th>\n",
       "      <th>partner</th>\n",
       "      <th>dependents</th>\n",
       "      <th>tenure</th>\n",
       "      <th>phone_service</th>\n",
       "      <th>multiple_lines</th>\n",
       "      <th>internet_service_type_id</th>\n",
       "      <th>online_security</th>\n",
       "      <th>...</th>\n",
       "      <th>device_protection</th>\n",
       "      <th>tech_support</th>\n",
       "      <th>streaming_tv</th>\n",
       "      <th>streaming_movies</th>\n",
       "      <th>contract_type_id</th>\n",
       "      <th>paperless_billing</th>\n",
       "      <th>payment_type_id</th>\n",
       "      <th>monthly_charges</th>\n",
       "      <th>total_charges</th>\n",
       "      <th>churn</th>\n",
       "    </tr>\n",
       "  </thead>\n",
       "  <tbody>\n",
       "    <tr>\n",
       "      <th>0</th>\n",
       "      <td>0002-ORFBO</td>\n",
       "      <td>Female</td>\n",
       "      <td>0</td>\n",
       "      <td>Yes</td>\n",
       "      <td>Yes</td>\n",
       "      <td>9</td>\n",
       "      <td>Yes</td>\n",
       "      <td>No</td>\n",
       "      <td>1</td>\n",
       "      <td>No</td>\n",
       "      <td>...</td>\n",
       "      <td>No</td>\n",
       "      <td>Yes</td>\n",
       "      <td>Yes</td>\n",
       "      <td>No</td>\n",
       "      <td>2</td>\n",
       "      <td>Yes</td>\n",
       "      <td>2</td>\n",
       "      <td>65.6</td>\n",
       "      <td>593.3</td>\n",
       "      <td>No</td>\n",
       "    </tr>\n",
       "    <tr>\n",
       "      <th>1</th>\n",
       "      <td>0003-MKNFE</td>\n",
       "      <td>Male</td>\n",
       "      <td>0</td>\n",
       "      <td>No</td>\n",
       "      <td>No</td>\n",
       "      <td>9</td>\n",
       "      <td>Yes</td>\n",
       "      <td>Yes</td>\n",
       "      <td>1</td>\n",
       "      <td>No</td>\n",
       "      <td>...</td>\n",
       "      <td>No</td>\n",
       "      <td>No</td>\n",
       "      <td>No</td>\n",
       "      <td>Yes</td>\n",
       "      <td>1</td>\n",
       "      <td>No</td>\n",
       "      <td>2</td>\n",
       "      <td>59.9</td>\n",
       "      <td>542.4</td>\n",
       "      <td>No</td>\n",
       "    </tr>\n",
       "    <tr>\n",
       "      <th>2</th>\n",
       "      <td>0004-TLHLJ</td>\n",
       "      <td>Male</td>\n",
       "      <td>0</td>\n",
       "      <td>No</td>\n",
       "      <td>No</td>\n",
       "      <td>4</td>\n",
       "      <td>Yes</td>\n",
       "      <td>No</td>\n",
       "      <td>2</td>\n",
       "      <td>No</td>\n",
       "      <td>...</td>\n",
       "      <td>Yes</td>\n",
       "      <td>No</td>\n",
       "      <td>No</td>\n",
       "      <td>No</td>\n",
       "      <td>1</td>\n",
       "      <td>Yes</td>\n",
       "      <td>1</td>\n",
       "      <td>73.9</td>\n",
       "      <td>280.85</td>\n",
       "      <td>Yes</td>\n",
       "    </tr>\n",
       "    <tr>\n",
       "      <th>3</th>\n",
       "      <td>0011-IGKFF</td>\n",
       "      <td>Male</td>\n",
       "      <td>1</td>\n",
       "      <td>Yes</td>\n",
       "      <td>No</td>\n",
       "      <td>13</td>\n",
       "      <td>Yes</td>\n",
       "      <td>No</td>\n",
       "      <td>2</td>\n",
       "      <td>No</td>\n",
       "      <td>...</td>\n",
       "      <td>Yes</td>\n",
       "      <td>No</td>\n",
       "      <td>Yes</td>\n",
       "      <td>Yes</td>\n",
       "      <td>1</td>\n",
       "      <td>Yes</td>\n",
       "      <td>1</td>\n",
       "      <td>98.0</td>\n",
       "      <td>1237.85</td>\n",
       "      <td>Yes</td>\n",
       "    </tr>\n",
       "    <tr>\n",
       "      <th>4</th>\n",
       "      <td>0013-EXCHZ</td>\n",
       "      <td>Female</td>\n",
       "      <td>1</td>\n",
       "      <td>Yes</td>\n",
       "      <td>No</td>\n",
       "      <td>3</td>\n",
       "      <td>Yes</td>\n",
       "      <td>No</td>\n",
       "      <td>2</td>\n",
       "      <td>No</td>\n",
       "      <td>...</td>\n",
       "      <td>No</td>\n",
       "      <td>Yes</td>\n",
       "      <td>Yes</td>\n",
       "      <td>No</td>\n",
       "      <td>1</td>\n",
       "      <td>Yes</td>\n",
       "      <td>2</td>\n",
       "      <td>83.9</td>\n",
       "      <td>267.4</td>\n",
       "      <td>Yes</td>\n",
       "    </tr>\n",
       "  </tbody>\n",
       "</table>\n",
       "<p>5 rows × 21 columns</p>\n",
       "</div>"
      ],
      "text/plain": [
       "  customer_id  gender  senior_citizen partner dependents  tenure  \\\n",
       "0  0002-ORFBO  Female               0     Yes        Yes       9   \n",
       "1  0003-MKNFE    Male               0      No         No       9   \n",
       "2  0004-TLHLJ    Male               0      No         No       4   \n",
       "3  0011-IGKFF    Male               1     Yes         No      13   \n",
       "4  0013-EXCHZ  Female               1     Yes         No       3   \n",
       "\n",
       "  phone_service multiple_lines  internet_service_type_id online_security  ...  \\\n",
       "0           Yes             No                         1              No  ...   \n",
       "1           Yes            Yes                         1              No  ...   \n",
       "2           Yes             No                         2              No  ...   \n",
       "3           Yes             No                         2              No  ...   \n",
       "4           Yes             No                         2              No  ...   \n",
       "\n",
       "  device_protection tech_support streaming_tv streaming_movies  \\\n",
       "0                No          Yes          Yes               No   \n",
       "1                No           No           No              Yes   \n",
       "2               Yes           No           No               No   \n",
       "3               Yes           No          Yes              Yes   \n",
       "4                No          Yes          Yes               No   \n",
       "\n",
       "  contract_type_id  paperless_billing payment_type_id  monthly_charges  \\\n",
       "0                2                Yes               2             65.6   \n",
       "1                1                 No               2             59.9   \n",
       "2                1                Yes               1             73.9   \n",
       "3                1                Yes               1             98.0   \n",
       "4                1                Yes               2             83.9   \n",
       "\n",
       "   total_charges churn  \n",
       "0          593.3    No  \n",
       "1          542.4    No  \n",
       "2         280.85   Yes  \n",
       "3        1237.85   Yes  \n",
       "4          267.4   Yes  \n",
       "\n",
       "[5 rows x 21 columns]"
      ]
     },
     "execution_count": 348,
     "metadata": {},
     "output_type": "execute_result"
    }
   ],
   "source": [
    "customer_df.head()"
   ]
  },
  {
   "cell_type": "markdown",
   "id": "24acd5c7",
   "metadata": {},
   "source": [
    "- Does tenure correlate with monthly charges?"
   ]
  },
  {
   "cell_type": "code",
   "execution_count": 349,
   "id": "ac06fc99",
   "metadata": {},
   "outputs": [
    {
     "data": {
      "text/plain": [
       "Index(['customer_id', 'gender', 'senior_citizen', 'partner', 'dependents',\n",
       "       'tenure', 'phone_service', 'multiple_lines', 'internet_service_type_id',\n",
       "       'online_security', 'online_backup', 'device_protection', 'tech_support',\n",
       "       'streaming_tv', 'streaming_movies', 'contract_type_id',\n",
       "       'paperless_billing', 'payment_type_id', 'monthly_charges',\n",
       "       'total_charges', 'churn'],\n",
       "      dtype='object')"
      ]
     },
     "execution_count": 349,
     "metadata": {},
     "output_type": "execute_result"
    }
   ],
   "source": [
    "customer_df.columns"
   ]
  },
  {
   "cell_type": "code",
   "execution_count": 350,
   "id": "a3a8e881",
   "metadata": {},
   "outputs": [
    {
     "name": "stdout",
     "output_type": "stream",
     "text": [
      "<class 'pandas.core.frame.DataFrame'>\n",
      "RangeIndex: 7043 entries, 0 to 7042\n",
      "Data columns (total 2 columns):\n",
      " #   Column           Non-Null Count  Dtype  \n",
      "---  ------           --------------  -----  \n",
      " 0   monthly_charges  7043 non-null   float64\n",
      " 1   tenure           7043 non-null   int64  \n",
      "dtypes: float64(1), int64(1)\n",
      "memory usage: 110.2 KB\n"
     ]
    }
   ],
   "source": [
    "#customer_df.loc[customer_df['churn']== 'Yes'].total_charges.astype('float').mean() # previous entry for churn calculation\n",
    "\n",
    "charges_df = customer_df[['monthly_charges', 'tenure']] #showing the monthly customers and tenure columns\n",
    "charges_df.info()"
   ]
  },
  {
   "cell_type": "code",
   "execution_count": 351,
   "id": "edbfeb2f",
   "metadata": {},
   "outputs": [
    {
     "data": {
      "text/plain": [
       "<AxesSubplot:xlabel='tenure', ylabel='monthly_charges'>"
      ]
     },
     "execution_count": 351,
     "metadata": {},
     "output_type": "execute_result"
    },
    {
     "data": {
      "image/png": "[encoded data removed]",
      "text/plain": [
       "<Figure size 640x480 with 1 Axes>"
      ]
     },
     "metadata": {
      "image/png": {
       "height": 432,
       "width": 572
      }
     },
     "output_type": "display_data"
    }
   ],
   "source": [
    "sns.regplot(x='tenure', y='monthly_charges',  # plotting data that shows the correlation of the monthly charges and tenure for each customer\n",
    "            data=charges_df, marker='.', \n",
    "            line_kws={'color': 'rebeccapurple'})"
   ]
  },
  {
   "cell_type": "code",
   "execution_count": 352,
   "id": "b7b2b908",
   "metadata": {},
   "outputs": [],
   "source": [
    "α = 0.05 # setting the alpha = .05"
   ]
  },
  {
   "cell_type": "code",
   "execution_count": 353,
   "id": "ebbec85d",
   "metadata": {},
   "outputs": [
    {
     "data": {
      "text/plain": [
       "(0.27641678933130215, 1.0271266876409408e-123)"
      ]
     },
     "execution_count": 353,
     "metadata": {},
     "output_type": "execute_result"
    }
   ],
   "source": [
    "r, p = stats.spearmanr(charges_df.tenure, charges_df.monthly_charges) # no order necessary \n",
    "## Showing the correlation strength of the best fit line correlation and p-value\n",
    "r, p"
   ]
  },
  {
   "cell_type": "code",
   "execution_count": 354,
   "id": "2d01a557",
   "metadata": {},
   "outputs": [
    {
     "name": "stdout",
     "output_type": "stream",
     "text": [
      "reject the null hypothesis.there is a linear correalation better monthly charges and tenure (p-value: 1.0271266876409408e-123)\n"
     ]
    }
   ],
   "source": [
    "# defining a function that prints our findings and calls the variable to print whether to reject the H_0 or fail to reject(H_a)\n",
    "def findings(α, p):\n",
    "    if p < α:\n",
    "        print( f'reject the null hypothesis.there is a linear correalation better monthly charges and tenure (p-value: {p})')\n",
    "    else:\n",
    "        print(f'we fail to reject the null hypothesis that there is a linear correalation between monthly charges and tenure (p-value: {p})')\n",
    "\n",
    "findings(α, p)      "
   ]
  },
  {
   "cell_type": "markdown",
   "id": "0a716624",
   "metadata": {},
   "source": [
    "**Takeaways**\n",
    "\n",
    "There is a correlation between monthly charges and tenure. \n",
    "With an r of .28, we can say that there is a correlation with an increase/decrease in monthly payments and tenure"
   ]
  },
  {
   "cell_type": "markdown",
   "id": "7018d126",
   "metadata": {},
   "source": [
    "### Does Tenure correlate with total charges?"
   ]
  },
  {
   "cell_type": "markdown",
   "id": "695bdb82",
   "metadata": {},
   "source": [
    "- H_0: There is no linear correlation between tenure and total charges.\n",
    "- H_a: There is a linear correlation between tenure and total charges."
   ]
  },
  {
   "cell_type": "code",
   "execution_count": 355,
   "id": "1243d071",
   "metadata": {},
   "outputs": [
    {
     "data": {
      "text/html": [
       "<div>\n",
       "<style scoped>\n",
       "    .dataframe tbody tr th:only-of-type {\n",
       "        vertical-align: middle;\n",
       "    }\n",
       "\n",
       "    .dataframe tbody tr th {\n",
       "        vertical-align: top;\n",
       "    }\n",
       "\n",
       "    .dataframe thead th {\n",
       "        text-align: right;\n",
       "    }\n",
       "</style>\n",
       "<table border=\"1\" class=\"dataframe\">\n",
       "  <thead>\n",
       "    <tr style=\"text-align: right;\">\n",
       "      <th></th>\n",
       "      <th>tenure</th>\n",
       "      <th>total_charges</th>\n",
       "    </tr>\n",
       "  </thead>\n",
       "  <tbody>\n",
       "    <tr>\n",
       "      <th>0</th>\n",
       "      <td>9</td>\n",
       "      <td>593.3</td>\n",
       "    </tr>\n",
       "    <tr>\n",
       "      <th>1</th>\n",
       "      <td>9</td>\n",
       "      <td>542.4</td>\n",
       "    </tr>\n",
       "    <tr>\n",
       "      <th>2</th>\n",
       "      <td>4</td>\n",
       "      <td>280.85</td>\n",
       "    </tr>\n",
       "    <tr>\n",
       "      <th>3</th>\n",
       "      <td>13</td>\n",
       "      <td>1237.85</td>\n",
       "    </tr>\n",
       "    <tr>\n",
       "      <th>4</th>\n",
       "      <td>3</td>\n",
       "      <td>267.4</td>\n",
       "    </tr>\n",
       "    <tr>\n",
       "      <th>...</th>\n",
       "      <td>...</td>\n",
       "      <td>...</td>\n",
       "    </tr>\n",
       "    <tr>\n",
       "      <th>7038</th>\n",
       "      <td>13</td>\n",
       "      <td>742.9</td>\n",
       "    </tr>\n",
       "    <tr>\n",
       "      <th>7039</th>\n",
       "      <td>22</td>\n",
       "      <td>1873.7</td>\n",
       "    </tr>\n",
       "    <tr>\n",
       "      <th>7040</th>\n",
       "      <td>2</td>\n",
       "      <td>92.75</td>\n",
       "    </tr>\n",
       "    <tr>\n",
       "      <th>7041</th>\n",
       "      <td>67</td>\n",
       "      <td>4627.65</td>\n",
       "    </tr>\n",
       "    <tr>\n",
       "      <th>7042</th>\n",
       "      <td>63</td>\n",
       "      <td>3707.6</td>\n",
       "    </tr>\n",
       "  </tbody>\n",
       "</table>\n",
       "<p>7043 rows × 2 columns</p>\n",
       "</div>"
      ],
      "text/plain": [
       "      tenure total_charges\n",
       "0          9         593.3\n",
       "1          9         542.4\n",
       "2          4        280.85\n",
       "3         13       1237.85\n",
       "4          3         267.4\n",
       "...      ...           ...\n",
       "7038      13         742.9\n",
       "7039      22        1873.7\n",
       "7040       2         92.75\n",
       "7041      67       4627.65\n",
       "7042      63        3707.6\n",
       "\n",
       "[7043 rows x 2 columns]"
      ]
     },
     "execution_count": 355,
     "metadata": {},
     "output_type": "execute_result"
    }
   ],
   "source": [
    "#Setting the alpha\n",
    "α = 0.05 \n",
    "\n",
    "# Selecting the data\n",
    "total_charges_tenure_df = customer_df[['tenure', 'total_charges']]\n",
    "total_charges_tenure_df"
   ]
  },
  {
   "cell_type": "markdown",
   "id": "6eb5a4d5",
   "metadata": {},
   "source": [
    "## Chi Square Exercises"
   ]
  },
  {
   "cell_type": "markdown",
   "id": "7b466d01",
   "metadata": {},
   "source": [
    "### Answer with the type of stats test you would use (assume normal distribution):\n",
    "- Do students get better test grades if they have a rubber duck on their desk?\n",
    "    -t-test 1 tail"
   ]
  },
  {
   "cell_type": "markdown",
   "id": "a7d482dc",
   "metadata": {},
   "source": [
    "- Does smoking affect when or not someone has lung cancer?\n",
    "    - Chi Square testing"
   ]
  },
  {
   "cell_type": "markdown",
   "id": "41e7585b",
   "metadata": {},
   "source": [
    "- Is gender independent of a person’s blood type?\n",
    "    -Yes, Chi square testing"
   ]
  },
  {
   "cell_type": "markdown",
   "id": "e83bbaab",
   "metadata": {},
   "source": [
    "- A farming company wants to know if a new fertilizer has improved crop yield or not\n",
    "    - t-test 2 tail"
   ]
  },
  {
   "cell_type": "markdown",
   "id": "845f1357",
   "metadata": {},
   "source": [
    "- Does the length of time of the lecture correlate with a students grade?\n",
    "    - pearsonr"
   ]
  },
  {
   "cell_type": "markdown",
   "id": "8e479d8c",
   "metadata": {},
   "source": [
    "- Do people with dogs live in apartments more than people with cats?\n",
    "- chi testing"
   ]
  },
  {
   "cell_type": "markdown",
   "id": "8d75de2e",
   "metadata": {},
   "source": [
    "**Whether using a macbook and being a codeup student are independent of each other.**"
   ]
  },
  {
   "cell_type": "markdown",
   "id": "256fc521",
   "metadata": {},
   "source": [
    "-*The data shows that there is a relationship between codeup students and macbooks vs not being a codeup student and macbooks.*"
   ]
  },
  {
   "cell_type": "markdown",
   "id": "b2796397",
   "metadata": {},
   "source": [
    "## III. MPG dataset"
   ]
  },
  {
   "cell_type": "markdown",
   "id": "189c7d68",
   "metadata": {},
   "source": [
    "### Is there a correlation between transmission of cars and manufacturers?"
   ]
  },
  {
   "cell_type": "markdown",
   "id": "a2c2a67f",
   "metadata": {},
   "source": [
    "$H_0$: There is not a significant relationship between the mpg transmission and manufacturer."
   ]
  },
  {
   "cell_type": "markdown",
   "id": "d1a10ded",
   "metadata": {},
   "source": [
    "$H_a$: There is a significant correlation between mpg transmission and manufacturer. "
   ]
  },
  {
   "cell_type": "code",
   "execution_count": 356,
   "id": "c871cae5",
   "metadata": {},
   "outputs": [],
   "source": [
    "mpg = data('mpg')"
   ]
  },
  {
   "cell_type": "code",
   "execution_count": 357,
   "id": "fd5a0dd4",
   "metadata": {},
   "outputs": [
    {
     "data": {
      "text/plain": [
       "Index(['manufacturer', 'model', 'displ', 'year', 'cyl', 'trans', 'drv', 'cty',\n",
       "       'hwy', 'fl', 'class'],\n",
       "      dtype='object')"
      ]
     },
     "execution_count": 357,
     "metadata": {},
     "output_type": "execute_result"
    }
   ],
   "source": [
    "mpg.columns"
   ]
  },
  {
   "cell_type": "code",
   "execution_count": 358,
   "id": "300b76d1",
   "metadata": {},
   "outputs": [
    {
     "data": {
      "text/html": [
       "<div>\n",
       "<style scoped>\n",
       "    .dataframe tbody tr th:only-of-type {\n",
       "        vertical-align: middle;\n",
       "    }\n",
       "\n",
       "    .dataframe tbody tr th {\n",
       "        vertical-align: top;\n",
       "    }\n",
       "\n",
       "    .dataframe thead th {\n",
       "        text-align: right;\n",
       "    }\n",
       "</style>\n",
       "<table border=\"1\" class=\"dataframe\">\n",
       "  <thead>\n",
       "    <tr style=\"text-align: right;\">\n",
       "      <th></th>\n",
       "      <th>manufacturer</th>\n",
       "      <th>model</th>\n",
       "      <th>displ</th>\n",
       "      <th>year</th>\n",
       "      <th>cyl</th>\n",
       "      <th>trans</th>\n",
       "      <th>drv</th>\n",
       "      <th>cty</th>\n",
       "      <th>hwy</th>\n",
       "      <th>fl</th>\n",
       "      <th>class</th>\n",
       "    </tr>\n",
       "  </thead>\n",
       "  <tbody>\n",
       "    <tr>\n",
       "      <th>1</th>\n",
       "      <td>audi</td>\n",
       "      <td>a4</td>\n",
       "      <td>1.8</td>\n",
       "      <td>1999</td>\n",
       "      <td>4</td>\n",
       "      <td>auto(l5)</td>\n",
       "      <td>f</td>\n",
       "      <td>18</td>\n",
       "      <td>29</td>\n",
       "      <td>p</td>\n",
       "      <td>compact</td>\n",
       "    </tr>\n",
       "    <tr>\n",
       "      <th>2</th>\n",
       "      <td>audi</td>\n",
       "      <td>a4</td>\n",
       "      <td>1.8</td>\n",
       "      <td>1999</td>\n",
       "      <td>4</td>\n",
       "      <td>manual(m5)</td>\n",
       "      <td>f</td>\n",
       "      <td>21</td>\n",
       "      <td>29</td>\n",
       "      <td>p</td>\n",
       "      <td>compact</td>\n",
       "    </tr>\n",
       "    <tr>\n",
       "      <th>3</th>\n",
       "      <td>audi</td>\n",
       "      <td>a4</td>\n",
       "      <td>2.0</td>\n",
       "      <td>2008</td>\n",
       "      <td>4</td>\n",
       "      <td>manual(m6)</td>\n",
       "      <td>f</td>\n",
       "      <td>20</td>\n",
       "      <td>31</td>\n",
       "      <td>p</td>\n",
       "      <td>compact</td>\n",
       "    </tr>\n",
       "    <tr>\n",
       "      <th>4</th>\n",
       "      <td>audi</td>\n",
       "      <td>a4</td>\n",
       "      <td>2.0</td>\n",
       "      <td>2008</td>\n",
       "      <td>4</td>\n",
       "      <td>auto(av)</td>\n",
       "      <td>f</td>\n",
       "      <td>21</td>\n",
       "      <td>30</td>\n",
       "      <td>p</td>\n",
       "      <td>compact</td>\n",
       "    </tr>\n",
       "    <tr>\n",
       "      <th>5</th>\n",
       "      <td>audi</td>\n",
       "      <td>a4</td>\n",
       "      <td>2.8</td>\n",
       "      <td>1999</td>\n",
       "      <td>6</td>\n",
       "      <td>auto(l5)</td>\n",
       "      <td>f</td>\n",
       "      <td>16</td>\n",
       "      <td>26</td>\n",
       "      <td>p</td>\n",
       "      <td>compact</td>\n",
       "    </tr>\n",
       "  </tbody>\n",
       "</table>\n",
       "</div>"
      ],
      "text/plain": [
       "  manufacturer model  displ  year  cyl       trans drv  cty  hwy fl    class\n",
       "1         audi    a4    1.8  1999    4    auto(l5)   f   18   29  p  compact\n",
       "2         audi    a4    1.8  1999    4  manual(m5)   f   21   29  p  compact\n",
       "3         audi    a4    2.0  2008    4  manual(m6)   f   20   31  p  compact\n",
       "4         audi    a4    2.0  2008    4    auto(av)   f   21   30  p  compact\n",
       "5         audi    a4    2.8  1999    6    auto(l5)   f   16   26  p  compact"
      ]
     },
     "execution_count": 358,
     "metadata": {},
     "output_type": "execute_result"
    }
   ],
   "source": [
    "mpg.head()"
   ]
  },
  {
   "cell_type": "code",
   "execution_count": 359,
   "id": "01e03fd1",
   "metadata": {},
   "outputs": [
    {
     "data": {
      "text/plain": [
       "f    106\n",
       "4    103\n",
       "r     25\n",
       "Name: drv, dtype: int64"
      ]
     },
     "execution_count": 359,
     "metadata": {},
     "output_type": "execute_result"
    }
   ],
   "source": [
    "mpg['drv'].value_counts()"
   ]
  },
  {
   "cell_type": "code",
   "execution_count": 360,
   "id": "e1026fae",
   "metadata": {},
   "outputs": [
    {
     "data": {
      "text/html": [
       "<div>\n",
       "<style scoped>\n",
       "    .dataframe tbody tr th:only-of-type {\n",
       "        vertical-align: middle;\n",
       "    }\n",
       "\n",
       "    .dataframe tbody tr th {\n",
       "        vertical-align: top;\n",
       "    }\n",
       "\n",
       "    .dataframe thead th {\n",
       "        text-align: right;\n",
       "    }\n",
       "</style>\n",
       "<table border=\"1\" class=\"dataframe\">\n",
       "  <thead>\n",
       "    <tr style=\"text-align: right;\">\n",
       "      <th>manufacturer</th>\n",
       "      <th>audi</th>\n",
       "      <th>chevrolet</th>\n",
       "      <th>dodge</th>\n",
       "      <th>ford</th>\n",
       "      <th>honda</th>\n",
       "      <th>hyundai</th>\n",
       "      <th>jeep</th>\n",
       "      <th>land rover</th>\n",
       "      <th>lincoln</th>\n",
       "      <th>mercury</th>\n",
       "      <th>nissan</th>\n",
       "      <th>pontiac</th>\n",
       "      <th>subaru</th>\n",
       "      <th>toyota</th>\n",
       "      <th>volkswagen</th>\n",
       "    </tr>\n",
       "    <tr>\n",
       "      <th>drv</th>\n",
       "      <th></th>\n",
       "      <th></th>\n",
       "      <th></th>\n",
       "      <th></th>\n",
       "      <th></th>\n",
       "      <th></th>\n",
       "      <th></th>\n",
       "      <th></th>\n",
       "      <th></th>\n",
       "      <th></th>\n",
       "      <th></th>\n",
       "      <th></th>\n",
       "      <th></th>\n",
       "      <th></th>\n",
       "      <th></th>\n",
       "    </tr>\n",
       "  </thead>\n",
       "  <tbody>\n",
       "    <tr>\n",
       "      <th>4</th>\n",
       "      <td>11</td>\n",
       "      <td>4</td>\n",
       "      <td>26</td>\n",
       "      <td>13</td>\n",
       "      <td>0</td>\n",
       "      <td>0</td>\n",
       "      <td>8</td>\n",
       "      <td>4</td>\n",
       "      <td>0</td>\n",
       "      <td>4</td>\n",
       "      <td>4</td>\n",
       "      <td>0</td>\n",
       "      <td>14</td>\n",
       "      <td>15</td>\n",
       "      <td>0</td>\n",
       "    </tr>\n",
       "    <tr>\n",
       "      <th>f</th>\n",
       "      <td>7</td>\n",
       "      <td>5</td>\n",
       "      <td>11</td>\n",
       "      <td>0</td>\n",
       "      <td>9</td>\n",
       "      <td>14</td>\n",
       "      <td>0</td>\n",
       "      <td>0</td>\n",
       "      <td>0</td>\n",
       "      <td>0</td>\n",
       "      <td>9</td>\n",
       "      <td>5</td>\n",
       "      <td>0</td>\n",
       "      <td>19</td>\n",
       "      <td>27</td>\n",
       "    </tr>\n",
       "    <tr>\n",
       "      <th>r</th>\n",
       "      <td>0</td>\n",
       "      <td>10</td>\n",
       "      <td>0</td>\n",
       "      <td>12</td>\n",
       "      <td>0</td>\n",
       "      <td>0</td>\n",
       "      <td>0</td>\n",
       "      <td>0</td>\n",
       "      <td>3</td>\n",
       "      <td>0</td>\n",
       "      <td>0</td>\n",
       "      <td>0</td>\n",
       "      <td>0</td>\n",
       "      <td>0</td>\n",
       "      <td>0</td>\n",
       "    </tr>\n",
       "  </tbody>\n",
       "</table>\n",
       "</div>"
      ],
      "text/plain": [
       "manufacturer  audi  chevrolet  dodge  ford  honda  hyundai  jeep  land rover  \\\n",
       "drv                                                                            \n",
       "4               11          4     26    13      0        0     8           4   \n",
       "f                7          5     11     0      9       14     0           0   \n",
       "r                0         10      0    12      0        0     0           0   \n",
       "\n",
       "manufacturer  lincoln  mercury  nissan  pontiac  subaru  toyota  volkswagen  \n",
       "drv                                                                          \n",
       "4                   0        4       4        0      14      15           0  \n",
       "f                   0        0       9        5       0      19          27  \n",
       "r                   3        0       0        0       0       0           0  "
      ]
     },
     "execution_count": 360,
     "metadata": {},
     "output_type": "execute_result"
    }
   ],
   "source": [
    "observed = pd.crosstab(mpg.drv, mpg.manufacturer)\n",
    "observed"
   ]
  },
  {
   "cell_type": "code",
   "execution_count": 362,
   "id": "e3b483be",
   "metadata": {},
   "outputs": [],
   "source": [
    "α = 0.05 # Setting the alpha"
   ]
  },
  {
   "cell_type": "code",
   "execution_count": 363,
   "id": "a9b6daa9",
   "metadata": {},
   "outputs": [],
   "source": [
    "chi2, p, degf, expected = stats.chi2_contingency(observed)"
   ]
  },
  {
   "cell_type": "markdown",
   "id": "2a625acc",
   "metadata": {},
   "source": [
    "### Review Findings"
   ]
  },
  {
   "cell_type": "code",
   "execution_count": 367,
   "id": "dd531c16",
   "metadata": {},
   "outputs": [
    {
     "name": "stdout",
     "output_type": "stream",
     "text": [
      "[[11  4 26 13  0  0  8  4  0  4  4  0 14 15  0]\n",
      " [ 7  5 11  0  9 14  0  0  0  0  9  5  0 19 27]\n",
      " [ 0 10  0 12  0  0  0  0  3  0  0  0  0  0  0]]\n"
     ]
    }
   ],
   "source": [
    "# observed array\n",
    "print(observed.values)"
   ]
  },
  {
   "cell_type": "code",
   "execution_count": 370,
   "id": "02db5ef7",
   "metadata": {},
   "outputs": [
    {
     "name": "stdout",
     "output_type": "stream",
     "text": [
      "[[ 7  8 16 11  3  6  3  1  1  1  5  2  6 14 11]\n",
      " [ 8  8 16 11  4  6  3  1  1  1  5  2  6 15 12]\n",
      " [ 1  2  3  2  0  1  0  0  0  0  1  0  1  3  2]]\n"
     ]
    }
   ],
   "source": [
    "# Expected array\n",
    "print(expected.astype(int))"
   ]
  },
  {
   "cell_type": "code",
   "execution_count": 371,
   "id": "10509419",
   "metadata": {},
   "outputs": [
    {
     "name": "stdout",
     "output_type": "stream",
     "text": [
      "chi^2 = 232.0345\n"
     ]
    }
   ],
   "source": [
    "# chi2 value. \n",
    "print(f'chi^2 = {chi2:.4f}') "
   ]
  },
  {
   "cell_type": "code",
   "execution_count": 376,
   "id": "5c0107a1",
   "metadata": {},
   "outputs": [
    {
     "name": "stdout",
     "output_type": "stream",
     "text": [
      "p= 5.128094076734575e-34\n"
     ]
    }
   ],
   "source": [
    "# p-value.\n",
    "print(f'p= {p}')"
   ]
  },
  {
   "cell_type": "code",
   "execution_count": 374,
   "id": "82326ea1",
   "metadata": {},
   "outputs": [
    {
     "name": "stdout",
     "output_type": "stream",
     "text": [
      "Is p-value < alpha? True\n"
     ]
    }
   ],
   "source": [
    "print('Is p-value < alpha?', p < α)\n"
   ]
  },
  {
   "cell_type": "code",
   "execution_count": 379,
   "id": "924d797e",
   "metadata": {},
   "outputs": [
    {
     "data": {
      "text/html": [
       "<div>\n",
       "<style scoped>\n",
       "    .dataframe tbody tr th:only-of-type {\n",
       "        vertical-align: middle;\n",
       "    }\n",
       "\n",
       "    .dataframe tbody tr th {\n",
       "        vertical-align: top;\n",
       "    }\n",
       "\n",
       "    .dataframe thead th {\n",
       "        text-align: right;\n",
       "    }\n",
       "</style>\n",
       "<table border=\"1\" class=\"dataframe\">\n",
       "  <thead>\n",
       "    <tr style=\"text-align: right;\">\n",
       "      <th>manufacturer</th>\n",
       "      <th>audi</th>\n",
       "      <th>chevrolet</th>\n",
       "      <th>dodge</th>\n",
       "      <th>ford</th>\n",
       "      <th>honda</th>\n",
       "      <th>hyundai</th>\n",
       "      <th>jeep</th>\n",
       "      <th>land rover</th>\n",
       "      <th>lincoln</th>\n",
       "      <th>mercury</th>\n",
       "      <th>nissan</th>\n",
       "      <th>pontiac</th>\n",
       "      <th>subaru</th>\n",
       "      <th>toyota</th>\n",
       "      <th>volkswagen</th>\n",
       "    </tr>\n",
       "    <tr>\n",
       "      <th>drv</th>\n",
       "      <th></th>\n",
       "      <th></th>\n",
       "      <th></th>\n",
       "      <th></th>\n",
       "      <th></th>\n",
       "      <th></th>\n",
       "      <th></th>\n",
       "      <th></th>\n",
       "      <th></th>\n",
       "      <th></th>\n",
       "      <th></th>\n",
       "      <th></th>\n",
       "      <th></th>\n",
       "      <th></th>\n",
       "      <th></th>\n",
       "    </tr>\n",
       "  </thead>\n",
       "  <tbody>\n",
       "    <tr>\n",
       "      <th>4</th>\n",
       "      <td>11</td>\n",
       "      <td>4</td>\n",
       "      <td>26</td>\n",
       "      <td>13</td>\n",
       "      <td>0</td>\n",
       "      <td>0</td>\n",
       "      <td>8</td>\n",
       "      <td>4</td>\n",
       "      <td>0</td>\n",
       "      <td>4</td>\n",
       "      <td>4</td>\n",
       "      <td>0</td>\n",
       "      <td>14</td>\n",
       "      <td>15</td>\n",
       "      <td>0</td>\n",
       "    </tr>\n",
       "    <tr>\n",
       "      <th>f</th>\n",
       "      <td>7</td>\n",
       "      <td>5</td>\n",
       "      <td>11</td>\n",
       "      <td>0</td>\n",
       "      <td>9</td>\n",
       "      <td>14</td>\n",
       "      <td>0</td>\n",
       "      <td>0</td>\n",
       "      <td>0</td>\n",
       "      <td>0</td>\n",
       "      <td>9</td>\n",
       "      <td>5</td>\n",
       "      <td>0</td>\n",
       "      <td>19</td>\n",
       "      <td>27</td>\n",
       "    </tr>\n",
       "    <tr>\n",
       "      <th>r</th>\n",
       "      <td>0</td>\n",
       "      <td>10</td>\n",
       "      <td>0</td>\n",
       "      <td>12</td>\n",
       "      <td>0</td>\n",
       "      <td>0</td>\n",
       "      <td>0</td>\n",
       "      <td>0</td>\n",
       "      <td>3</td>\n",
       "      <td>0</td>\n",
       "      <td>0</td>\n",
       "      <td>0</td>\n",
       "      <td>0</td>\n",
       "      <td>0</td>\n",
       "      <td>0</td>\n",
       "    </tr>\n",
       "  </tbody>\n",
       "</table>\n",
       "</div>"
      ],
      "text/plain": [
       "manufacturer  audi  chevrolet  dodge  ford  honda  hyundai  jeep  land rover  \\\n",
       "drv                                                                            \n",
       "4               11          4     26    13      0        0     8           4   \n",
       "f                7          5     11     0      9       14     0           0   \n",
       "r                0         10      0    12      0        0     0           0   \n",
       "\n",
       "manufacturer  lincoln  mercury  nissan  pontiac  subaru  toyota  volkswagen  \n",
       "drv                                                                          \n",
       "4                   0        4       4        0      14      15           0  \n",
       "f                   0        0       9        5       0      19          27  \n",
       "r                   3        0       0        0       0       0           0  "
      ]
     },
     "execution_count": 379,
     "metadata": {},
     "output_type": "execute_result"
    }
   ],
   "source": [
    "expected\n",
    "observed"
   ]
  },
  {
   "cell_type": "code",
   "execution_count": 382,
   "id": "511ea657",
   "metadata": {},
   "outputs": [
    {
     "name": "stdout",
     "output_type": "stream",
     "text": [
      "Expected DataFrame\n",
      "manufacturer  audi  chevrolet  dodge  ford  honda  hyundai  jeep  land rover  \\\n",
      "drv                                                                            \n",
      "4                7          8     16    11      3        6     3           1   \n",
      "f                8          8     16    11      4        6     3           1   \n",
      "r                1          2      3     2      0        1     0           0   \n",
      "\n",
      "manufacturer  lincoln  mercury  nissan  pontiac  subaru  toyota  volkswagen  \n",
      "drv                                                                          \n",
      "4                   1        1       5        2       6      14          11  \n",
      "f                   1        1       5        2       6      15          12  \n",
      "r                   0        0       1        0       1       3           2  \n"
     ]
    }
   ],
   "source": [
    "print(\"Expected DataFrame\")\n",
    "print(pd.DataFrame(expected.astype('int'), index=observed.index, columns=observed.columns))"
   ]
  },
  {
   "cell_type": "code",
   "execution_count": 383,
   "id": "e0903cc7",
   "metadata": {},
   "outputs": [
    {
     "name": "stdout",
     "output_type": "stream",
     "text": [
      "\n",
      "\n",
      "Observed DataFrame\n",
      "manufacturer  audi  chevrolet  dodge  ford  honda  hyundai  jeep  land rover  \\\n",
      "drv                                                                            \n",
      "4               11          4     26    13      0        0     8           4   \n",
      "f                7          5     11     0      9       14     0           0   \n",
      "r                0         10      0    12      0        0     0           0   \n",
      "\n",
      "manufacturer  lincoln  mercury  nissan  pontiac  subaru  toyota  volkswagen  \n",
      "drv                                                                          \n",
      "4                   0        4       4        0      14      15           0  \n",
      "f                   0        0       9        5       0      19          27  \n",
      "r                   3        0       0        0       0       0           0  \n"
     ]
    }
   ],
   "source": [
    "print(\"\\n\")\n",
    "print(\"Observed DataFrame\")\n",
    "print(observed)"
   ]
  },
  {
   "cell_type": "markdown",
   "id": "c6e115fb",
   "metadata": {},
   "source": [
    "**Takeaways**\n",
    "\n",
    "We can see by comparing the contingency tables that the observed values are not very close to the expected values. We can confirm that, with the data available, there does not appear to be a significant relationship between transmission drive and manufacturer. "
   ]
  },
  {
   "cell_type": "markdown",
   "id": "9cc554b4",
   "metadata": {},
   "source": [
    "### IV. Employees Dataset "
   ]
  },
  {
   "cell_type": "markdown",
   "id": "55443187",
   "metadata": {},
   "source": [
    "### Is there a correlation between transmission of cars and manufacturers?"
   ]
  },
  {
   "cell_type": "markdown",
   "id": "d3fa0a09",
   "metadata": {},
   "source": [
    "$H_0$: There is not a significant relationship between the gender and departments: sales and customer service."
   ]
  },
  {
   "cell_type": "raw",
   "id": "4701403f",
   "metadata": {},
   "source": [
    "$H_a$: There is a significant correlation between gender and departments: sales and customer service. "
   ]
  },
  {
   "cell_type": "code",
   "execution_count": 389,
   "id": "c1e54a18",
   "metadata": {},
   "outputs": [],
   "source": [
    "import pandas as pd\n",
    "import env\n",
    "\n",
    "def get_db_url(username, password, host, db):\n",
    "    return f'mysql+pymysql://{username}:{password}@{host}/{db}'\n",
    "\n",
    "url = get_db_url(env.username, env.password, env.host, db='employees') # Loading dataset "
   ]
  },
  {
   "cell_type": "code",
   "execution_count": 424,
   "id": "10d41e71",
   "metadata": {},
   "outputs": [],
   "source": [
    "query = '''\n",
    "SELECT *\n",
    "FROM employees AS a\n",
    "JOIN dept_emp AS b\n",
    "ON a.emp_no = b.emp_no\n",
    "JOIN departments AS c\n",
    "ON b.dept_no = c.dept_no\n",
    "WHERE to_date > CURDATE()\n",
    "AND dept_name IN ('Customer Service', 'Sales')\n",
    "ORDER BY dept_name ASC\n",
    "'''\n",
    "employees_df = pd.read_sql(query, url)"
   ]
  },
  {
   "cell_type": "code",
   "execution_count": 425,
   "id": "f8f57beb",
   "metadata": {},
   "outputs": [
    {
     "data": {
      "text/html": [
       "<div>\n",
       "<style scoped>\n",
       "    .dataframe tbody tr th:only-of-type {\n",
       "        vertical-align: middle;\n",
       "    }\n",
       "\n",
       "    .dataframe tbody tr th {\n",
       "        vertical-align: top;\n",
       "    }\n",
       "\n",
       "    .dataframe thead th {\n",
       "        text-align: right;\n",
       "    }\n",
       "</style>\n",
       "<table border=\"1\" class=\"dataframe\">\n",
       "  <thead>\n",
       "    <tr style=\"text-align: right;\">\n",
       "      <th></th>\n",
       "      <th>emp_no</th>\n",
       "      <th>birth_date</th>\n",
       "      <th>first_name</th>\n",
       "      <th>last_name</th>\n",
       "      <th>gender</th>\n",
       "      <th>hire_date</th>\n",
       "      <th>emp_no</th>\n",
       "      <th>dept_no</th>\n",
       "      <th>from_date</th>\n",
       "      <th>to_date</th>\n",
       "      <th>dept_no</th>\n",
       "      <th>dept_name</th>\n",
       "    </tr>\n",
       "  </thead>\n",
       "  <tbody>\n",
       "    <tr>\n",
       "      <th>0</th>\n",
       "      <td>10038</td>\n",
       "      <td>1960-07-20</td>\n",
       "      <td>Huan</td>\n",
       "      <td>Lortz</td>\n",
       "      <td>M</td>\n",
       "      <td>1989-09-20</td>\n",
       "      <td>10038</td>\n",
       "      <td>d009</td>\n",
       "      <td>1989-09-20</td>\n",
       "      <td>9999-01-01</td>\n",
       "      <td>d009</td>\n",
       "      <td>Customer Service</td>\n",
       "    </tr>\n",
       "    <tr>\n",
       "      <th>1</th>\n",
       "      <td>10049</td>\n",
       "      <td>1961-04-24</td>\n",
       "      <td>Basil</td>\n",
       "      <td>Tramer</td>\n",
       "      <td>F</td>\n",
       "      <td>1992-05-04</td>\n",
       "      <td>10049</td>\n",
       "      <td>d009</td>\n",
       "      <td>1992-05-04</td>\n",
       "      <td>9999-01-01</td>\n",
       "      <td>d009</td>\n",
       "      <td>Customer Service</td>\n",
       "    </tr>\n",
       "    <tr>\n",
       "      <th>2</th>\n",
       "      <td>10060</td>\n",
       "      <td>1961-10-15</td>\n",
       "      <td>Breannda</td>\n",
       "      <td>Billingsley</td>\n",
       "      <td>M</td>\n",
       "      <td>1987-11-02</td>\n",
       "      <td>10060</td>\n",
       "      <td>d009</td>\n",
       "      <td>1992-11-11</td>\n",
       "      <td>9999-01-01</td>\n",
       "      <td>d009</td>\n",
       "      <td>Customer Service</td>\n",
       "    </tr>\n",
       "    <tr>\n",
       "      <th>3</th>\n",
       "      <td>10088</td>\n",
       "      <td>1954-02-25</td>\n",
       "      <td>Jungsoon</td>\n",
       "      <td>Syrzycki</td>\n",
       "      <td>F</td>\n",
       "      <td>1988-09-02</td>\n",
       "      <td>10088</td>\n",
       "      <td>d009</td>\n",
       "      <td>1992-03-21</td>\n",
       "      <td>9999-01-01</td>\n",
       "      <td>d009</td>\n",
       "      <td>Customer Service</td>\n",
       "    </tr>\n",
       "    <tr>\n",
       "      <th>4</th>\n",
       "      <td>10112</td>\n",
       "      <td>1963-08-13</td>\n",
       "      <td>Yuichiro</td>\n",
       "      <td>Swick</td>\n",
       "      <td>F</td>\n",
       "      <td>1985-10-08</td>\n",
       "      <td>10112</td>\n",
       "      <td>d009</td>\n",
       "      <td>1998-05-01</td>\n",
       "      <td>9999-01-01</td>\n",
       "      <td>d009</td>\n",
       "      <td>Customer Service</td>\n",
       "    </tr>\n",
       "  </tbody>\n",
       "</table>\n",
       "</div>"
      ],
      "text/plain": [
       "   emp_no  birth_date first_name    last_name gender   hire_date  emp_no  \\\n",
       "0   10038  1960-07-20       Huan        Lortz      M  1989-09-20   10038   \n",
       "1   10049  1961-04-24      Basil       Tramer      F  1992-05-04   10049   \n",
       "2   10060  1961-10-15   Breannda  Billingsley      M  1987-11-02   10060   \n",
       "3   10088  1954-02-25   Jungsoon     Syrzycki      F  1988-09-02   10088   \n",
       "4   10112  1963-08-13   Yuichiro        Swick      F  1985-10-08   10112   \n",
       "\n",
       "  dept_no   from_date     to_date dept_no         dept_name  \n",
       "0    d009  1989-09-20  9999-01-01    d009  Customer Service  \n",
       "1    d009  1992-05-04  9999-01-01    d009  Customer Service  \n",
       "2    d009  1992-11-11  9999-01-01    d009  Customer Service  \n",
       "3    d009  1992-03-21  9999-01-01    d009  Customer Service  \n",
       "4    d009  1998-05-01  9999-01-01    d009  Customer Service  "
      ]
     },
     "execution_count": 425,
     "metadata": {},
     "output_type": "execute_result"
    }
   ],
   "source": [
    "employees_df.head()"
   ]
  },
  {
   "cell_type": "code",
   "execution_count": 426,
   "id": "4ceb8923",
   "metadata": {},
   "outputs": [
    {
     "data": {
      "text/plain": [
       "Index(['emp_no', 'birth_date', 'first_name', 'last_name', 'gender',\n",
       "       'hire_date', 'emp_no', 'dept_no', 'from_date', 'to_date', 'dept_no',\n",
       "       'dept_name'],\n",
       "      dtype='object')"
      ]
     },
     "execution_count": 426,
     "metadata": {},
     "output_type": "execute_result"
    }
   ],
   "source": [
    "employees_df.columns"
   ]
  },
  {
   "cell_type": "code",
   "execution_count": 428,
   "id": "f2351f93",
   "metadata": {},
   "outputs": [
    {
     "data": {
      "text/html": [
       "<div>\n",
       "<style scoped>\n",
       "    .dataframe tbody tr th:only-of-type {\n",
       "        vertical-align: middle;\n",
       "    }\n",
       "\n",
       "    .dataframe tbody tr th {\n",
       "        vertical-align: top;\n",
       "    }\n",
       "\n",
       "    .dataframe thead th {\n",
       "        text-align: right;\n",
       "    }\n",
       "</style>\n",
       "<table border=\"1\" class=\"dataframe\">\n",
       "  <thead>\n",
       "    <tr style=\"text-align: right;\">\n",
       "      <th></th>\n",
       "      <th>gender</th>\n",
       "      <th>dept_name</th>\n",
       "    </tr>\n",
       "  </thead>\n",
       "  <tbody>\n",
       "    <tr>\n",
       "      <th>0</th>\n",
       "      <td>M</td>\n",
       "      <td>Customer Service</td>\n",
       "    </tr>\n",
       "    <tr>\n",
       "      <th>1</th>\n",
       "      <td>F</td>\n",
       "      <td>Customer Service</td>\n",
       "    </tr>\n",
       "    <tr>\n",
       "      <th>2</th>\n",
       "      <td>M</td>\n",
       "      <td>Customer Service</td>\n",
       "    </tr>\n",
       "    <tr>\n",
       "      <th>3</th>\n",
       "      <td>F</td>\n",
       "      <td>Customer Service</td>\n",
       "    </tr>\n",
       "    <tr>\n",
       "      <th>4</th>\n",
       "      <td>F</td>\n",
       "      <td>Customer Service</td>\n",
       "    </tr>\n",
       "    <tr>\n",
       "      <th>...</th>\n",
       "      <td>...</td>\n",
       "      <td>...</td>\n",
       "    </tr>\n",
       "    <tr>\n",
       "      <th>55265</th>\n",
       "      <td>F</td>\n",
       "      <td>Sales</td>\n",
       "    </tr>\n",
       "    <tr>\n",
       "      <th>55266</th>\n",
       "      <td>M</td>\n",
       "      <td>Sales</td>\n",
       "    </tr>\n",
       "    <tr>\n",
       "      <th>55267</th>\n",
       "      <td>M</td>\n",
       "      <td>Sales</td>\n",
       "    </tr>\n",
       "    <tr>\n",
       "      <th>55268</th>\n",
       "      <td>F</td>\n",
       "      <td>Sales</td>\n",
       "    </tr>\n",
       "    <tr>\n",
       "      <th>55269</th>\n",
       "      <td>F</td>\n",
       "      <td>Sales</td>\n",
       "    </tr>\n",
       "  </tbody>\n",
       "</table>\n",
       "<p>55270 rows × 2 columns</p>\n",
       "</div>"
      ],
      "text/plain": [
       "      gender         dept_name\n",
       "0          M  Customer Service\n",
       "1          F  Customer Service\n",
       "2          M  Customer Service\n",
       "3          F  Customer Service\n",
       "4          F  Customer Service\n",
       "...      ...               ...\n",
       "55265      F             Sales\n",
       "55266      M             Sales\n",
       "55267      M             Sales\n",
       "55268      F             Sales\n",
       "55269      F             Sales\n",
       "\n",
       "[55270 rows x 2 columns]"
      ]
     },
     "execution_count": 428,
     "metadata": {},
     "output_type": "execute_result"
    }
   ],
   "source": [
    "employees_df.drop(['emp_no', 'hire_date', 'birth_date', 'dept_no','from_date', 'to_date', 'first_name', 'last_name'], axis=1) # Data cleaning process"
   ]
  },
  {
   "cell_type": "code",
   "execution_count": 429,
   "id": "18533635",
   "metadata": {},
   "outputs": [],
   "source": [
    "α = 0.05 # Setting the alpha"
   ]
  },
  {
   "cell_type": "code",
   "execution_count": 430,
   "id": "81576844",
   "metadata": {},
   "outputs": [],
   "source": [
    "observed = pd.crosstab(employees_df.gender, employees_df.dept_name)"
   ]
  },
  {
   "cell_type": "code",
   "execution_count": 431,
   "id": "9a4b9b14",
   "metadata": {},
   "outputs": [
    {
     "data": {
      "text/html": [
       "<div>\n",
       "<style scoped>\n",
       "    .dataframe tbody tr th:only-of-type {\n",
       "        vertical-align: middle;\n",
       "    }\n",
       "\n",
       "    .dataframe tbody tr th {\n",
       "        vertical-align: top;\n",
       "    }\n",
       "\n",
       "    .dataframe thead th {\n",
       "        text-align: right;\n",
       "    }\n",
       "</style>\n",
       "<table border=\"1\" class=\"dataframe\">\n",
       "  <thead>\n",
       "    <tr style=\"text-align: right;\">\n",
       "      <th>dept_name</th>\n",
       "      <th>Customer Service</th>\n",
       "      <th>Sales</th>\n",
       "    </tr>\n",
       "    <tr>\n",
       "      <th>gender</th>\n",
       "      <th></th>\n",
       "      <th></th>\n",
       "    </tr>\n",
       "  </thead>\n",
       "  <tbody>\n",
       "    <tr>\n",
       "      <th>F</th>\n",
       "      <td>7007</td>\n",
       "      <td>14999</td>\n",
       "    </tr>\n",
       "    <tr>\n",
       "      <th>M</th>\n",
       "      <td>10562</td>\n",
       "      <td>22702</td>\n",
       "    </tr>\n",
       "  </tbody>\n",
       "</table>\n",
       "</div>"
      ],
      "text/plain": [
       "dept_name  Customer Service  Sales\n",
       "gender                            \n",
       "F                      7007  14999\n",
       "M                     10562  22702"
      ]
     },
     "execution_count": 431,
     "metadata": {},
     "output_type": "execute_result"
    }
   ],
   "source": [
    "observed # observed DataFrame"
   ]
  },
  {
   "cell_type": "code",
   "execution_count": 437,
   "id": "cf0981e6",
   "metadata": {},
   "outputs": [],
   "source": [
    "chi2, p, degf, expected = stats.chi2_contingency(observed) # Chi square testing"
   ]
  },
  {
   "cell_type": "markdown",
   "id": "793b530d",
   "metadata": {},
   "source": [
    "### Review Findings"
   ]
  },
  {
   "cell_type": "code",
   "execution_count": 438,
   "id": "62f224f7",
   "metadata": {},
   "outputs": [
    {
     "name": "stdout",
     "output_type": "stream",
     "text": [
      "[[ 6995 15010]\n",
      " [10573 22690]]\n"
     ]
    }
   ],
   "source": [
    "# Expected array\n",
    "print(expected.astype(int))"
   ]
  },
  {
   "cell_type": "code",
   "execution_count": 439,
   "id": "db0b9fe3",
   "metadata": {},
   "outputs": [
    {
     "name": "stdout",
     "output_type": "stream",
     "text": [
      "chi^2 = 0.0446\n"
     ]
    }
   ],
   "source": [
    "# chi2 value. \n",
    "print(f'chi^2 = {chi2:.4f}') "
   ]
  },
  {
   "cell_type": "code",
   "execution_count": 440,
   "id": "d54fde3b",
   "metadata": {},
   "outputs": [
    {
     "name": "stdout",
     "output_type": "stream",
     "text": [
      "p= 0.8326526135574065\n"
     ]
    }
   ],
   "source": [
    "# p-value.\n",
    "print(f'p= {p}')"
   ]
  },
  {
   "cell_type": "code",
   "execution_count": 441,
   "id": "e12664d0",
   "metadata": {},
   "outputs": [
    {
     "name": "stdout",
     "output_type": "stream",
     "text": [
      "Is p-value < alpha? False\n"
     ]
    }
   ],
   "source": [
    "print('Is p-value < alpha?', p < α)"
   ]
  },
  {
   "cell_type": "code",
   "execution_count": 445,
   "id": "6fa15d78",
   "metadata": {},
   "outputs": [
    {
     "data": {
      "text/plain": [
       "array([[ 6995.17666003, 15010.82333997],\n",
       "       [10573.82333997, 22690.17666003]])"
      ]
     },
     "execution_count": 445,
     "metadata": {},
     "output_type": "execute_result"
    }
   ],
   "source": [
    "expected"
   ]
  },
  {
   "cell_type": "code",
   "execution_count": 444,
   "id": "3fbc7633",
   "metadata": {},
   "outputs": [
    {
     "data": {
      "text/html": [
       "<div>\n",
       "<style scoped>\n",
       "    .dataframe tbody tr th:only-of-type {\n",
       "        vertical-align: middle;\n",
       "    }\n",
       "\n",
       "    .dataframe tbody tr th {\n",
       "        vertical-align: top;\n",
       "    }\n",
       "\n",
       "    .dataframe thead th {\n",
       "        text-align: right;\n",
       "    }\n",
       "</style>\n",
       "<table border=\"1\" class=\"dataframe\">\n",
       "  <thead>\n",
       "    <tr style=\"text-align: right;\">\n",
       "      <th>dept_name</th>\n",
       "      <th>Customer Service</th>\n",
       "      <th>Sales</th>\n",
       "    </tr>\n",
       "    <tr>\n",
       "      <th>gender</th>\n",
       "      <th></th>\n",
       "      <th></th>\n",
       "    </tr>\n",
       "  </thead>\n",
       "  <tbody>\n",
       "    <tr>\n",
       "      <th>F</th>\n",
       "      <td>7007</td>\n",
       "      <td>14999</td>\n",
       "    </tr>\n",
       "    <tr>\n",
       "      <th>M</th>\n",
       "      <td>10562</td>\n",
       "      <td>22702</td>\n",
       "    </tr>\n",
       "  </tbody>\n",
       "</table>\n",
       "</div>"
      ],
      "text/plain": [
       "dept_name  Customer Service  Sales\n",
       "gender                            \n",
       "F                      7007  14999\n",
       "M                     10562  22702"
      ]
     },
     "execution_count": 444,
     "metadata": {},
     "output_type": "execute_result"
    }
   ],
   "source": [
    "observed"
   ]
  },
  {
   "cell_type": "code",
   "execution_count": 446,
   "id": "609a82e5",
   "metadata": {},
   "outputs": [
    {
     "name": "stdout",
     "output_type": "stream",
     "text": [
      "Expected DataFrame\n",
      "dept_name  Customer Service  Sales\n",
      "gender                            \n",
      "F                      6995  15010\n",
      "M                     10573  22690\n"
     ]
    }
   ],
   "source": [
    "print(\"Expected DataFrame\")\n",
    "print(pd.DataFrame(expected.astype('int'), index=observed.index, columns=observed.columns))"
   ]
  },
  {
   "cell_type": "code",
   "execution_count": 447,
   "id": "f16e37dd",
   "metadata": {},
   "outputs": [
    {
     "name": "stdout",
     "output_type": "stream",
     "text": [
      "\n",
      "\n",
      "Observed DataFrame\n",
      "dept_name  Customer Service  Sales\n",
      "gender                            \n",
      "F                      7007  14999\n",
      "M                     10562  22702\n"
     ]
    }
   ],
   "source": [
    "print(\"\\n\")\n",
    "print(\"Observed DataFrame\")\n",
    "print(observed)"
   ]
  },
  {
   "cell_type": "markdown",
   "id": "c2226681",
   "metadata": {},
   "source": [
    "**Takeaways**\n",
    "\n",
    "We can see by comparing the contingency tables that the observed values are very close to the expected values. We can confirm that, with the data available, there does appear to be a significant relationship between gender and department: sales and customer service. "
   ]
  },
  {
   "cell_type": "code",
   "execution_count": null,
   "id": "f93bd565",
   "metadata": {},
   "outputs": [],
   "source": []
  }
 ],
 "metadata": {
  "kernelspec": {
   "display_name": "Python 3 (ipykernel)",
   "language": "python",
   "name": "python3"
  },
  "language_info": {
   "codemirror_mode": {
    "name": "ipython",
    "version": 3
   },
   "file_extension": ".py",
   "mimetype": "text/x-python",
   "name": "python",
   "nbconvert_exporter": "python",
   "pygments_lexer": "ipython3",
   "version": "3.9.13"
  }
 },
 "nbformat": 4,
 "nbformat_minor": 5
}
