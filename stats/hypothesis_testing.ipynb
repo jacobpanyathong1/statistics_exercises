{
 "cells": [
  {
   "cell_type": "markdown",
   "id": "0fa415a5",
   "metadata": {},
   "source": [
    "#### Has network latency increased since ISP?"
   ]
  },
  {
   "cell_type": "markdown",
   "id": "b0f6ed96",
   "metadata": {},
   "source": [
    "Ho - latency has remained the same \n",
    "Ha - latency  has increased or decreased"
   ]
  },
  {
   "cell_type": "markdown",
   "id": "5879216a",
   "metadata": {},
   "source": [
    "### Is the website redesign working functionally and all the navigation links work properly?"
   ]
  },
  {
   "cell_type": "markdown",
   "id": "d9694501",
   "metadata": {},
   "source": [
    "Ho - do all links work and correct infor?.\n",
    "Ha - not all website links work and information is not correct.\n",
    "true positive - all links work and website shows the correct informtion.\n",
    "false positive - the link is broken but the information is right.\n",
    "click a link and it works but shows wrong information.\n",
    "true negative - click a link and it works but shows wrong information.\n",
    "false negative - links are broken and information is wrong. "
   ]
  },
  {
   "cell_type": "markdown",
   "id": "b47271b4",
   "metadata": {},
   "source": [
    "### Effectiveness of an Ad\n",
    "Ho- sales did not increase or decrease revenue\n",
    "Ha - sales increased or decreased over time. "
   ]
  },
  {
   "cell_type": "code",
   "execution_count": null,
   "id": "b1048ba4",
   "metadata": {},
   "outputs": [],
   "source": []
  }
 ],
 "metadata": {
  "kernelspec": {
   "display_name": "Python 3 (ipykernel)",
   "language": "python",
   "name": "python3"
  },
  "language_info": {
   "codemirror_mode": {
    "name": "ipython",
    "version": 3
   },
   "file_extension": ".py",
   "mimetype": "text/x-python",
   "name": "python",
   "nbconvert_exporter": "python",
   "pygments_lexer": "ipython3",
   "version": "3.9.13"
  }
 },
 "nbformat": 4,
 "nbformat_minor": 5
}
