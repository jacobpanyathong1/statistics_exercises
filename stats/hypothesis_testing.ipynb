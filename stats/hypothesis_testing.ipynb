{
 "cells": [
  {
   "cell_type": "markdown",
   "id": "3537d016",
   "metadata": {},
   "source": [
    "#### Has network latency increased since ISP?"
   ]
  },
  {
   "cell_type": "markdown",
   "id": "a45b4832",
   "metadata": {},
   "source": [
    "Ho - latency has remained the same \n",
    "Ha - latency  has increased or decreased"
   ]
  },
  {
   "cell_type": "markdown",
   "id": "51ef5cbe",
   "metadata": {},
   "source": [
    "### Is the website redesign working functionally and all the navigation links work properly?"
   ]
  },
  {
   "cell_type": "markdown",
   "id": "f1ace7a2",
   "metadata": {},
   "source": [
    "Ho - do all links work and correct infor?.\n",
    "Ha - not all website links work and information is not correct.\n",
    "true positive - all links work and website shows the correct informtion.\n",
    "false positive - the link is broken but the information is right.\n",
    "click a link and it works but shows wrong information.\n",
    "true negative - click a link and it works but shows wrong information.\n",
    "false negative - links are broken and information is wrong. "
   ]
  },
  {
   "cell_type": "markdown",
   "id": "76030f87",
   "metadata": {},
   "source": [
    "### Effectiveness of an Ad\n",
    "Ho- sales did not increase or decrease revenue\n",
    "Ha - sales increased or decreased over time. "
   ]
  },
  {
   "cell_type": "code",
   "execution_count": 27,
   "id": "8aed3975",
   "metadata": {},
   "outputs": [],
   "source": [
    "from pydataset import data"
   ]
  },
  {
   "cell_type": "markdown",
   "id": "065f069c",
   "metadata": {},
   "source": [
    "1.  ttest - two observed means that depend on the population of students. "
   ]
  },
  {
   "cell_type": "markdown",
   "id": "747e6307",
   "metadata": {},
   "source": [
    "2.  ttest - two observed means that depend on adults who drink milk and who dont drink milk. "
   ]
  },
  {
   "cell_type": "markdown",
   "id": "382fc4d0",
   "metadata": {},
   "source": [
    "3. ttest - two observed means that depend on gas prices in New Mexico and Texas."
   ]
  },
  {
   "cell_type": "markdown",
   "id": "572f66d8",
   "metadata": {},
   "source": [
    "4. ANOVA - measure the distance between all three observed means. "
   ]
  },
  {
   "cell_type": "code",
   "execution_count": 28,
   "id": "9f44d2fb",
   "metadata": {},
   "outputs": [],
   "source": [
    "import pandas as pd\n",
    "import matplotlib.pyplot as plt\n",
    "import scipy.stats as stats\n",
    "import seaborn as sns\n",
    "import env\n",
    "\n",
    "mpg = data('mpg')"
   ]
  },
  {
   "cell_type": "code",
   "execution_count": 29,
   "id": "c8662129",
   "metadata": {},
   "outputs": [
    {
     "data": {
      "text/html": [
       "<div>\n",
       "<style scoped>\n",
       "    .dataframe tbody tr th:only-of-type {\n",
       "        vertical-align: middle;\n",
       "    }\n",
       "\n",
       "    .dataframe tbody tr th {\n",
       "        vertical-align: top;\n",
       "    }\n",
       "\n",
       "    .dataframe thead th {\n",
       "        text-align: right;\n",
       "    }\n",
       "</style>\n",
       "<table border=\"1\" class=\"dataframe\">\n",
       "  <thead>\n",
       "    <tr style=\"text-align: right;\">\n",
       "      <th></th>\n",
       "      <th>manufacturer</th>\n",
       "      <th>model</th>\n",
       "      <th>displ</th>\n",
       "      <th>year</th>\n",
       "      <th>cyl</th>\n",
       "      <th>trans</th>\n",
       "      <th>drv</th>\n",
       "      <th>cty</th>\n",
       "      <th>hwy</th>\n",
       "      <th>fl</th>\n",
       "      <th>class</th>\n",
       "    </tr>\n",
       "  </thead>\n",
       "  <tbody>\n",
       "    <tr>\n",
       "      <th>1</th>\n",
       "      <td>audi</td>\n",
       "      <td>a4</td>\n",
       "      <td>1.8</td>\n",
       "      <td>1999</td>\n",
       "      <td>4</td>\n",
       "      <td>auto(l5)</td>\n",
       "      <td>f</td>\n",
       "      <td>18</td>\n",
       "      <td>29</td>\n",
       "      <td>p</td>\n",
       "      <td>compact</td>\n",
       "    </tr>\n",
       "    <tr>\n",
       "      <th>2</th>\n",
       "      <td>audi</td>\n",
       "      <td>a4</td>\n",
       "      <td>1.8</td>\n",
       "      <td>1999</td>\n",
       "      <td>4</td>\n",
       "      <td>manual(m5)</td>\n",
       "      <td>f</td>\n",
       "      <td>21</td>\n",
       "      <td>29</td>\n",
       "      <td>p</td>\n",
       "      <td>compact</td>\n",
       "    </tr>\n",
       "    <tr>\n",
       "      <th>3</th>\n",
       "      <td>audi</td>\n",
       "      <td>a4</td>\n",
       "      <td>2.0</td>\n",
       "      <td>2008</td>\n",
       "      <td>4</td>\n",
       "      <td>manual(m6)</td>\n",
       "      <td>f</td>\n",
       "      <td>20</td>\n",
       "      <td>31</td>\n",
       "      <td>p</td>\n",
       "      <td>compact</td>\n",
       "    </tr>\n",
       "    <tr>\n",
       "      <th>4</th>\n",
       "      <td>audi</td>\n",
       "      <td>a4</td>\n",
       "      <td>2.0</td>\n",
       "      <td>2008</td>\n",
       "      <td>4</td>\n",
       "      <td>auto(av)</td>\n",
       "      <td>f</td>\n",
       "      <td>21</td>\n",
       "      <td>30</td>\n",
       "      <td>p</td>\n",
       "      <td>compact</td>\n",
       "    </tr>\n",
       "    <tr>\n",
       "      <th>5</th>\n",
       "      <td>audi</td>\n",
       "      <td>a4</td>\n",
       "      <td>2.8</td>\n",
       "      <td>1999</td>\n",
       "      <td>6</td>\n",
       "      <td>auto(l5)</td>\n",
       "      <td>f</td>\n",
       "      <td>16</td>\n",
       "      <td>26</td>\n",
       "      <td>p</td>\n",
       "      <td>compact</td>\n",
       "    </tr>\n",
       "  </tbody>\n",
       "</table>\n",
       "</div>"
      ],
      "text/plain": [
       "  manufacturer model  displ  year  cyl       trans drv  cty  hwy fl    class\n",
       "1         audi    a4    1.8  1999    4    auto(l5)   f   18   29  p  compact\n",
       "2         audi    a4    1.8  1999    4  manual(m5)   f   21   29  p  compact\n",
       "3         audi    a4    2.0  2008    4  manual(m6)   f   20   31  p  compact\n",
       "4         audi    a4    2.0  2008    4    auto(av)   f   21   30  p  compact\n",
       "5         audi    a4    2.8  1999    6    auto(l5)   f   16   26  p  compact"
      ]
     },
     "execution_count": 29,
     "metadata": {},
     "output_type": "execute_result"
    }
   ],
   "source": [
    "mpg.head()"
   ]
  },
  {
   "cell_type": "code",
   "execution_count": 35,
   "id": "5546c361",
   "metadata": {},
   "outputs": [
    {
     "data": {
      "text/plain": [
       "manufacturer    234\n",
       "model           234\n",
       "displ           234\n",
       "year            234\n",
       "cyl             234\n",
       "trans           234\n",
       "drv             234\n",
       "cty             234\n",
       "hwy             234\n",
       "fl              234\n",
       "class           234\n",
       "dtype: int64"
      ]
     },
     "execution_count": 35,
     "metadata": {},
     "output_type": "execute_result"
    }
   ],
   "source": [
    "mpg.count()"
   ]
  },
  {
   "cell_type": "markdown",
   "id": "f1c8b8a9",
   "metadata": {},
   "source": [
    "### Is there a difference in fuel efficiency between cars from 2008 vs 1999"
   ]
  },
  {
   "cell_type": "code",
   "execution_count": 37,
   "id": "d102ad06",
   "metadata": {},
   "outputs": [
    {
     "data": {
      "text/plain": [
       "Index(['manufacturer', 'model', 'displ', 'year', 'cyl', 'trans', 'drv', 'cty',\n",
       "       'hwy', 'fl', 'class', 'average_mileage'],\n",
       "      dtype='object')"
      ]
     },
     "execution_count": 37,
     "metadata": {},
     "output_type": "execute_result"
    }
   ],
   "source": [
    "mpg.columns"
   ]
  },
  {
   "cell_type": "code",
   "execution_count": 32,
   "id": "17caec6d",
   "metadata": {},
   "outputs": [
    {
     "data": {
      "text/plain": [
       "manufacturer    0\n",
       "model           0\n",
       "displ           0\n",
       "year            0\n",
       "cyl             0\n",
       "trans           0\n",
       "drv             0\n",
       "cty             0\n",
       "hwy             0\n",
       "fl              0\n",
       "class           0\n",
       "dtype: int64"
      ]
     },
     "execution_count": 32,
     "metadata": {},
     "output_type": "execute_result"
    }
   ],
   "source": [
    "mpg.isna().sum()"
   ]
  },
  {
   "cell_type": "code",
   "execution_count": 36,
   "id": "f192a2ea",
   "metadata": {},
   "outputs": [],
   "source": [
    "mpg['average_mileage'] = (mpg.hwy+mpg.cty)/2 "
   ]
  },
  {
   "cell_type": "markdown",
   "id": "824b6fb0",
   "metadata": {},
   "source": [
    "### Independent t-test (a.k.a Two Sample t-test)\n",
    "\n",
    "Goal: Find a difference in fuel efficiency between cars from 2008 vs 1999\n",
    "\n",
    "H0 Group A - is no difference \n",
    "Ha Group B - increase or decrease in vehicles\n",
    "\n",
    "Verify assumptions:\n",
    "\n",
    "- Check that we have 30 observations: yes, 234\n",
    "\n",
    "- Independence\n",
    "\n"
   ]
  },
  {
   "cell_type": "code",
   "execution_count": 83,
   "id": "1be88e32",
   "metadata": {},
   "outputs": [
    {
     "data": {
      "text/plain": [
       "<AxesSubplot:>"
      ]
     },
     "execution_count": 83,
     "metadata": {},
     "output_type": "execute_result"
    },
    {
     "data": {
      "image/png": "[encoded data removed]",
      "text/plain": [
       "<Figure size 640x480 with 1 Axes>"
      ]
     },
     "metadata": {},
     "output_type": "display_data"
    }
   ],
   "source": [
    "year_08 = mpg[mpg.year == 2008].average_mileage # year 2008 with average mileage returned\n",
    "year_08.hist()"
   ]
  },
  {
   "cell_type": "code",
   "execution_count": 84,
   "id": "48ecbe68",
   "metadata": {},
   "outputs": [
    {
     "data": {
      "text/plain": [
       "<AxesSubplot:>"
      ]
     },
     "execution_count": 84,
     "metadata": {},
     "output_type": "execute_result"
    },
    {
     "data": {
      "image/png": "[encoded data removed]",
      "text/plain": [
       "<Figure size 640x480 with 1 Axes>"
      ]
     },
     "metadata": {},
     "output_type": "display_data"
    }
   ],
   "source": [
    "year_99 = mpg[mpg.year == 1999].average_mileage # year 1999 with average mileage returned\n",
    "year_99.hist()"
   ]
  },
  {
   "cell_type": "code",
   "execution_count": 48,
   "id": "af34fd6a",
   "metadata": {},
   "outputs": [],
   "source": [
    "α = 0.05 # Significance level"
   ]
  },
  {
   "cell_type": "code",
   "execution_count": 49,
   "id": "8c6e211b",
   "metadata": {},
   "outputs": [],
   "source": [
    "t, p = stats.ttest_ind(year_08, year_99, equal_var=False)"
   ]
  },
  {
   "cell_type": "code",
   "execution_count": 51,
   "id": "0f865f48",
   "metadata": {},
   "outputs": [
    {
     "data": {
      "text/plain": [
       "False"
      ]
     },
     "execution_count": 51,
     "metadata": {},
     "output_type": "execute_result"
    }
   ],
   "source": [
    "p < α\n"
   ]
  },
  {
   "cell_type": "code",
   "execution_count": 53,
   "id": "ecdd66fc",
   "metadata": {},
   "outputs": [
    {
     "name": "stdout",
     "output_type": "stream",
     "text": [
      "Is t < 0? True\n",
      "Is p/2 < alpha? False\n"
     ]
    }
   ],
   "source": [
    "# It t-statistic < 0\n",
    "print(\"Is t < 0?\", t < 0)\n",
    "\n",
    "# Is p/2 < alpha\n",
    "print(\"Is p/2 < alpha?\", p/ 2 < α)"
   ]
  },
  {
   "cell_type": "code",
   "execution_count": 56,
   "id": "0185afe4",
   "metadata": {},
   "outputs": [
    {
     "name": "stdout",
     "output_type": "stream",
     "text": [
      "We fail to reject $H_{0}$\n"
     ]
    }
   ],
   "source": [
    "if p < α:\n",
    "    print(\"We reject $H_{0}$\")\n",
    "else:\n",
    "    print(\"We fail to reject $H_{0}$\")\n"
   ]
  },
  {
   "cell_type": "markdown",
   "id": "eb6aa549",
   "metadata": {},
   "source": [
    "Takeaway:  We failed to reject the null hypothesis, there is no difference in fuel efficiency between cars made in 1999 and 2008. "
   ]
  },
  {
   "cell_type": "markdown",
   "id": "f55596fc",
   "metadata": {},
   "source": [
    "### Are compact cars more fuel-efficient than the average car?"
   ]
  },
  {
   "cell_type": "code",
   "execution_count": null,
   "id": "bcb46f7c",
   "metadata": {},
   "outputs": [],
   "source": [
    "### Independent t-test (a.k.a Two Sample t-test)\n",
    "\n",
    "Goal: Find a difference in fuel efficiency between cars compact cars and average cars?\n",
    "\n",
    "H0 Group A - is no difference \n",
    "Ha Group B - increase or decrease in vehicles\n",
    "\n",
    "Verify assumptions:\n",
    "\n",
    "- Check that we have 30 observations: yes, 234\n",
    "\n",
    "- Independence\n",
    "\n",
    "variance\n"
   ]
  },
  {
   "cell_type": "code",
   "execution_count": 176,
   "id": "639460e7",
   "metadata": {},
   "outputs": [],
   "source": [
    "compact_mileage = mpg[mpg[\"class\"] == \"compact\"].average_mileage.mean()"
   ]
  },
  {
   "cell_type": "code",
   "execution_count": 182,
   "id": "a2c293fd",
   "metadata": {},
   "outputs": [],
   "source": [
    "not_compact_mileage = mpg.average_mileage.mean()"
   ]
  },
  {
   "cell_type": "code",
   "execution_count": 96,
   "id": "eaa474e7",
   "metadata": {},
   "outputs": [
    {
     "data": {
      "text/plain": [
       "<AxesSubplot:>"
      ]
     },
     "execution_count": 96,
     "metadata": {},
     "output_type": "execute_result"
    },
    {
     "data": {
      "image/png": "[encoded data removed]",
      "text/plain": [
       "<Figure size 640x480 with 1 Axes>"
      ]
     },
     "metadata": {},
     "output_type": "display_data"
    }
   ],
   "source": [
    "compact_mileage.hist()"
   ]
  },
  {
   "cell_type": "code",
   "execution_count": 97,
   "id": "9edea690",
   "metadata": {},
   "outputs": [
    {
     "data": {
      "text/plain": [
       "<AxesSubplot:>"
      ]
     },
     "execution_count": 97,
     "metadata": {},
     "output_type": "execute_result"
    },
    {
     "data": {
      "image/png": "[encoded data removed]",
      "text/plain": [
       "<Figure size 640x480 with 1 Axes>"
      ]
     },
     "metadata": {},
     "output_type": "display_data"
    }
   ],
   "source": [
    "not_compact_mileage.hist()"
   ]
  },
  {
   "cell_type": "code",
   "execution_count": 183,
   "id": "760e02eb",
   "metadata": {},
   "outputs": [
    {
     "name": "stderr",
     "output_type": "stream",
     "text": [
      "/var/folders/51/1y9bskdx161fnwxyf68jcl540000gn/T/ipykernel_33644/2246291425.py:1: RuntimeWarning: Precision loss occurred in moment calculation due to catastrophic cancellation. This occurs when the data are nearly identical. Results may be unreliable.\n",
      "  t, p = stats.ttest_1samp(compact_mileage, not_compact_mileage)\n",
      "/opt/homebrew/anaconda3/lib/python3.9/site-packages/scipy/stats/_stats_py.py:1250: RuntimeWarning: divide by zero encountered in true_divide\n",
      "  var *= np.divide(n, n-ddof)  # to avoid error on division by zero\n",
      "/opt/homebrew/anaconda3/lib/python3.9/site-packages/scipy/stats/_stats_py.py:1250: RuntimeWarning: invalid value encountered in double_scalars\n",
      "  var *= np.divide(n, n-ddof)  # to avoid error on division by zero\n"
     ]
    },
    {
     "data": {
      "text/plain": [
       "(nan, nan)"
      ]
     },
     "execution_count": 183,
     "metadata": {},
     "output_type": "execute_result"
    }
   ],
   "source": [
    "t, p = stats.ttest_1samp(compact_mileage, not_compact_mileage)\n",
    "\n",
    "t, p"
   ]
  },
  {
   "cell_type": "code",
   "execution_count": 184,
   "id": "bb0de061",
   "metadata": {},
   "outputs": [
    {
     "name": "stdout",
     "output_type": "stream",
     "text": [
      "Fail to reject null\n"
     ]
    }
   ],
   "source": [
    "α = .05\n",
    "\n",
    "if t > 0 and p/2 <= α:\n",
    "    print('Reject null')\n",
    "else: \n",
    "    print('Fail to reject null')"
   ]
  },
  {
   "cell_type": "markdown",
   "id": "6e79d489",
   "metadata": {},
   "source": [
    "### Do manual cars get better gas mileage than automatic cars?"
   ]
  },
  {
   "cell_type": "code",
   "execution_count": null,
   "id": "d9136c99",
   "metadata": {},
   "outputs": [],
   "source": [
    "Goal: Find a difference in fuel efficiency between manual cars and automatic cars?\n",
    "\n",
    "H0 Group A - is no difference \n",
    "Ha Group B - increase or decrease in vehicles\n",
    "\n",
    "Verify assumptions:\n",
    "\n",
    "- Check that we have 30 observations: yes, 234\n",
    "\n",
    "- Independence\n",
    "\n",
    "variance\n"
   ]
  },
  {
   "cell_type": "code",
   "execution_count": 122,
   "id": "96dd1a4e",
   "metadata": {},
   "outputs": [],
   "source": [
    "mpg['is_automatic']=mpg.trans.str.contains('auto')==True"
   ]
  },
  {
   "cell_type": "code",
   "execution_count": 124,
   "id": "6b9945c9",
   "metadata": {},
   "outputs": [],
   "source": [
    "mpg['is_automatic'] = mpg['is_automatic'].replace({True: 'Automatic', False: 'Manual'})"
   ]
  },
  {
   "cell_type": "code",
   "execution_count": 129,
   "id": "9d05cff5",
   "metadata": {},
   "outputs": [],
   "source": [
    "auto_mileage= mpg[mpg['is_automatic'] == 'Automatic'].average_mileage"
   ]
  },
  {
   "cell_type": "code",
   "execution_count": 128,
   "id": "bb5648ae",
   "metadata": {},
   "outputs": [],
   "source": [
    "manual_mileage = mpg[mpg['is_automatic'] == 'Manual'].average_mileage"
   ]
  },
  {
   "cell_type": "code",
   "execution_count": 130,
   "id": "d2ca07f9",
   "metadata": {},
   "outputs": [
    {
     "data": {
      "text/plain": [
       "<AxesSubplot:>"
      ]
     },
     "execution_count": 130,
     "metadata": {},
     "output_type": "execute_result"
    },
    {
     "data": {
      "image/png": "[encoded data removed]",
      "text/plain": [
       "<Figure size 640x480 with 1 Axes>"
      ]
     },
     "metadata": {},
     "output_type": "display_data"
    }
   ],
   "source": [
    "auto_mileage.hist()"
   ]
  },
  {
   "cell_type": "code",
   "execution_count": 131,
   "id": "19979902",
   "metadata": {},
   "outputs": [
    {
     "data": {
      "text/plain": [
       "<AxesSubplot:>"
      ]
     },
     "execution_count": 131,
     "metadata": {},
     "output_type": "execute_result"
    },
    {
     "data": {
      "image/png": "[encoded data removed]",
      "text/plain": [
       "<Figure size 640x480 with 1 Axes>"
      ]
     },
     "metadata": {},
     "output_type": "display_data"
    }
   ],
   "source": [
    "manual_mileage.hist()"
   ]
  },
  {
   "cell_type": "code",
   "execution_count": 160,
   "id": "720adaf7",
   "metadata": {},
   "outputs": [],
   "source": [
    "t, p = stats.ttest_ind(auto_mileage, manual_mileage, equal_var=False)"
   ]
  },
  {
   "cell_type": "code",
   "execution_count": 161,
   "id": "2b4bea9e",
   "metadata": {},
   "outputs": [
    {
     "name": "stdout",
     "output_type": "stream",
     "text": [
      "Is t < 0? True\n",
      "Is p/2 < alpha? True\n"
     ]
    }
   ],
   "source": [
    "# It t-statistic < 0\n",
    "print(\"Is t < 0?\", t < 0)\n",
    "\n",
    "# Is p/2 < alpha\n",
    "print(\"Is p/2 < alpha?\", p/ 2 < α)"
   ]
  },
  {
   "cell_type": "code",
   "execution_count": 162,
   "id": "cc472cd4",
   "metadata": {},
   "outputs": [
    {
     "name": "stdout",
     "output_type": "stream",
     "text": [
      "We reject $H_{0}$\n"
     ]
    }
   ],
   "source": [
    "if p < α:\n",
    "    print(\"We reject $H_{0}$\")\n",
    "else:\n",
    "    print(\"We fail to reject $H_{0}$\")"
   ]
  },
  {
   "cell_type": "code",
   "execution_count": 135,
   "id": "7e6a42ea",
   "metadata": {},
   "outputs": [],
   "source": [
    "from scipy import stats\n",
    "from pydataset import data"
   ]
  },
  {
   "cell_type": "code",
   "execution_count": 136,
   "id": "50238ef7",
   "metadata": {},
   "outputs": [],
   "source": [
    "office_one = stats.norm(90, 15)"
   ]
  },
  {
   "cell_type": "code",
   "execution_count": 137,
   "id": "42c8a43d",
   "metadata": {},
   "outputs": [],
   "source": [
    "office_two = stats.norm(100, 20)"
   ]
  },
  {
   "cell_type": "code",
   "execution_count": 138,
   "id": "32ff4000",
   "metadata": {},
   "outputs": [
    {
     "data": {
      "text/plain": [
       "<scipy.stats._distn_infrastructure.rv_continuous_frozen at 0x1737ef7c0>"
      ]
     },
     "execution_count": 138,
     "metadata": {},
     "output_type": "execute_result"
    }
   ],
   "source": [
    "office_one"
   ]
  },
  {
   "cell_type": "code",
   "execution_count": 141,
   "id": "b66d763f",
   "metadata": {},
   "outputs": [
    {
     "data": {
      "text/plain": [
       "array([102.70304492,  93.75075956, 113.36225108,  89.76627615,\n",
       "       107.59974513,  88.07171478,  75.2697791 ,  60.24238585,\n",
       "        66.91399828,  76.03589565, 110.19362226, 130.59251395,\n",
       "        83.58384188,  84.04774293, 107.63176863,  84.32240627,\n",
       "        72.36270749,  86.67949931,  90.07300201, 113.01373581,\n",
       "        75.37608694,  90.08582423,  77.53909628,  91.2387765 ,\n",
       "        91.94118563, 118.33402692, 113.00691983, 109.75895458,\n",
       "        72.45088298,  90.51192655, 108.37250268,  99.49154423,\n",
       "        68.65371904,  60.19348416,  87.89106948, 101.39281335,\n",
       "        75.19373104,  85.26553589,  58.57151065,  95.03408406])"
      ]
     },
     "execution_count": 141,
     "metadata": {},
     "output_type": "execute_result"
    }
   ],
   "source": [
    "office_one.rvs(40)"
   ]
  },
  {
   "cell_type": "code",
   "execution_count": 142,
   "id": "6c0dfe78",
   "metadata": {},
   "outputs": [],
   "source": [
    "dist_one = office_one.rvs(40)\n",
    "dist_two = office_two.rvs(50)"
   ]
  },
  {
   "cell_type": "code",
   "execution_count": 143,
   "id": "0643b6b5",
   "metadata": {},
   "outputs": [
    {
     "data": {
      "text/plain": [
       "(220.34364215466593, 383.97281914074114)"
      ]
     },
     "execution_count": 143,
     "metadata": {},
     "output_type": "execute_result"
    }
   ],
   "source": [
    "dist_one.var(), dist_two.var() #checking variances in both samples to find the difference"
   ]
  },
  {
   "cell_type": "code",
   "execution_count": 144,
   "id": "44bf7737",
   "metadata": {},
   "outputs": [
    {
     "data": {
      "text/plain": [
       "LeveneResult(statistic=1.2443037224853262, pvalue=0.267680149888091)"
      ]
     },
     "execution_count": 144,
     "metadata": {},
     "output_type": "execute_result"
    }
   ],
   "source": [
    "stats.levene(dist_one, dist_two) #pvalue"
   ]
  },
  {
   "cell_type": "code",
   "execution_count": 152,
   "id": "c59eee12",
   "metadata": {},
   "outputs": [
    {
     "data": {
      "text/plain": [
       "(-1.5923321555944177, 0.11490453404881472)"
      ]
     },
     "execution_count": 152,
     "metadata": {},
     "output_type": "execute_result"
    }
   ],
   "source": [
    "t, p = stats.ttest_ind(dist_one, dist_two, equal_var=False) # order of left to right, comparing the difference from 0 to 1, could result in negative value.\n",
    "t, p"
   ]
  },
  {
   "cell_type": "code",
   "execution_count": 155,
   "id": "80fdb880",
   "metadata": {},
   "outputs": [
    {
     "data": {
      "text/plain": [
       "(1.5923321555944177, 0.11490453404881472)"
      ]
     },
     "execution_count": 155,
     "metadata": {},
     "output_type": "execute_result"
    }
   ],
   "source": [
    "t, p = stats.ttest_ind(dist_two, dist_one, equal_var=False)\n",
    "\n",
    "t, p"
   ]
  },
  {
   "cell_type": "code",
   "execution_count": null,
   "id": "6a1fdd36",
   "metadata": {},
   "outputs": [],
   "source": [
    "Null: There is no difference between the two distributions\n",
    "Alternative: There is a significant difference between the two distributions"
   ]
  },
  {
   "cell_type": "code",
   "execution_count": 150,
   "id": "ba51c931",
   "metadata": {},
   "outputs": [],
   "source": [
    "α = 0.05"
   ]
  },
  {
   "cell_type": "code",
   "execution_count": 156,
   "id": "32b5007e",
   "metadata": {},
   "outputs": [
    {
     "name": "stdout",
     "output_type": "stream",
     "text": [
      "Fail to reject null\n"
     ]
    }
   ],
   "source": [
    "if p <= α:\n",
    "    print('reject null')\n",
    "else:\n",
    "    print('Fail to reject null')"
   ]
  },
  {
   "cell_type": "markdown",
   "id": "b6c4d9d6",
   "metadata": {},
   "source": [
    "Takeaway: we rejected the null hypothesis, there is a significant difference between the two offices."
   ]
  },
  {
   "cell_type": "markdown",
   "id": "e3fa9337",
   "metadata": {},
   "source": [
    "## III. Correlation\n",
    "### Answer with the type of stats test you would use (assume normal distribution):"
   ]
  },
  {
   "cell_type": "markdown",
   "id": "b1a8e2f1",
   "metadata": {},
   "source": [
    "### Answer with the type of stats test you would use (assume normal distribution):\n",
    "- Is there a relationship between the length of your arm and the length of your foot?\n",
    "\n",
    "Pearson "
   ]
  },
  {
   "cell_type": "markdown",
   "id": "3a254544",
   "metadata": {},
   "source": [
    "- Do guys and gals quit their jobs at the same rate?\n",
    "\n",
    "Independent T-Test"
   ]
  },
  {
   "cell_type": "markdown",
   "id": "2172de77",
   "metadata": {},
   "source": [
    "- Does the length of time of the lecture correlate with a students grade?\n",
    "spearmean r"
   ]
  },
  {
   "cell_type": "markdown",
   "id": "e66a4782",
   "metadata": {},
   "source": [
    "## 1. Use the telco_churn data."
   ]
  },
  {
   "cell_type": "code",
   "execution_count": 215,
   "id": "654164cc",
   "metadata": {},
   "outputs": [],
   "source": [
    "import pandas as pd\n",
    "import env\n",
    "\n",
    "url = f'mysql+pymysql://{env.username}:{env.password}@{env.host}/telco_churn'\n",
    "customer_df = pd.read_sql('select * FROM customers', url)\n"
   ]
  },
  {
   "cell_type": "code",
   "execution_count": 216,
   "id": "d57ac633",
   "metadata": {},
   "outputs": [
    {
     "data": {
      "text/html": [
       "<div>\n",
       "<style scoped>\n",
       "    .dataframe tbody tr th:only-of-type {\n",
       "        vertical-align: middle;\n",
       "    }\n",
       "\n",
       "    .dataframe tbody tr th {\n",
       "        vertical-align: top;\n",
       "    }\n",
       "\n",
       "    .dataframe thead th {\n",
       "        text-align: right;\n",
       "    }\n",
       "</style>\n",
       "<table border=\"1\" class=\"dataframe\">\n",
       "  <thead>\n",
       "    <tr style=\"text-align: right;\">\n",
       "      <th></th>\n",
       "      <th>customer_id</th>\n",
       "      <th>gender</th>\n",
       "      <th>senior_citizen</th>\n",
       "      <th>partner</th>\n",
       "      <th>dependents</th>\n",
       "      <th>tenure</th>\n",
       "      <th>phone_service</th>\n",
       "      <th>multiple_lines</th>\n",
       "      <th>internet_service_type_id</th>\n",
       "      <th>online_security</th>\n",
       "      <th>...</th>\n",
       "      <th>device_protection</th>\n",
       "      <th>tech_support</th>\n",
       "      <th>streaming_tv</th>\n",
       "      <th>streaming_movies</th>\n",
       "      <th>contract_type_id</th>\n",
       "      <th>paperless_billing</th>\n",
       "      <th>payment_type_id</th>\n",
       "      <th>monthly_charges</th>\n",
       "      <th>total_charges</th>\n",
       "      <th>churn</th>\n",
       "    </tr>\n",
       "  </thead>\n",
       "  <tbody>\n",
       "    <tr>\n",
       "      <th>0</th>\n",
       "      <td>0002-ORFBO</td>\n",
       "      <td>Female</td>\n",
       "      <td>0</td>\n",
       "      <td>Yes</td>\n",
       "      <td>Yes</td>\n",
       "      <td>9</td>\n",
       "      <td>Yes</td>\n",
       "      <td>No</td>\n",
       "      <td>1</td>\n",
       "      <td>No</td>\n",
       "      <td>...</td>\n",
       "      <td>No</td>\n",
       "      <td>Yes</td>\n",
       "      <td>Yes</td>\n",
       "      <td>No</td>\n",
       "      <td>2</td>\n",
       "      <td>Yes</td>\n",
       "      <td>2</td>\n",
       "      <td>65.6</td>\n",
       "      <td>593.3</td>\n",
       "      <td>No</td>\n",
       "    </tr>\n",
       "    <tr>\n",
       "      <th>1</th>\n",
       "      <td>0003-MKNFE</td>\n",
       "      <td>Male</td>\n",
       "      <td>0</td>\n",
       "      <td>No</td>\n",
       "      <td>No</td>\n",
       "      <td>9</td>\n",
       "      <td>Yes</td>\n",
       "      <td>Yes</td>\n",
       "      <td>1</td>\n",
       "      <td>No</td>\n",
       "      <td>...</td>\n",
       "      <td>No</td>\n",
       "      <td>No</td>\n",
       "      <td>No</td>\n",
       "      <td>Yes</td>\n",
       "      <td>1</td>\n",
       "      <td>No</td>\n",
       "      <td>2</td>\n",
       "      <td>59.9</td>\n",
       "      <td>542.4</td>\n",
       "      <td>No</td>\n",
       "    </tr>\n",
       "    <tr>\n",
       "      <th>2</th>\n",
       "      <td>0004-TLHLJ</td>\n",
       "      <td>Male</td>\n",
       "      <td>0</td>\n",
       "      <td>No</td>\n",
       "      <td>No</td>\n",
       "      <td>4</td>\n",
       "      <td>Yes</td>\n",
       "      <td>No</td>\n",
       "      <td>2</td>\n",
       "      <td>No</td>\n",
       "      <td>...</td>\n",
       "      <td>Yes</td>\n",
       "      <td>No</td>\n",
       "      <td>No</td>\n",
       "      <td>No</td>\n",
       "      <td>1</td>\n",
       "      <td>Yes</td>\n",
       "      <td>1</td>\n",
       "      <td>73.9</td>\n",
       "      <td>280.85</td>\n",
       "      <td>Yes</td>\n",
       "    </tr>\n",
       "    <tr>\n",
       "      <th>3</th>\n",
       "      <td>0011-IGKFF</td>\n",
       "      <td>Male</td>\n",
       "      <td>1</td>\n",
       "      <td>Yes</td>\n",
       "      <td>No</td>\n",
       "      <td>13</td>\n",
       "      <td>Yes</td>\n",
       "      <td>No</td>\n",
       "      <td>2</td>\n",
       "      <td>No</td>\n",
       "      <td>...</td>\n",
       "      <td>Yes</td>\n",
       "      <td>No</td>\n",
       "      <td>Yes</td>\n",
       "      <td>Yes</td>\n",
       "      <td>1</td>\n",
       "      <td>Yes</td>\n",
       "      <td>1</td>\n",
       "      <td>98.0</td>\n",
       "      <td>1237.85</td>\n",
       "      <td>Yes</td>\n",
       "    </tr>\n",
       "    <tr>\n",
       "      <th>4</th>\n",
       "      <td>0013-EXCHZ</td>\n",
       "      <td>Female</td>\n",
       "      <td>1</td>\n",
       "      <td>Yes</td>\n",
       "      <td>No</td>\n",
       "      <td>3</td>\n",
       "      <td>Yes</td>\n",
       "      <td>No</td>\n",
       "      <td>2</td>\n",
       "      <td>No</td>\n",
       "      <td>...</td>\n",
       "      <td>No</td>\n",
       "      <td>Yes</td>\n",
       "      <td>Yes</td>\n",
       "      <td>No</td>\n",
       "      <td>1</td>\n",
       "      <td>Yes</td>\n",
       "      <td>2</td>\n",
       "      <td>83.9</td>\n",
       "      <td>267.4</td>\n",
       "      <td>Yes</td>\n",
       "    </tr>\n",
       "  </tbody>\n",
       "</table>\n",
       "<p>5 rows × 21 columns</p>\n",
       "</div>"
      ],
      "text/plain": [
       "  customer_id  gender  senior_citizen partner dependents  tenure  \\\n",
       "0  0002-ORFBO  Female               0     Yes        Yes       9   \n",
       "1  0003-MKNFE    Male               0      No         No       9   \n",
       "2  0004-TLHLJ    Male               0      No         No       4   \n",
       "3  0011-IGKFF    Male               1     Yes         No      13   \n",
       "4  0013-EXCHZ  Female               1     Yes         No       3   \n",
       "\n",
       "  phone_service multiple_lines  internet_service_type_id online_security  ...  \\\n",
       "0           Yes             No                         1              No  ...   \n",
       "1           Yes            Yes                         1              No  ...   \n",
       "2           Yes             No                         2              No  ...   \n",
       "3           Yes             No                         2              No  ...   \n",
       "4           Yes             No                         2              No  ...   \n",
       "\n",
       "  device_protection tech_support streaming_tv streaming_movies  \\\n",
       "0                No          Yes          Yes               No   \n",
       "1                No           No           No              Yes   \n",
       "2               Yes           No           No               No   \n",
       "3               Yes           No          Yes              Yes   \n",
       "4                No          Yes          Yes               No   \n",
       "\n",
       "  contract_type_id  paperless_billing payment_type_id  monthly_charges  \\\n",
       "0                2                Yes               2             65.6   \n",
       "1                1                 No               2             59.9   \n",
       "2                1                Yes               1             73.9   \n",
       "3                1                Yes               1             98.0   \n",
       "4                1                Yes               2             83.9   \n",
       "\n",
       "   total_charges churn  \n",
       "0          593.3    No  \n",
       "1          542.4    No  \n",
       "2         280.85   Yes  \n",
       "3        1237.85   Yes  \n",
       "4          267.4   Yes  \n",
       "\n",
       "[5 rows x 21 columns]"
      ]
     },
     "execution_count": 216,
     "metadata": {},
     "output_type": "execute_result"
    }
   ],
   "source": [
    "customer_df.head()"
   ]
  },
  {
   "cell_type": "markdown",
   "id": "24acd5c7",
   "metadata": {},
   "source": [
    "- Does tenure correlate with monthly charges?"
   ]
  },
  {
   "cell_type": "code",
   "execution_count": 217,
   "id": "ac06fc99",
   "metadata": {},
   "outputs": [
    {
     "data": {
      "text/plain": [
       "Index(['customer_id', 'gender', 'senior_citizen', 'partner', 'dependents',\n",
       "       'tenure', 'phone_service', 'multiple_lines', 'internet_service_type_id',\n",
       "       'online_security', 'online_backup', 'device_protection', 'tech_support',\n",
       "       'streaming_tv', 'streaming_movies', 'contract_type_id',\n",
       "       'paperless_billing', 'payment_type_id', 'monthly_charges',\n",
       "       'total_charges', 'churn'],\n",
       "      dtype='object')"
      ]
     },
     "execution_count": 217,
     "metadata": {},
     "output_type": "execute_result"
    }
   ],
   "source": [
    "customer_df.columns"
   ]
  },
  {
   "cell_type": "code",
   "execution_count": 273,
   "id": "b64e72ae",
   "metadata": {},
   "outputs": [
    {
     "name": "stdout",
     "output_type": "stream",
     "text": [
      "<class 'pandas.core.frame.DataFrame'>\n",
      "RangeIndex: 7043 entries, 0 to 7042\n",
      "Data columns (total 2 columns):\n",
      " #   Column           Non-Null Count  Dtype  \n",
      "---  ------           --------------  -----  \n",
      " 0   monthly_charges  7043 non-null   float64\n",
      " 1   tenure           7043 non-null   int64  \n",
      "dtypes: float64(1), int64(1)\n",
      "memory usage: 110.2 KB\n"
     ]
    }
   ],
   "source": [
    "#customer_df.loc[customer_df['churn']== 'Yes'].total_charges.astype('float').mean() # previous entry for churn calculation\n",
    "\n",
    "charges_df = customer_df[['monthly_charges', 'tenure']] #showing the monthly customers and tenure columns\n",
    "charges_df.info()"
   ]
  },
  {
   "cell_type": "code",
   "execution_count": 272,
   "id": "f74ca212",
   "metadata": {},
   "outputs": [
    {
     "data": {
      "text/plain": [
       "<AxesSubplot:xlabel='tenure', ylabel='monthly_charges'>"
      ]
     },
     "execution_count": 272,
     "metadata": {},
     "output_type": "execute_result"
    },
    {
     "data": {
      "image/png": "[encoded data removed]",
      "text/plain": [
       "<Figure size 640x480 with 1 Axes>"
      ]
     },
     "metadata": {},
     "output_type": "display_data"
    }
   ],
   "source": [
    "sns.regplot(x='tenure', y='monthly_charges',  # plotting data that shows the correlation of the monthly charges and tenure for each customer\n",
    "            data=charges_df, marker='.', \n",
    "            line_kws={'color': 'rebeccapurple'})"
   ]
  },
  {
   "cell_type": "code",
   "execution_count": 274,
   "id": "550bc129",
   "metadata": {},
   "outputs": [],
   "source": [
    "α = 0.05 # setting the alpha = .05"
   ]
  },
  {
   "cell_type": "code",
   "execution_count": 278,
   "id": "d968b263",
   "metadata": {},
   "outputs": [
    {
     "data": {
      "text/plain": [
       "(0.27641678933130215, 1.0271266876409408e-123)"
      ]
     },
     "execution_count": 278,
     "metadata": {},
     "output_type": "execute_result"
    }
   ],
   "source": [
    "r, p = stats.spearmanr(charges_df.tenure, charges_df.monthly_charges) # no order necessary \n",
    "## Showing the correlation strength of the best fit line correlation and p-value\n",
    "r, p"
   ]
  },
  {
   "cell_type": "code",
   "execution_count": 279,
   "id": "3be38417",
   "metadata": {},
   "outputs": [
    {
     "name": "stdout",
     "output_type": "stream",
     "text": [
      "reject the null hypothesis.there is a linear correalation better monthly charges and tenure (p-value: 1.0271266876409408e-123)\n"
     ]
    }
   ],
   "source": [
    "# defining a function that prints our findings and calls the variable to print whether to reject the H_0 or fail to reject(H_a)\n",
    "def findings(α, p):\n",
    "    if p < α:\n",
    "        print( f'reject the null hypothesis.there is a linear correalation better monthly charges and tenure (p-value: {p})')\n",
    "    else:\n",
    "        print(f'we fail to reject the null hypothesis that there is a linear correalation between monthly charges and tenure (p-value: {p})')\n",
    "\n",
    "findings(α, p)      "
   ]
  },
  {
   "cell_type": "markdown",
   "id": "397b27f5",
   "metadata": {},
   "source": [
    "**Takeaways**\n",
    "\n",
    "There is a correlation between monthly charges and tenure. \n",
    "With an r of .28, we can say that there is a correlation with an increase/decrease in monthly payments and tenure"
   ]
  },
  {
   "cell_type": "markdown",
   "id": "231bc767",
   "metadata": {},
   "source": [
    "### Does Tenure correlate with total charges?"
   ]
  },
  {
   "cell_type": "markdown",
   "id": "f6a8520a",
   "metadata": {},
   "source": [
    "- H_0: There is no linear correlation between tenure and total charges.\n",
    "- H_a: There is a linear correlation between tenure and total charges."
   ]
  },
  {
   "cell_type": "code",
   "execution_count": 291,
   "id": "7765d17c",
   "metadata": {},
   "outputs": [
    {
     "data": {
      "text/html": [
       "<div>\n",
       "<style scoped>\n",
       "    .dataframe tbody tr th:only-of-type {\n",
       "        vertical-align: middle;\n",
       "    }\n",
       "\n",
       "    .dataframe tbody tr th {\n",
       "        vertical-align: top;\n",
       "    }\n",
       "\n",
       "    .dataframe thead th {\n",
       "        text-align: right;\n",
       "    }\n",
       "</style>\n",
       "<table border=\"1\" class=\"dataframe\">\n",
       "  <thead>\n",
       "    <tr style=\"text-align: right;\">\n",
       "      <th></th>\n",
       "      <th>tenure</th>\n",
       "      <th>total_charges</th>\n",
       "    </tr>\n",
       "  </thead>\n",
       "  <tbody>\n",
       "    <tr>\n",
       "      <th>0</th>\n",
       "      <td>9</td>\n",
       "      <td>593.3</td>\n",
       "    </tr>\n",
       "    <tr>\n",
       "      <th>1</th>\n",
       "      <td>9</td>\n",
       "      <td>542.4</td>\n",
       "    </tr>\n",
       "    <tr>\n",
       "      <th>2</th>\n",
       "      <td>4</td>\n",
       "      <td>280.85</td>\n",
       "    </tr>\n",
       "    <tr>\n",
       "      <th>3</th>\n",
       "      <td>13</td>\n",
       "      <td>1237.85</td>\n",
       "    </tr>\n",
       "    <tr>\n",
       "      <th>4</th>\n",
       "      <td>3</td>\n",
       "      <td>267.4</td>\n",
       "    </tr>\n",
       "    <tr>\n",
       "      <th>...</th>\n",
       "      <td>...</td>\n",
       "      <td>...</td>\n",
       "    </tr>\n",
       "    <tr>\n",
       "      <th>7038</th>\n",
       "      <td>13</td>\n",
       "      <td>742.9</td>\n",
       "    </tr>\n",
       "    <tr>\n",
       "      <th>7039</th>\n",
       "      <td>22</td>\n",
       "      <td>1873.7</td>\n",
       "    </tr>\n",
       "    <tr>\n",
       "      <th>7040</th>\n",
       "      <td>2</td>\n",
       "      <td>92.75</td>\n",
       "    </tr>\n",
       "    <tr>\n",
       "      <th>7041</th>\n",
       "      <td>67</td>\n",
       "      <td>4627.65</td>\n",
       "    </tr>\n",
       "    <tr>\n",
       "      <th>7042</th>\n",
       "      <td>63</td>\n",
       "      <td>3707.6</td>\n",
       "    </tr>\n",
       "  </tbody>\n",
       "</table>\n",
       "<p>7043 rows × 2 columns</p>\n",
       "</div>"
      ],
      "text/plain": [
       "      tenure total_charges\n",
       "0          9         593.3\n",
       "1          9         542.4\n",
       "2          4        280.85\n",
       "3         13       1237.85\n",
       "4          3         267.4\n",
       "...      ...           ...\n",
       "7038      13         742.9\n",
       "7039      22        1873.7\n",
       "7040       2         92.75\n",
       "7041      67       4627.65\n",
       "7042      63        3707.6\n",
       "\n",
       "[7043 rows x 2 columns]"
      ]
     },
     "execution_count": 291,
     "metadata": {},
     "output_type": "execute_result"
    }
   ],
   "source": [
    "#Setting the alpha\n",
    "α = 0.05 \n",
    "\n",
    "# Selecting the data\n",
    "total_charges_tenure_df = customer_df[['tenure', 'total_charges']]\n",
    "total_charges_tenure_df"
   ]
  },
  {
   "cell_type": "code",
   "execution_count": null,
   "id": "b1a3307c",
   "metadata": {},
   "outputs": [],
   "source": []
  },
  {
   "cell_type": "code",
   "execution_count": null,
   "id": "16d297c2",
   "metadata": {},
   "outputs": [],
   "source": []
  },
  {
   "cell_type": "code",
   "execution_count": null,
   "id": "2b4cd973",
   "metadata": {},
   "outputs": [],
   "source": []
  },
  {
   "cell_type": "code",
   "execution_count": null,
   "id": "ffc3c543",
   "metadata": {},
   "outputs": [],
   "source": []
  },
  {
   "cell_type": "code",
   "execution_count": null,
   "id": "2649276d",
   "metadata": {},
   "outputs": [],
   "source": []
  },
  {
   "cell_type": "code",
   "execution_count": null,
   "id": "7f9cfb08",
   "metadata": {},
   "outputs": [],
   "source": []
  },
  {
   "cell_type": "code",
   "execution_count": null,
   "id": "71dc8ef3",
   "metadata": {},
   "outputs": [],
   "source": []
  },
  {
   "cell_type": "code",
   "execution_count": null,
   "id": "9d2a7226",
   "metadata": {},
   "outputs": [],
   "source": []
  },
  {
   "cell_type": "code",
   "execution_count": null,
   "id": "26e8430a",
   "metadata": {},
   "outputs": [],
   "source": []
  },
  {
   "cell_type": "code",
   "execution_count": null,
   "id": "86eb6848",
   "metadata": {},
   "outputs": [],
   "source": []
  },
  {
   "cell_type": "code",
   "execution_count": null,
   "id": "242ffcd4",
   "metadata": {},
   "outputs": [],
   "source": []
  }
 ],
 "metadata": {
  "kernelspec": {
   "display_name": "Python 3 (ipykernel)",
   "language": "python",
   "name": "python3"
  },
  "language_info": {
   "codemirror_mode": {
    "name": "ipython",
    "version": 3
   },
   "file_extension": ".py",
   "mimetype": "text/x-python",
   "name": "python",
   "nbconvert_exporter": "python",
   "pygments_lexer": "ipython3",
   "version": "3.9.13"
  }
 },
 "nbformat": 4,
 "nbformat_minor": 5
}
