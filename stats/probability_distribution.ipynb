{
 "cells": [
  {
   "cell_type": "code",
   "execution_count": 62,
   "id": "fbaf6b9f",
   "metadata": {},
   "outputs": [],
   "source": [
    "import matplotlib.pyplot as plt\n",
    "import numpy as np\n",
    "from scipy import stats\n",
    "import viz # curriculum viz example code\n",
    "\n",
    "np.random.seed(123)\n",
    "%config InlineBackend.figure_format='retina'"
   ]
  },
  {
   "cell_type": "markdown",
   "id": "1c4555b3",
   "metadata": {},
   "source": [
    "A bank found that the average number of cars waiting during the noon hour at a drive-up window follows a Poisson distribution with a mean of 2 cars. Make a chart of this distribution and answer these questions concerning the probability of cars waiting at the drive-up window.\n",
    "\n",
    "What is the probability that no cars drive up in the noon hour?\n",
    "What is the probability that 3 or more cars come through the drive through?\n",
    "How likely is it that the drive through gets at least 1 car?\n"
   ]
  },
  {
   "cell_type": "code",
   "execution_count": 156,
   "id": "b0e33f35",
   "metadata": {},
   "outputs": [
    {
     "ename": "SyntaxError",
     "evalue": "invalid syntax (1369027684.py, line 2)",
     "output_type": "error",
     "traceback": [
      "\u001b[0;36m  Input \u001b[0;32mIn [156]\u001b[0;36m\u001b[0m\n\u001b[0;31m    lambda()\u001b[0m\n\u001b[0m          ^\u001b[0m\n\u001b[0;31mSyntaxError\u001b[0m\u001b[0;31m:\u001b[0m invalid syntax\n"
     ]
    }
   ],
   "source": [
    "cars= stats.poisson(2).pmf(0)\n"
   ]
  },
  {
   "cell_type": "code",
   "execution_count": 64,
   "id": "bc6da4ca",
   "metadata": {},
   "outputs": [
    {
     "data": {
      "image/png": "[encoded data removed]",
      "text/plain": [
       "<Figure size 900x600 with 1 Axes>"
      ]
     },
     "metadata": {
      "image/png": {
       "height": 505,
       "width": 736
      }
     },
     "output_type": "display_data"
    }
   ],
   "source": [
    "\n",
    "np.random.seed(3)\n",
    "x = cars\n",
    "y = np.random.uniform(2, 7)\n",
    "\n",
    "# plot\n",
    "fig, ax = plt.subplots()\n",
    "\n",
    "ax.stem(x, y)\n",
    "\n",
    "ax.set(xlim=(0, 8), xticks=np.arange(1, 8),\n",
    "       ylim=(0, 8), yticks=np.arange(1, 8))\n",
    "\n",
    "plt.show()"
   ]
  },
  {
   "cell_type": "code",
   "execution_count": 24,
   "id": "8114257f",
   "metadata": {},
   "outputs": [
    {
     "data": {
      "text/plain": [
       "0.14287653950145296"
      ]
     },
     "execution_count": 24,
     "metadata": {},
     "output_type": "execute_result"
    }
   ],
   "source": [
    "stats.poisson(2).sf(3)"
   ]
  },
  {
   "cell_type": "code",
   "execution_count": 25,
   "id": "737a5767",
   "metadata": {},
   "outputs": [
    {
     "data": {
      "text/plain": [
       "0.5939941502901616"
      ]
     },
     "execution_count": 25,
     "metadata": {},
     "output_type": "execute_result"
    }
   ],
   "source": [
    "stats.poisson(2).sf(1)"
   ]
  },
  {
   "cell_type": "markdown",
   "id": "0abcab75",
   "metadata": {},
   "source": [
    "Grades of State University graduates are normally distributed with a mean of 3.0 and a standard deviation of .3. Calculate the following:\n",
    "\n",
    "- What grade point average is required to be in the top 5% of the graduating class?\n",
    "- What GPA constitutes the bottom 15% of the class?\n",
    "* An eccentric alumnus left scholarship money for students in the third decile from the bottom of their class. Determine the range of the third decile. \n",
    "\n",
    "- Would a student with a 2.8 grade point average qualify for this scholarship?\n"
   ]
  },
  {
   "cell_type": "code",
   "execution_count": 33,
   "id": "06c0858d",
   "metadata": {},
   "outputs": [
    {
     "name": "stdout",
     "output_type": "stream",
     "text": [
      "3.49\n"
     ]
    }
   ],
   "source": [
    "μ = 3\n",
    "σ = .3\n",
    "\n",
    "graduates = stats.norm(μ, σ)\n",
    "\n",
    "top_5_percent_cutoff = graduates.ppf(.95)\n",
    "\n",
    "print('{:.2f}'.format(top_5_percent_cutoff))\n"
   ]
  },
  {
   "cell_type": "code",
   "execution_count": 41,
   "id": "4d4a3fe9",
   "metadata": {},
   "outputs": [
    {
     "name": "stdout",
     "output_type": "stream",
     "text": [
      "3.31\n"
     ]
    }
   ],
   "source": [
    "μ = 3\n",
    "σ = .3\n",
    "\n",
    "graduates = stats.norm(μ, σ)\n",
    "\n",
    "top_5_percent_cutoff = graduates.ppf(.85)\n",
    "\n",
    "print('{:.2f}'.format(top_15_percent_cutoff))\n"
   ]
  },
  {
   "cell_type": "code",
   "execution_count": 58,
   "id": "a59b4b2b",
   "metadata": {},
   "outputs": [
    {
     "name": "stdout",
     "output_type": "stream",
     "text": [
      "2.83\n"
     ]
    }
   ],
   "source": [
    "μ = 3\n",
    "σ = .3\n",
    "\n",
    "graduates = stats.norm(μ, σ)\n",
    "\n",
    "top_5_percent_cutoff = graduates.ppf(.29)\n",
    "\n",
    "print('{:.2f}'.format(top_71_percent_cutoff))"
   ]
  },
  {
   "cell_type": "code",
   "execution_count": 60,
   "id": "88defb20",
   "metadata": {},
   "outputs": [
    {
     "name": "stdout",
     "output_type": "stream",
     "text": [
      "3.49\n"
     ]
    }
   ],
   "source": [
    "μ = 3\n",
    "σ = .3\n",
    "\n",
    "graduates = stats.norm(μ, σ)\n",
    "\n",
    "top_5_percent_cutoff = graduates.ppf(.95)\n",
    "\n",
    "print('{:.2f}'.format(top_5_percent_cutoff))"
   ]
  },
  {
   "cell_type": "markdown",
   "id": "cc9cc424",
   "metadata": {},
   "source": [
    "95th percentile is for students who score higher than a 3.49 GPA."
   ]
  },
  {
   "cell_type": "markdown",
   "id": "19666c23",
   "metadata": {},
   "source": [
    "#### You are working on some statistics homework consisting of 100 questions where all of the answers are a probability rounded to the hundreths place. \n",
    "#### Looking to save time, you put down random probabilities as the answer to each question.\n",
    "\n",
    "- What is the probability that at least one of your first 60 answers is correct?\n"
   ]
  },
  {
   "cell_type": "code",
   "execution_count": 61,
   "id": "65c4cc79",
   "metadata": {},
   "outputs": [
    {
     "data": {
      "text/plain": [
       "2.8683119280820325e-14"
      ]
     },
     "execution_count": 61,
     "metadata": {},
     "output_type": "execute_result"
    }
   ],
   "source": [
    "stats.binom(100, .25).sf(60)"
   ]
  },
  {
   "cell_type": "markdown",
   "id": "b8816f5c",
   "metadata": {},
   "source": [
    "The codeup staff tends to get upset when the student break area is not cleaned up. \n",
    "- Suppose that there's a 3% chance that any one student cleans the break area when they visit it, and, on any given day, about 90% of the 3 active cohorts of 22 students visit the break area. \n",
    "- How likely is it that the break area gets cleaned up each day? \n",
    "- How likely is it that it goes two days without getting cleaned up? All week?"
   ]
  },
  {
   "cell_type": "code",
   "execution_count": 87,
   "id": "26507c6c",
   "metadata": {},
   "outputs": [
    {
     "name": "stdout",
     "output_type": "stream",
     "text": [
      "On any given day, there's a 60.9% chance someone cleans the break room.\n"
     ]
    }
   ],
   "source": [
    "### Two outcomes\n",
    "# Codeup student cleans\n",
    "# Codeup student not cleans\n",
    "\n",
    "# A class of 76 people\n",
    "# p(cleans) = 0.03\n",
    "# p(not clean) = 0.97\n",
    "\n",
    "# 20 people on-time\n",
    "# 0 people late\n",
    "\n",
    "p = stats.binom(68, 0.03).sf(1)\n",
    "print(f'On any given day, there\\'s a {p:.1%} chance someone cleans the break room.')"
   ]
  },
  {
   "cell_type": "code",
   "execution_count": 129,
   "id": "e67082b7",
   "metadata": {},
   "outputs": [],
   "source": [
    "### Two outcomes\n",
    "# Codeup student cleans\n",
    "# Codeup student not cleans\n",
    "\n",
    "# A class of 76 people\n",
    "# p(cleans) = 0.03\n",
    "# p(not clean) = 0.97\n",
    "\n",
    "# 20 people on-time\n",
    "# 0 people late\n"
   ]
  },
  {
   "cell_type": "code",
   "execution_count": 126,
   "id": "e7d0c83b",
   "metadata": {},
   "outputs": [
    {
     "data": {
      "text/plain": [
       "0.6089136200135485"
      ]
     },
     "execution_count": 126,
     "metadata": {},
     "output_type": "execute_result"
    }
   ],
   "source": [
    "p = stats.binom(68, .03).sf(1)\n",
    "p"
   ]
  },
  {
   "cell_type": "code",
   "execution_count": 130,
   "id": "72743450",
   "metadata": {},
   "outputs": [],
   "source": [
    "p = stats.binom(68, .03).sf(1)\n"
   ]
  },
  {
   "cell_type": "markdown",
   "id": "e7ab8b01",
   "metadata": {},
   "source": [
    "#### You want to get lunch at La Panaderia, but notice that the line is usually very long at lunchtime. \n",
    "#### After several weeks of careful observation, you notice that the average number of people in line when your lunch break starts is normally distributed with a mean of 15 and standard deviation of 3. \n",
    "- If it takes 2 minutes for each person to order, and 10 minutes from ordering to getting your food, what is the likelihood that you have at least 15 minutes left to eat your food before you have to go back to class? \n",
    "- Assume you have one hour for lunch, and ignore travel time to and from La Panaderia."
   ]
  },
  {
   "cell_type": "code",
   "execution_count": 154,
   "id": "0d060ba5",
   "metadata": {},
   "outputs": [
    {
     "data": {
      "text/plain": [
       "0.75"
      ]
     },
     "execution_count": 154,
     "metadata": {},
     "output_type": "execute_result"
    }
   ],
   "source": [
    "line = stats.randint(1,17)\n",
    "μ = 15\n",
    "σ = 3\n",
    "# each person is 2 minutes to place order\n",
    "# 10 minutes from ordering for each person\n",
    "# 180 minutes ~ 15 people in line\n",
    "\n",
    "lunch = stats.norm(μ, σ)\n",
    "\n",
    "line.sf(4)"
   ]
  },
  {
   "cell_type": "code",
   "execution_count": null,
   "id": "cf1031a8",
   "metadata": {},
   "outputs": [],
   "source": [
    "\n"
   ]
  },
  {
   "cell_type": "code",
   "execution_count": null,
   "id": "098aff60",
   "metadata": {},
   "outputs": [],
   "source": []
  },
  {
   "cell_type": "code",
   "execution_count": null,
   "id": "578a4ebd",
   "metadata": {},
   "outputs": [],
   "source": []
  },
  {
   "cell_type": "code",
   "execution_count": null,
   "id": "6e16ff7b",
   "metadata": {},
   "outputs": [],
   "source": []
  }
 ],
 "metadata": {
  "kernelspec": {
   "display_name": "Python 3 (ipykernel)",
   "language": "python",
   "name": "python3"
  },
  "language_info": {
   "codemirror_mode": {
    "name": "ipython",
    "version": 3
   },
   "file_extension": ".py",
   "mimetype": "text/x-python",
   "name": "python",
   "nbconvert_exporter": "python",
   "pygments_lexer": "ipython3",
   "version": "3.9.13"
  }
 },
 "nbformat": 4,
 "nbformat_minor": 5
}
